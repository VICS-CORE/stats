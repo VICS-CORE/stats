{
 "cells": [
  {
   "cell_type": "code",
   "execution_count": 1,
   "metadata": {},
   "outputs": [],
   "source": [
    "import scipy.integrate\n",
    "import numpy as np\n",
    "import pandas as pd"
   ]
  },
  {
   "cell_type": "code",
   "execution_count": 2,
   "metadata": {},
   "outputs": [],
   "source": [
    "R0 =  2.2 #2.2 #Reproduction number\n",
    "D_incubation =  5.2 #Length of incubation period\n",
    "D_infectious =  1 # Duration patient is infectious\n",
    "population =  1380004000 # 1,38,00,04,000 # Source WHO 2020 "
   ]
  },
  {
   "cell_type": "code",
   "execution_count": 3,
   "metadata": {},
   "outputs": [],
   "source": [
    "def model(y, t, D_inf = D_infectious, Rt = R0):\n",
    "    # :param array y: S E I R values\n",
    "    # :param array t: Time array (days)\n",
    "    \n",
    "    N = population\n",
    "    beta = Rt / D_inf\n",
    "    sigma = 1 / D_incubation\n",
    "    gamma = 1 / D_inf\n",
    "    \n",
    "    S, E, I, R = y\n",
    "    \n",
    "    dS = -beta * S * I / N\n",
    "    dE = beta * S * I / N - sigma * E\n",
    "    dI = sigma * E - gamma * I\n",
    "    dR = gamma * I\n",
    "\n",
    "    return ([dS, dE, dI, dR])"
   ]
  },
  {
   "cell_type": "code",
   "execution_count": 4,
   "metadata": {},
   "outputs": [],
   "source": [
    "def solve(model, population, E0, D_inf, Rt):\n",
    "    T = np.arange(365)\n",
    "    Y0 = population - E0, E0, 0, 0 # S, E, I, R at initial step\n",
    "\n",
    "    y_data_var = scipy.integrate.odeint(model, Y0, T, args=(D_inf, Rt))\n",
    "    S, E, I, R = y_data_var.T  # transpose and unpack\n",
    "    return T, S, E, I, R"
   ]
  },
  {
   "cell_type": "code",
   "execution_count": 6,
   "metadata": {},
   "outputs": [
    {
     "name": "stdout",
     "output_type": "stream",
     "text": [
      "Plotting the variation of initial infected population\n",
      "Initial Population = 1 Peak day = 125 Peak infected = 41,470,116 Peak Death = 1,244,103\n",
      "Initial Population = 100 Peak day = 98 Peak infected = 41,481,896 Peak Death = 1,244,457\n",
      "Initial Population = 1000 Peak day = 84 Peak infected = 41,432,907 Peak Death = 1,242,987\n",
      "Initial Population = 10000 Peak day = 71 Peak infected = 41,481,062 Peak Death = 1,244,432\n"
     ]
    }
   ],
   "source": [
    "print(\"Plotting the variation of initial infected population\")\n",
    "for initp in [1,100,1000,10000]:\n",
    "    X, S, E, I, R = solve(model, population, initp, D_infectious, R0)\n",
    "    i_peak = np.amax(I)\n",
    "    day = np.where(i_peak == I)\n",
    "    print(\"Initial Population =\", initp, \"Peak day =\" ,day[0][0], \"Peak infected =\", f\"{i_peak:,.0f}\", \"Peak Death =\", f\"{(i_peak*0.03):,.0f}\")\n",
    "    "
   ]
  },
  {
   "cell_type": "markdown",
   "metadata": {},
   "source": [
    "The above table shows that the Peak day gets effected by the initial number of cases reported"
   ]
  },
  {
   "cell_type": "code",
   "execution_count": null,
   "metadata": {},
   "outputs": [],
   "source": [
    "r = pd.DataFrame({\n",
    "    \"Day\": X,\n",
    "    \"S\": S,\n",
    "    \"E\": E,\n",
    "    \"I\": I,\n",
    "    \"R\": R\n",
    "})\n",
    "r.plot(\n",
    "    x = \"Day\",\n",
    "    y = [\"E\", \"I\"],\n",
    "    grid = True,\n",
    "    figsize = (10, 5)\n",
    ")\n",
    "\n",
    "# Scales are different hence plotting separately\n",
    "r.plot(\n",
    "    x = \"Day\",\n",
    "    y = [\"S\", \"R\"],\n",
    "    grid = True,\n",
    "    figsize = (10, 5)\n",
    ")"
   ]
  },
  {
   "cell_type": "code",
   "execution_count": 7,
   "metadata": {},
   "outputs": [
    {
     "name": "stdout",
     "output_type": "stream",
     "text": [
      "Plotting the variation of R0\n",
      "R0 = 1.1 Peak day = 364 Peak infected = 155 Peak Death = 5\n",
      "R0 = 1.4 Peak day = 300 Peak infected = 10,093,044 Peak Death = 302,791\n",
      "R0 = 1.5 Peak day = 248 Peak infected = 14,015,652 Peak Death = 420,470\n",
      "R0 = 2.0 Peak day = 138 Peak infected = 34,054,931 Peak Death = 1,021,648\n",
      "R0 = 2.2 Peak day = 119 Peak infected = 41,470,420 Peak Death = 1,244,113\n",
      "R0 = 2.5 Peak day = 99 Peak infected = 51,696,732 Peak Death = 1,550,902\n",
      "R0 = 3.0 Peak day = 79 Peak infected = 66,313,560 Peak Death = 1,989,407\n"
     ]
    }
   ],
   "source": [
    "print(\"Plotting the variation of R0\")\n",
    "for Rt in [1.1,1.4,1.5,2.0,2.2,2.5,3.0]:\n",
    "    X, S, E, I, R = solve(model, population, 3, D_infectious, Rt)\n",
    "    i_peak = np.amax(I)\n",
    "    day = np.where(i_peak == I)\n",
    "    print(\"R0 =\", Rt, \"Peak day =\" ,day[0][0], \"Peak infected =\", f\"{i_peak:,.0f}\", \"Peak Death =\", f\"{(i_peak*0.03):,.0f}\")\n",
    "    "
   ]
  },
  {
   "cell_type": "code",
   "execution_count": null,
   "metadata": {},
   "outputs": [],
   "source": [
    "print(\"Plotting the variation of D_infectious\")\n",
    "for D_infectious in [1.1,1.4,1.5,2.0,2.2,2.5,3.0]:\n",
    "    X, S, E, I, R = solve(model, population, 3, D_infectious, R0)\n",
    "    i_peak = np.amax(I)\n",
    "    day = np.where(i_peak == I)\n",
    "    print(\"D_infectious =\", D_infectious, \"Peak day =\" ,day[0][0], \"Peak Death =\", f\"{(i_peak*0.03):,.0f}\")\n",
    "    r = pd.DataFrame({\n",
    "    \"Day\": X,\n",
    "    \"S\": S,\n",
    "    \"E\": E,\n",
    "    \"I\": I,\n",
    "    \"R\": R\n",
    "    })\n",
    "    \n",
    "    # Scales are different hence plotting separately\n",
    "    r.plot(\n",
    "        x = \"Day\",\n",
    "        y = [\"S\", \"R\"],\n",
    "        grid = True,\n",
    "        #subplots = True,\n",
    "        figsize = (10, 5)\n",
    "    )\n",
    "    "
   ]
  },
  {
   "cell_type": "code",
   "execution_count": null,
   "metadata": {},
   "outputs": [],
   "source": []
  }
 ],
 "metadata": {
  "kernelspec": {
   "display_name": "Python 3",
   "language": "python",
   "name": "python3"
  },
  "language_info": {
   "codemirror_mode": {
    "name": "ipython",
    "version": 3
   },
   "file_extension": ".py",
   "mimetype": "text/x-python",
   "name": "python",
   "nbconvert_exporter": "python",
   "pygments_lexer": "ipython3",
   "version": "3.7.6"
  }
 },
 "nbformat": 4,
 "nbformat_minor": 4
}
