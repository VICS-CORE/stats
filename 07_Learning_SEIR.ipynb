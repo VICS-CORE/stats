{
 "cells": [
  {
   "cell_type": "code",
   "execution_count": 42,
   "metadata": {},
   "outputs": [],
   "source": [
    "import requests as rq\n",
    "import pandas as pd\n",
    "import numpy as np\n",
    "import datetime as dt\n",
    "import traceback as tb\n",
    "from scipy import optimize as op"
   ]
  },
  {
   "cell_type": "code",
   "execution_count": 12,
   "metadata": {},
   "outputs": [],
   "source": [
    "# get daily time series data from covid19india\n",
    "resp = rq.get(\"https://api.covid19india.org/data.json\")\n",
    "ts = resp.json()['cases_time_series']\n",
    "\n",
    "r = {\n",
    "    \"date\": [],\n",
    "    \"confirmed\": [],\n",
    "    \"deceased\": [],\n",
    "    \"recovered\": []\n",
    "}\n",
    "\n",
    "for d in ts:\n",
    "    try:\n",
    "        r['date'].append(dt.datetime.strptime(d['date'] + \"2020\", '%d %B %Y'))\n",
    "        r['confirmed'].append(int(d['dailyconfirmed']))\n",
    "        r['deceased'].append(int(d['dailydeceased']))\n",
    "        r['recovered'].append(int(d['dailyrecovered']))\n",
    "    except Exception as e:\n",
    "        print(d['date'])\n",
    "        tb.print_exc()\n",
    "\n",
    "df = pd.DataFrame(r)\n",
    "df.sort_values('date', inplace=True)"
   ]
  },
  {
   "cell_type": "code",
   "execution_count": 13,
   "metadata": {},
   "outputs": [
    {
     "data": {
      "text/html": [
       "<div>\n",
       "<style scoped>\n",
       "    .dataframe tbody tr th:only-of-type {\n",
       "        vertical-align: middle;\n",
       "    }\n",
       "\n",
       "    .dataframe tbody tr th {\n",
       "        vertical-align: top;\n",
       "    }\n",
       "\n",
       "    .dataframe thead th {\n",
       "        text-align: right;\n",
       "    }\n",
       "</style>\n",
       "<table border=\"1\" class=\"dataframe\">\n",
       "  <thead>\n",
       "    <tr style=\"text-align: right;\">\n",
       "      <th></th>\n",
       "      <th>date</th>\n",
       "      <th>confirmed</th>\n",
       "      <th>deceased</th>\n",
       "      <th>recovered</th>\n",
       "    </tr>\n",
       "  </thead>\n",
       "  <tbody>\n",
       "    <tr>\n",
       "      <th>0</th>\n",
       "      <td>2020-01-30</td>\n",
       "      <td>1</td>\n",
       "      <td>0</td>\n",
       "      <td>0</td>\n",
       "    </tr>\n",
       "    <tr>\n",
       "      <th>1</th>\n",
       "      <td>2020-01-31</td>\n",
       "      <td>0</td>\n",
       "      <td>0</td>\n",
       "      <td>0</td>\n",
       "    </tr>\n",
       "    <tr>\n",
       "      <th>2</th>\n",
       "      <td>2020-02-01</td>\n",
       "      <td>0</td>\n",
       "      <td>0</td>\n",
       "      <td>0</td>\n",
       "    </tr>\n",
       "    <tr>\n",
       "      <th>3</th>\n",
       "      <td>2020-02-02</td>\n",
       "      <td>1</td>\n",
       "      <td>0</td>\n",
       "      <td>0</td>\n",
       "    </tr>\n",
       "    <tr>\n",
       "      <th>4</th>\n",
       "      <td>2020-02-03</td>\n",
       "      <td>1</td>\n",
       "      <td>0</td>\n",
       "      <td>0</td>\n",
       "    </tr>\n",
       "  </tbody>\n",
       "</table>\n",
       "</div>"
      ],
      "text/plain": [
       "        date  confirmed  deceased  recovered\n",
       "0 2020-01-30          1         0          0\n",
       "1 2020-01-31          0         0          0\n",
       "2 2020-02-01          0         0          0\n",
       "3 2020-02-02          1         0          0\n",
       "4 2020-02-03          1         0          0"
      ]
     },
     "execution_count": 13,
     "metadata": {},
     "output_type": "execute_result"
    }
   ],
   "source": [
    "df.head()"
   ]
  },
  {
   "cell_type": "code",
   "execution_count": 38,
   "metadata": {},
   "outputs": [
    {
     "data": {
      "text/html": [
       "<div>\n",
       "<style scoped>\n",
       "    .dataframe tbody tr th:only-of-type {\n",
       "        vertical-align: middle;\n",
       "    }\n",
       "\n",
       "    .dataframe tbody tr th {\n",
       "        vertical-align: top;\n",
       "    }\n",
       "\n",
       "    .dataframe thead th {\n",
       "        text-align: right;\n",
       "    }\n",
       "</style>\n",
       "<table border=\"1\" class=\"dataframe\">\n",
       "  <thead>\n",
       "    <tr style=\"text-align: right;\">\n",
       "      <th></th>\n",
       "      <th>date</th>\n",
       "      <th>confirmed</th>\n",
       "      <th>deceased</th>\n",
       "      <th>recovered</th>\n",
       "    </tr>\n",
       "  </thead>\n",
       "  <tbody>\n",
       "    <tr>\n",
       "      <th>37</th>\n",
       "      <td>2020-03-07</td>\n",
       "      <td>3</td>\n",
       "      <td>0</td>\n",
       "      <td>0</td>\n",
       "    </tr>\n",
       "    <tr>\n",
       "      <th>38</th>\n",
       "      <td>2020-03-08</td>\n",
       "      <td>5</td>\n",
       "      <td>0</td>\n",
       "      <td>0</td>\n",
       "    </tr>\n",
       "    <tr>\n",
       "      <th>39</th>\n",
       "      <td>2020-03-09</td>\n",
       "      <td>9</td>\n",
       "      <td>0</td>\n",
       "      <td>0</td>\n",
       "    </tr>\n",
       "    <tr>\n",
       "      <th>40</th>\n",
       "      <td>2020-03-10</td>\n",
       "      <td>15</td>\n",
       "      <td>0</td>\n",
       "      <td>1</td>\n",
       "    </tr>\n",
       "    <tr>\n",
       "      <th>41</th>\n",
       "      <td>2020-03-11</td>\n",
       "      <td>8</td>\n",
       "      <td>0</td>\n",
       "      <td>0</td>\n",
       "    </tr>\n",
       "  </tbody>\n",
       "</table>\n",
       "</div>"
      ],
      "text/plain": [
       "         date  confirmed  deceased  recovered\n",
       "37 2020-03-07          3         0          0\n",
       "38 2020-03-08          5         0          0\n",
       "39 2020-03-09          9         0          0\n",
       "40 2020-03-10         15         0          1\n",
       "41 2020-03-11          8         0          0"
      ]
     },
     "execution_count": 38,
     "metadata": {},
     "output_type": "execute_result"
    }
   ],
   "source": [
    "fdf = df[37:][:]\n",
    "fdf.head()"
   ]
  },
  {
   "cell_type": "code",
   "execution_count": 39,
   "metadata": {},
   "outputs": [
    {
     "data": {
      "text/plain": [
       "<matplotlib.axes._subplots.AxesSubplot at 0x7f0d722f8470>"
      ]
     },
     "execution_count": 39,
     "metadata": {},
     "output_type": "execute_result"
    },
    {
     "data": {
      "image/png": "[encoded data removed]",
      "text/plain": [
       "<Figure size 504x216 with 1 Axes>"
      ]
     },
     "metadata": {
      "needs_background": "light"
     },
     "output_type": "display_data"
    }
   ],
   "source": [
    "fdf.plot(\n",
    "    x='date',\n",
    "    y=['confirmed', 'recovered', 'deceased'],\n",
    "    figsize=(7,3),\n",
    "    grid=True\n",
    ")"
   ]
  },
  {
   "cell_type": "code",
   "execution_count": 30,
   "metadata": {},
   "outputs": [
    {
     "data": {
      "text/html": [
       "<div>\n",
       "<style scoped>\n",
       "    .dataframe tbody tr th:only-of-type {\n",
       "        vertical-align: middle;\n",
       "    }\n",
       "\n",
       "    .dataframe tbody tr th {\n",
       "        vertical-align: top;\n",
       "    }\n",
       "\n",
       "    .dataframe thead th {\n",
       "        text-align: right;\n",
       "    }\n",
       "</style>\n",
       "<table border=\"1\" class=\"dataframe\">\n",
       "  <thead>\n",
       "    <tr style=\"text-align: right;\">\n",
       "      <th></th>\n",
       "      <th>date</th>\n",
       "      <th>confirmed</th>\n",
       "      <th>deceased</th>\n",
       "      <th>recovered</th>\n",
       "      <th>r0</th>\n",
       "      <th>sma_r0</th>\n",
       "    </tr>\n",
       "  </thead>\n",
       "  <tbody>\n",
       "    <tr>\n",
       "      <th>37</th>\n",
       "      <td>2020-03-07</td>\n",
       "      <td>3</td>\n",
       "      <td>0</td>\n",
       "      <td>0</td>\n",
       "      <td>3.000000</td>\n",
       "      <td>1.744742</td>\n",
       "    </tr>\n",
       "    <tr>\n",
       "      <th>38</th>\n",
       "      <td>2020-03-08</td>\n",
       "      <td>5</td>\n",
       "      <td>0</td>\n",
       "      <td>0</td>\n",
       "      <td>1.666667</td>\n",
       "      <td>1.653413</td>\n",
       "    </tr>\n",
       "    <tr>\n",
       "      <th>39</th>\n",
       "      <td>2020-03-09</td>\n",
       "      <td>9</td>\n",
       "      <td>0</td>\n",
       "      <td>0</td>\n",
       "      <td>1.800000</td>\n",
       "      <td>1.574489</td>\n",
       "    </tr>\n",
       "    <tr>\n",
       "      <th>40</th>\n",
       "      <td>2020-03-10</td>\n",
       "      <td>15</td>\n",
       "      <td>0</td>\n",
       "      <td>1</td>\n",
       "      <td>1.666667</td>\n",
       "      <td>1.509952</td>\n",
       "    </tr>\n",
       "    <tr>\n",
       "      <th>41</th>\n",
       "      <td>2020-03-11</td>\n",
       "      <td>8</td>\n",
       "      <td>0</td>\n",
       "      <td>0</td>\n",
       "      <td>0.533333</td>\n",
       "      <td>1.375006</td>\n",
       "    </tr>\n",
       "  </tbody>\n",
       "</table>\n",
       "</div>"
      ],
      "text/plain": [
       "         date  confirmed  deceased  recovered        r0    sma_r0\n",
       "37 2020-03-07          3         0          0  3.000000  1.744742\n",
       "38 2020-03-08          5         0          0  1.666667  1.653413\n",
       "39 2020-03-09          9         0          0  1.800000  1.574489\n",
       "40 2020-03-10         15         0          1  1.666667  1.509952\n",
       "41 2020-03-11          8         0          0  0.533333  1.375006"
      ]
     },
     "execution_count": 30,
     "metadata": {},
     "output_type": "execute_result"
    }
   ],
   "source": [
    "fdf['r0'] = fdf['confirmed'] / fdf['confirmed'].shift(1, fill_value=1)\n",
    "fdf['sma_r0'] = fdf['r0'].rolling(7, min_periods=1, center=True).mean().rolling(7, min_periods=1, center=True).mean()\n",
    "fdf.head()"
   ]
  },
  {
   "cell_type": "code",
   "execution_count": 35,
   "metadata": {},
   "outputs": [
    {
     "data": {
      "image/png": "[encoded data removed]",
      "text/plain": [
       "<Figure size 432x288 with 1 Axes>"
      ]
     },
     "metadata": {
      "needs_background": "light"
     },
     "output_type": "display_data"
    }
   ],
   "source": [
    "ax = fdf.plot(\n",
    "    x='date',\n",
    "    y=['r0', 'sma_r0'],\n",
    "    grid=True\n",
    ")\n",
    "ax.tick_params(labeltop=False, labelright=True)"
   ]
  },
  {
   "cell_type": "code",
   "execution_count": 68,
   "metadata": {},
   "outputs": [
    {
     "name": "stdout",
     "output_type": "stream",
     "text": [
      "actual output: ['10.00', '12.00', '18.00', '28.00', '42.00', '60.00', '82.00', '108.00', '138.00', '172.00']\n",
      "values to fit: ['10.00', '11.96', '17.74', '28.14', '44.11', '62.38', '88.45', '116.63', '139.77', '178.88']\n",
      "param: [ 2.08587851 10.35996481]\n",
      "covar:\n",
      " [[ 7.76771438e-04 -2.21379864e-02]\n",
      " [-2.21379864e-02  1.19102373e+00]]\n"
     ]
    }
   ],
   "source": [
    "# define a simple function\n",
    "def y(x, a, b):\n",
    "    return a * x * x + b\n",
    "\n",
    "# generate multiplier between 0.9 and 1.1 to produce test data for fitting\n",
    "import random\n",
    "def m():\n",
    "    return 0.9 + 0.2 * random.random()\n",
    "\n",
    "test_data = [2 * x * x * m() + 10 for x in range(10)] # so a=2 and b=10 in test data\n",
    "print(\"actual output:\", [f\"{y(i, 2, 10):0.2f}\" for i in range(10)])\n",
    "print(\"values to fit:\", [f\"{i:0.2f}\" for i in test_data])\n",
    "\n",
    "# fit test data to function and try to find params\n",
    "out = op.curve_fit(y, np.arange(10), test_data)\n",
    "print (\"param:\", out[0])\n",
    "print (\"covar:\\n\", out[1])"
   ]
  }
 ],
 "metadata": {
  "kernelspec": {
   "display_name": "Python 3",
   "language": "python",
   "name": "python3"
  },
  "language_info": {
   "codemirror_mode": {
    "name": "ipython",
    "version": 3
   },
   "file_extension": ".py",
   "mimetype": "text/x-python",
   "name": "python",
   "nbconvert_exporter": "python",
   "pygments_lexer": "ipython3",
   "version": "3.7.3"
  }
 },
 "nbformat": 4,
 "nbformat_minor": 4
}
