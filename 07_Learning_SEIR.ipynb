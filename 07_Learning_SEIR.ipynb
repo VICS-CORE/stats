{
 "cells": [
  {
   "cell_type": "markdown",
   "metadata": {},
   "source": [
    "### Imports"
   ]
  },
  {
   "cell_type": "code",
   "execution_count": 26,
   "metadata": {},
   "outputs": [],
   "source": [
    "import requests as rq\n",
    "import pandas as pd\n",
    "import numpy as np\n",
    "import datetime as dt\n",
    "import traceback as tb\n",
    "\n",
    "from scipy import optimize\n",
    "from scipy import integrate"
   ]
  },
  {
   "cell_type": "markdown",
   "metadata": {},
   "source": [
    "### Download & plot data"
   ]
  },
  {
   "cell_type": "code",
   "execution_count": 27,
   "metadata": {},
   "outputs": [],
   "source": [
    "# get daily time series data from covid19india\n",
    "resp = rq.get(\"https://api.covid19india.org/data.json\")\n",
    "ts = resp.json()['cases_time_series']\n",
    "\n",
    "r = {\n",
    "    \"date\": [],\n",
    "    \"confirmed\": [],\n",
    "    \"deceased\": [],\n",
    "    \"recovered\": []\n",
    "}\n",
    "\n",
    "for d in ts:\n",
    "    try:\n",
    "        r['date'].append(dt.datetime.strptime(d['date'] + \"2020\", '%d %B %Y'))\n",
    "        r['confirmed'].append(int(d['dailyconfirmed']))\n",
    "        r['deceased'].append(int(d['dailydeceased']))\n",
    "        r['recovered'].append(int(d['dailyrecovered']))\n",
    "    except Exception as e:\n",
    "        print(d['date'])\n",
    "        tb.print_exc()\n",
    "\n",
    "df = pd.DataFrame(r)\n",
    "df.sort_values('date', inplace=True)"
   ]
  },
  {
   "cell_type": "code",
   "execution_count": 28,
   "metadata": {},
   "outputs": [
    {
     "data": {
      "text/html": [
       "<div>\n",
       "<style scoped>\n",
       "    .dataframe tbody tr th:only-of-type {\n",
       "        vertical-align: middle;\n",
       "    }\n",
       "\n",
       "    .dataframe tbody tr th {\n",
       "        vertical-align: top;\n",
       "    }\n",
       "\n",
       "    .dataframe thead th {\n",
       "        text-align: right;\n",
       "    }\n",
       "</style>\n",
       "<table border=\"1\" class=\"dataframe\">\n",
       "  <thead>\n",
       "    <tr style=\"text-align: right;\">\n",
       "      <th></th>\n",
       "      <th>date</th>\n",
       "      <th>confirmed</th>\n",
       "      <th>deceased</th>\n",
       "      <th>recovered</th>\n",
       "    </tr>\n",
       "  </thead>\n",
       "  <tbody>\n",
       "    <tr>\n",
       "      <th>0</th>\n",
       "      <td>2020-01-30</td>\n",
       "      <td>1</td>\n",
       "      <td>0</td>\n",
       "      <td>0</td>\n",
       "    </tr>\n",
       "    <tr>\n",
       "      <th>1</th>\n",
       "      <td>2020-01-31</td>\n",
       "      <td>0</td>\n",
       "      <td>0</td>\n",
       "      <td>0</td>\n",
       "    </tr>\n",
       "    <tr>\n",
       "      <th>2</th>\n",
       "      <td>2020-02-01</td>\n",
       "      <td>0</td>\n",
       "      <td>0</td>\n",
       "      <td>0</td>\n",
       "    </tr>\n",
       "    <tr>\n",
       "      <th>3</th>\n",
       "      <td>2020-02-02</td>\n",
       "      <td>1</td>\n",
       "      <td>0</td>\n",
       "      <td>0</td>\n",
       "    </tr>\n",
       "    <tr>\n",
       "      <th>4</th>\n",
       "      <td>2020-02-03</td>\n",
       "      <td>1</td>\n",
       "      <td>0</td>\n",
       "      <td>0</td>\n",
       "    </tr>\n",
       "  </tbody>\n",
       "</table>\n",
       "</div>"
      ],
      "text/plain": [
       "        date  confirmed  deceased  recovered\n",
       "0 2020-01-30          1         0          0\n",
       "1 2020-01-31          0         0          0\n",
       "2 2020-02-01          0         0          0\n",
       "3 2020-02-02          1         0          0\n",
       "4 2020-02-03          1         0          0"
      ]
     },
     "execution_count": 28,
     "metadata": {},
     "output_type": "execute_result"
    }
   ],
   "source": [
    "df.head()"
   ]
  },
  {
   "cell_type": "code",
   "execution_count": 29,
   "metadata": {},
   "outputs": [
    {
     "data": {
      "text/html": [
       "<div>\n",
       "<style scoped>\n",
       "    .dataframe tbody tr th:only-of-type {\n",
       "        vertical-align: middle;\n",
       "    }\n",
       "\n",
       "    .dataframe tbody tr th {\n",
       "        vertical-align: top;\n",
       "    }\n",
       "\n",
       "    .dataframe thead th {\n",
       "        text-align: right;\n",
       "    }\n",
       "</style>\n",
       "<table border=\"1\" class=\"dataframe\">\n",
       "  <thead>\n",
       "    <tr style=\"text-align: right;\">\n",
       "      <th></th>\n",
       "      <th>date</th>\n",
       "      <th>confirmed</th>\n",
       "      <th>deceased</th>\n",
       "      <th>recovered</th>\n",
       "      <th>dailyactive</th>\n",
       "      <th>active</th>\n",
       "    </tr>\n",
       "  </thead>\n",
       "  <tbody>\n",
       "    <tr>\n",
       "      <th>0</th>\n",
       "      <td>2020-03-07</td>\n",
       "      <td>3</td>\n",
       "      <td>0</td>\n",
       "      <td>0</td>\n",
       "      <td>3</td>\n",
       "      <td>3</td>\n",
       "    </tr>\n",
       "    <tr>\n",
       "      <th>1</th>\n",
       "      <td>2020-03-08</td>\n",
       "      <td>5</td>\n",
       "      <td>0</td>\n",
       "      <td>0</td>\n",
       "      <td>5</td>\n",
       "      <td>8</td>\n",
       "    </tr>\n",
       "    <tr>\n",
       "      <th>2</th>\n",
       "      <td>2020-03-09</td>\n",
       "      <td>9</td>\n",
       "      <td>0</td>\n",
       "      <td>0</td>\n",
       "      <td>9</td>\n",
       "      <td>17</td>\n",
       "    </tr>\n",
       "    <tr>\n",
       "      <th>3</th>\n",
       "      <td>2020-03-10</td>\n",
       "      <td>15</td>\n",
       "      <td>0</td>\n",
       "      <td>1</td>\n",
       "      <td>14</td>\n",
       "      <td>31</td>\n",
       "    </tr>\n",
       "    <tr>\n",
       "      <th>4</th>\n",
       "      <td>2020-03-11</td>\n",
       "      <td>8</td>\n",
       "      <td>0</td>\n",
       "      <td>0</td>\n",
       "      <td>8</td>\n",
       "      <td>39</td>\n",
       "    </tr>\n",
       "  </tbody>\n",
       "</table>\n",
       "</div>"
      ],
      "text/plain": [
       "        date  confirmed  deceased  recovered  dailyactive  active\n",
       "0 2020-03-07          3         0          0            3       3\n",
       "1 2020-03-08          5         0          0            5       8\n",
       "2 2020-03-09          9         0          0            9      17\n",
       "3 2020-03-10         15         0          1           14      31\n",
       "4 2020-03-11          8         0          0            8      39"
      ]
     },
     "execution_count": 29,
     "metadata": {},
     "output_type": "execute_result"
    }
   ],
   "source": [
    "# remove first 37 days of data. not consequential.\n",
    "fdf = df[37:][:]\n",
    "fdf.reset_index(drop=True, inplace=True)\n",
    "fdf['dailyactive'] = fdf['confirmed'] - fdf['recovered'] - fdf['deceased']\n",
    "fdf['active'] = fdf['dailyactive'].cumsum()\n",
    "fdf.head()"
   ]
  },
  {
   "cell_type": "code",
   "execution_count": 30,
   "metadata": {},
   "outputs": [
    {
     "data": {
      "text/plain": [
       "<matplotlib.axes._subplots.AxesSubplot at 0x7f90da4335c0>"
      ]
     },
     "execution_count": 30,
     "metadata": {},
     "output_type": "execute_result"
    },
    {
     "data": {
      "image/png": "[encoded data removed]",
      "text/plain": [
       "<Figure size 504x216 with 1 Axes>"
      ]
     },
     "metadata": {
      "needs_background": "light"
     },
     "output_type": "display_data"
    }
   ],
   "source": [
    "# plot downloaded data\n",
    "fdf.plot(\n",
    "    x='date',\n",
    "    y=['confirmed', 'recovered', 'deceased', 'dailyactive'],\n",
    "    figsize=(7,3),\n",
    "    grid=True\n",
    ")"
   ]
  },
  {
   "cell_type": "markdown",
   "metadata": {},
   "source": [
    "### Compute & plot Re (effective reproduction number)"
   ]
  },
  {
   "cell_type": "code",
   "execution_count": 31,
   "metadata": {},
   "outputs": [
    {
     "data": {
      "text/html": [
       "<div>\n",
       "<style scoped>\n",
       "    .dataframe tbody tr th:only-of-type {\n",
       "        vertical-align: middle;\n",
       "    }\n",
       "\n",
       "    .dataframe tbody tr th {\n",
       "        vertical-align: top;\n",
       "    }\n",
       "\n",
       "    .dataframe thead th {\n",
       "        text-align: right;\n",
       "    }\n",
       "</style>\n",
       "<table border=\"1\" class=\"dataframe\">\n",
       "  <thead>\n",
       "    <tr style=\"text-align: right;\">\n",
       "      <th></th>\n",
       "      <th>date</th>\n",
       "      <th>confirmed</th>\n",
       "      <th>deceased</th>\n",
       "      <th>recovered</th>\n",
       "      <th>dailyactive</th>\n",
       "      <th>active</th>\n",
       "      <th>sma_confirmed</th>\n",
       "      <th>re</th>\n",
       "    </tr>\n",
       "  </thead>\n",
       "  <tbody>\n",
       "    <tr>\n",
       "      <th>63</th>\n",
       "      <td>2020-05-09</td>\n",
       "      <td>3175</td>\n",
       "      <td>115</td>\n",
       "      <td>1414</td>\n",
       "      <td>1646</td>\n",
       "      <td>41435</td>\n",
       "      <td>3526.120408</td>\n",
       "      <td>1.019378</td>\n",
       "    </tr>\n",
       "    <tr>\n",
       "      <th>64</th>\n",
       "      <td>2020-05-10</td>\n",
       "      <td>4311</td>\n",
       "      <td>112</td>\n",
       "      <td>1669</td>\n",
       "      <td>2530</td>\n",
       "      <td>43965</td>\n",
       "      <td>3598.472449</td>\n",
       "      <td>1.020519</td>\n",
       "    </tr>\n",
       "    <tr>\n",
       "      <th>65</th>\n",
       "      <td>2020-05-11</td>\n",
       "      <td>3592</td>\n",
       "      <td>81</td>\n",
       "      <td>1579</td>\n",
       "      <td>1932</td>\n",
       "      <td>45897</td>\n",
       "      <td>3617.313095</td>\n",
       "      <td>1.005236</td>\n",
       "    </tr>\n",
       "    <tr>\n",
       "      <th>66</th>\n",
       "      <td>2020-05-12</td>\n",
       "      <td>3562</td>\n",
       "      <td>120</td>\n",
       "      <td>1905</td>\n",
       "      <td>1537</td>\n",
       "      <td>47434</td>\n",
       "      <td>3645.518571</td>\n",
       "      <td>1.007797</td>\n",
       "    </tr>\n",
       "    <tr>\n",
       "      <th>67</th>\n",
       "      <td>2020-05-13</td>\n",
       "      <td>3726</td>\n",
       "      <td>137</td>\n",
       "      <td>1963</td>\n",
       "      <td>1626</td>\n",
       "      <td>49060</td>\n",
       "      <td>3666.719643</td>\n",
       "      <td>1.005816</td>\n",
       "    </tr>\n",
       "  </tbody>\n",
       "</table>\n",
       "</div>"
      ],
      "text/plain": [
       "         date  confirmed  deceased  recovered  dailyactive  active  \\\n",
       "63 2020-05-09       3175       115       1414         1646   41435   \n",
       "64 2020-05-10       4311       112       1669         2530   43965   \n",
       "65 2020-05-11       3592        81       1579         1932   45897   \n",
       "66 2020-05-12       3562       120       1905         1537   47434   \n",
       "67 2020-05-13       3726       137       1963         1626   49060   \n",
       "\n",
       "    sma_confirmed        re  \n",
       "63    3526.120408  1.019378  \n",
       "64    3598.472449  1.020519  \n",
       "65    3617.313095  1.005236  \n",
       "66    3645.518571  1.007797  \n",
       "67    3666.719643  1.005816  "
      ]
     },
     "execution_count": 31,
     "metadata": {},
     "output_type": "execute_result"
    }
   ],
   "source": [
    "fdf['sma_confirmed'] = fdf['confirmed'].rolling(7, min_periods=1, center=True).mean().rolling(7, min_periods=1, center=True).mean()\n",
    "fdf['re'] = fdf['sma_confirmed'] / fdf['sma_confirmed'].shift(1, fill_value=1)\n",
    "#fdf['sma_re'] = fdf['re'].rolling(7, min_periods=1, center=True).mean().rolling(7, min_periods=1, center=True).mean()\n",
    "fdf.tail()"
   ]
  },
  {
   "cell_type": "code",
   "execution_count": 32,
   "metadata": {},
   "outputs": [
    {
     "data": {
      "image/png": "[encoded data removed]",
      "text/plain": [
       "<Figure size 432x288 with 1 Axes>"
      ]
     },
     "metadata": {
      "needs_background": "light"
     },
     "output_type": "display_data"
    }
   ],
   "source": [
    "ax = fdf[1:].plot(\n",
    "    x='date',\n",
    "    y=['re'],\n",
    "    grid=True\n",
    ")\n",
    "ax.tick_params(labeltop=False, labelright=True)"
   ]
  },
  {
   "cell_type": "markdown",
   "metadata": {},
   "source": [
    "### Learning to fit a sample curve"
   ]
  },
  {
   "cell_type": "code",
   "execution_count": 33,
   "metadata": {},
   "outputs": [
    {
     "name": "stdout",
     "output_type": "stream",
     "text": [
      "actual output: ['10.00', '12.00', '18.00', '28.00', '42.00', '60.00', '82.00', '108.00', '138.00', '172.00']\n",
      "values to fit: ['10.00', '12.00', '17.91', '29.32', '43.98', '56.47', '87.84', '103.27', '134.53', '187.19']\n",
      "param: [2.08110319 8.94004709]\n",
      "covar:\n",
      " [[ 4.40512260e-03 -1.25545996e-01]\n",
      " [-1.25545996e-01  6.75437417e+00]]\n"
     ]
    }
   ],
   "source": [
    "# define a simple function\n",
    "def y(x, a, b):\n",
    "    return a * x * x + b\n",
    "\n",
    "# generate multiplier between 0.9 and 1.1 to noisy test data for fitting\n",
    "import random\n",
    "def m():\n",
    "    return 0.9 + 0.2 * random.random()\n",
    "\n",
    "test_data = [2 * x * x * m() + 10 for x in range(10)] # so a=2 and b=10 in test data\n",
    "print(\"actual output:\", [f\"{y(i, 2, 10):0.2f}\" for i in range(10)])\n",
    "print(\"values to fit:\", [f\"{i:0.2f}\" for i in test_data])\n",
    "\n",
    "# fit test data to function and try to find params\n",
    "out = optimize.curve_fit(y, np.arange(10), test_data)\n",
    "print (\"param:\", out[0])\n",
    "print (\"covar:\\n\", out[1])"
   ]
  },
  {
   "cell_type": "markdown",
   "metadata": {},
   "source": [
    "### SIR Model"
   ]
  },
  {
   "cell_type": "code",
   "execution_count": 34,
   "metadata": {},
   "outputs": [],
   "source": [
    "def diff_eqns(y, t, beta, gamma, N):\n",
    "    St, It, Rt = y\n",
    "    dsdt = -beta * St * It / N\n",
    "    didt = beta * St * It / N - gamma * It\n",
    "    drdt = gamma * It\n",
    "    return [dsdt, didt, drdt]\n",
    "\n",
    "def sir_model(t, beta, gamma, I0, N):\n",
    "    S0 = N - I0\n",
    "    R0 = 0\n",
    "    out = integrate.odeint(diff_eqns, (S0, I0, R0), t, args=(beta, gamma, N))\n",
    "    S, I, R = out.T\n",
    "    return S, I, R"
   ]
  },
  {
   "cell_type": "markdown",
   "metadata": {},
   "source": [
    "### Sample plot of SIR model"
   ]
  },
  {
   "cell_type": "code",
   "execution_count": 35,
   "metadata": {},
   "outputs": [
    {
     "data": {
      "text/plain": [
       "<matplotlib.axes._subplots.AxesSubplot at 0x7f90da249c88>"
      ]
     },
     "execution_count": 35,
     "metadata": {},
     "output_type": "execute_result"
    },
    {
     "data": {
      "image/png": "[encoded data removed]",
      "text/plain": [
       "<Figure size 432x288 with 1 Axes>"
      ]
     },
     "metadata": {
      "needs_background": "light"
     },
     "output_type": "display_data"
    }
   ],
   "source": [
    "I0 = 3\n",
    "N = 1000\n",
    "beta = 0.5\n",
    "gamma = 0.2\n",
    "days = np.arange(100)\n",
    "S, I, R = sir_model(days, beta, gamma, I0, N)\n",
    "\n",
    "r = {\n",
    "    'Days': days,\n",
    "    'S': S,\n",
    "    'I': I,\n",
    "    'R': R\n",
    "}\n",
    "\n",
    "df = pd.DataFrame(r)\n",
    "df['N'] = df['S'] + df['I'] + df['R']\n",
    "\n",
    "df.plot(\n",
    "    'Days',\n",
    "    ['S', 'I', 'R', 'N']\n",
    ")"
   ]
  },
  {
   "cell_type": "markdown",
   "metadata": {},
   "source": [
    "### Try to fit the sample output back"
   ]
  },
  {
   "cell_type": "code",
   "execution_count": 36,
   "metadata": {},
   "outputs": [
    {
     "data": {
      "text/plain": [
       "(array([0.5, 0.2]), array([[4.23127455e-34, 1.88000344e-34],\n",
       "        [1.88000344e-34, 2.08497191e-34]]))"
      ]
     },
     "execution_count": 36,
     "metadata": {},
     "output_type": "execute_result"
    }
   ],
   "source": [
    "def sir_model_apartment_inf(days, beta, gamma):\n",
    "    I0 = 3\n",
    "    N = 1000\n",
    "    I = sir_model(days, beta, gamma, I0, N)[1]\n",
    "    return I\n",
    "\n",
    "days = np.arange(100)\n",
    "I = sir_model_apartment_inf(days, 0.5, 0.2)\n",
    "optimize.curve_fit(sir_model_apartment_inf, df['Days'], I)"
   ]
  },
  {
   "cell_type": "markdown",
   "metadata": {},
   "source": [
    "### Try to fit India's data"
   ]
  },
  {
   "cell_type": "code",
   "execution_count": 51,
   "metadata": {},
   "outputs": [
    {
     "name": "stdout",
     "output_type": "stream",
     "text": [
      "beta, gamma: [21.04788809 20.87411371]\n",
      "covariance:\n",
      " [[0.1766367  0.17633005]\n",
      " [0.17633005 0.17602549]]\n",
      "r0: 1.0083248746839693\n"
     ]
    },
    {
     "name": "stderr",
     "output_type": "stream",
     "text": [
      "/home/mayank/Apps/anaconda3/lib/python3.7/site-packages/ipykernel_launcher.py:3: RuntimeWarning: overflow encountered in double_scalars\n",
      "  This is separate from the ipykernel package so we can avoid doing imports until\n",
      "/home/mayank/Apps/anaconda3/lib/python3.7/site-packages/ipykernel_launcher.py:4: RuntimeWarning: overflow encountered in double_scalars\n",
      "  after removing the cwd from sys.path.\n",
      "/home/mayank/Apps/anaconda3/lib/python3.7/site-packages/ipykernel_launcher.py:5: RuntimeWarning: overflow encountered in double_scalars\n",
      "  \"\"\"\n"
     ]
    },
    {
     "data": {
      "text/plain": [
       "<matplotlib.axes._subplots.AxesSubplot at 0x7f90dada14a8>"
      ]
     },
     "execution_count": 51,
     "metadata": {},
     "output_type": "execute_result"
    },
    {
     "data": {
      "image/png": "[encoded data removed]",
      "text/plain": [
       "<Figure size 432x288 with 1 Axes>"
      ]
     },
     "metadata": {
      "needs_background": "light"
     },
     "output_type": "display_data"
    }
   ],
   "source": [
    "def sir_model_india_active(days, beta, gamma):\n",
    "    I0 = 3 #mar 3\n",
    "    N = 1300000000 #130 crores\n",
    "    I = sir_model(days, beta, gamma, I0, N)[1]\n",
    "    return I\n",
    "\n",
    "def sir_model_india_removed(days, beta, gamma):\n",
    "    I0 = 3 #mar 3\n",
    "    N = 1300000000 #130 crores\n",
    "    R = sir_model(days, beta, gamma, I0, N)[2]\n",
    "    return R\n",
    "\n",
    "to_fit = sir_model_india_active\n",
    "params, cov = optimize.curve_fit(to_fit, fdf.index, fdf.active) # fdf.recovered + fdf.deceased)\n",
    "\n",
    "print(\"beta, gamma:\", params)\n",
    "print(\"covariance:\\n\", cov)\n",
    "print(\"r0:\", params[0]/params[1])\n",
    "\n",
    "fdf['fitted'] = to_fit(fdf.index, *params)\n",
    "ax = fdf.plot(\n",
    "    x='date',\n",
    "    y='fitted'\n",
    ")\n",
    "fdf.plot(\n",
    "    x='date',\n",
    "    y='active',\n",
    "    grid=True,\n",
    "    ax=ax\n",
    ")"
   ]
  },
  {
   "cell_type": "markdown",
   "metadata": {},
   "source": [
    "### Project peak per the fitted curve"
   ]
  },
  {
   "cell_type": "code",
   "execution_count": 52,
   "metadata": {},
   "outputs": [
    {
     "data": {
      "image/png": "[encoded data removed]",
      "text/plain": [
       "<Figure size 432x288 with 1 Axes>"
      ]
     },
     "metadata": {
      "needs_background": "light"
     },
     "output_type": "display_data"
    }
   ],
   "source": [
    "days = np.arange(120)\n",
    "vals = to_fit(days, *params)\n",
    "r = {\n",
    "    'Days': days,\n",
    "    'Values': vals\n",
    "}\n",
    "df = pd.DataFrame(r)\n",
    "ax = df.plot(\n",
    "    x='Days',\n",
    "    y='Values'\n",
    ")\n",
    "\n",
    "peakx = 63\n",
    "peak_date = (dt.datetime(day=7, month=3, year=2020) + dt.timedelta(days=peakx)).strftime(\"%d-%b\")\n",
    "ax.scatter([peakx], [df['Values'].iloc[peakx]], c='red', marker='x')\n",
    "_ = ax.text(\n",
    "    peakx + 2,\n",
    "    df['Values'].iloc[peakx] * 1.07,\n",
    "    \"Peak Value\\n\" + str(int(df['Values'].iloc[peakx])) + \"\\n\" + peak_date, \n",
    "    bbox={'facecolor':'white'}\n",
    ")"
   ]
  },
  {
   "cell_type": "markdown",
   "metadata": {},
   "source": [
    "### Try to fit Italy's data"
   ]
  },
  {
   "cell_type": "code",
   "execution_count": 57,
   "metadata": {},
   "outputs": [
    {
     "data": {
      "text/html": [
       "<div>\n",
       "<style scoped>\n",
       "    .dataframe tbody tr th:only-of-type {\n",
       "        vertical-align: middle;\n",
       "    }\n",
       "\n",
       "    .dataframe tbody tr th {\n",
       "        vertical-align: top;\n",
       "    }\n",
       "\n",
       "    .dataframe thead th {\n",
       "        text-align: right;\n",
       "    }\n",
       "</style>\n",
       "<table border=\"1\" class=\"dataframe\">\n",
       "  <thead>\n",
       "    <tr style=\"text-align: right;\">\n",
       "      <th></th>\n",
       "      <th>date</th>\n",
       "      <th>deceased</th>\n",
       "      <th>recovered</th>\n",
       "      <th>confirmed</th>\n",
       "      <th>active</th>\n",
       "    </tr>\n",
       "  </thead>\n",
       "  <tbody>\n",
       "    <tr>\n",
       "      <th>0</th>\n",
       "      <td>2020-02-21</td>\n",
       "      <td>1</td>\n",
       "      <td>NaN</td>\n",
       "      <td>20</td>\n",
       "      <td>19</td>\n",
       "    </tr>\n",
       "    <tr>\n",
       "      <th>1</th>\n",
       "      <td>2020-02-22</td>\n",
       "      <td>2</td>\n",
       "      <td>2.0</td>\n",
       "      <td>79</td>\n",
       "      <td>75</td>\n",
       "    </tr>\n",
       "    <tr>\n",
       "      <th>2</th>\n",
       "      <td>2020-02-23</td>\n",
       "      <td>3</td>\n",
       "      <td>2.0</td>\n",
       "      <td>150</td>\n",
       "      <td>145</td>\n",
       "    </tr>\n",
       "    <tr>\n",
       "      <th>3</th>\n",
       "      <td>2020-02-24</td>\n",
       "      <td>6</td>\n",
       "      <td>1.0</td>\n",
       "      <td>229</td>\n",
       "      <td>222</td>\n",
       "    </tr>\n",
       "    <tr>\n",
       "      <th>4</th>\n",
       "      <td>2020-02-25</td>\n",
       "      <td>10</td>\n",
       "      <td>1.0</td>\n",
       "      <td>322</td>\n",
       "      <td>311</td>\n",
       "    </tr>\n",
       "  </tbody>\n",
       "</table>\n",
       "</div>"
      ],
      "text/plain": [
       "        date  deceased  recovered  confirmed  active\n",
       "0 2020-02-21         1        NaN         20      19\n",
       "1 2020-02-22         2        2.0         79      75\n",
       "2 2020-02-23         3        2.0        150     145\n",
       "3 2020-02-24         6        1.0        229     222\n",
       "4 2020-02-25        10        1.0        322     311"
      ]
     },
     "execution_count": 57,
     "metadata": {},
     "output_type": "execute_result"
    }
   ],
   "source": [
    "# download italy's data\n",
    "it_df = pd.read_csv(\"csv/italy.csv\", parse_dates=['date'])\n",
    "it_df.head()"
   ]
  },
  {
   "cell_type": "code",
   "execution_count": 67,
   "metadata": {},
   "outputs": [
    {
     "name": "stdout",
     "output_type": "stream",
     "text": [
      "beta: [2.44076375 2.27480683]\n",
      "r0: 1.0729542900779165\n"
     ]
    },
    {
     "data": {
      "image/png": "[encoded data removed]",
      "text/plain": [
       "<Figure size 432x288 with 1 Axes>"
      ]
     },
     "metadata": {
      "needs_background": "light"
     },
     "output_type": "display_data"
    }
   ],
   "source": [
    "def sir_model_italy_active(days, beta, gamma):\n",
    "    I0 = 19 #active cases on 21 feb\n",
    "    N = 60461826 #6 crores\n",
    "#     gamma = 0.1\n",
    "    I = sir_model(days, beta, gamma, I0, N)[1]\n",
    "    return I\n",
    "\n",
    "to_fit = sir_model_italy_active\n",
    "params, cov = optimize.curve_fit(\n",
    "    to_fit,\n",
    "    it_df.index,\n",
    "    it_df.active,\n",
    "#     bounds=[(0, 0), (np.inf, 1)]\n",
    ")\n",
    "\n",
    "print(\"beta:\", params)\n",
    "# print(\"covariance:\\n\", cov)\n",
    "print(\"r0:\", params[0]/params[1])\n",
    "\n",
    "it_df['fitted'] = to_fit(it_df.index, *params)\n",
    "ax = it_df.plot(\n",
    "    x='date',\n",
    "    y='fitted'\n",
    ")\n",
    "_ = it_df.plot(\n",
    "    x='date',\n",
    "    y='active',\n",
    "    grid=True,\n",
    "    ax=ax\n",
    ")"
   ]
  }
 ],
 "metadata": {
  "kernelspec": {
   "display_name": "Python 3",
   "language": "python",
   "name": "python3"
  },
  "language_info": {
   "codemirror_mode": {
    "name": "ipython",
    "version": 3
   },
   "file_extension": ".py",
   "mimetype": "text/x-python",
   "name": "python",
   "nbconvert_exporter": "python",
   "pygments_lexer": "ipython3",
   "version": "3.7.3"
  }
 },
 "nbformat": 4,
 "nbformat_minor": 4
}
