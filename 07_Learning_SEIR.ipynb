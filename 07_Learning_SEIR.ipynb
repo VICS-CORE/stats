{
 "cells": [
  {
   "cell_type": "markdown",
   "metadata": {},
   "source": [
    "### Imports"
   ]
  },
  {
   "cell_type": "code",
   "execution_count": 80,
   "metadata": {},
   "outputs": [],
   "source": [
    "import requests as rq\n",
    "import pandas as pd\n",
    "import numpy as np\n",
    "import datetime as dt\n",
    "import traceback as tb\n",
    "import seaborn as sb\n",
    "\n",
    "from scipy import optimize\n",
    "from scipy import integrate"
   ]
  },
  {
   "cell_type": "markdown",
   "metadata": {},
   "source": [
    "### Download & plot data"
   ]
  },
  {
   "cell_type": "code",
   "execution_count": 112,
   "metadata": {},
   "outputs": [],
   "source": [
    "# get daily time series data from covid19india\n",
    "resp = rq.get(\"https://api.covid19india.org/data.json\")\n",
    "ts = resp.json()['cases_time_series']\n",
    "\n",
    "r = {\n",
    "    \"date\": [],\n",
    "    \"confirmed\": [],\n",
    "    \"deceased\": [],\n",
    "    \"recovered\": []\n",
    "}\n",
    "\n",
    "for d in ts:\n",
    "    try:\n",
    "        r['date'].append(dt.datetime.strptime(d['date'] + \"2020\", '%d %B %Y'))\n",
    "        r['confirmed'].append(int(d['dailyconfirmed']))\n",
    "        r['deceased'].append(int(d['dailydeceased']))\n",
    "        r['recovered'].append(int(d['dailyrecovered']))\n",
    "    except Exception as e:\n",
    "        print(d['date'])\n",
    "        tb.print_exc()\n",
    "\n",
    "df = pd.DataFrame(r)\n",
    "df.sort_values('date', inplace=True)"
   ]
  },
  {
   "cell_type": "code",
   "execution_count": 113,
   "metadata": {},
   "outputs": [
    {
     "data": {
      "text/html": [
       "<div>\n",
       "<style scoped>\n",
       "    .dataframe tbody tr th:only-of-type {\n",
       "        vertical-align: middle;\n",
       "    }\n",
       "\n",
       "    .dataframe tbody tr th {\n",
       "        vertical-align: top;\n",
       "    }\n",
       "\n",
       "    .dataframe thead th {\n",
       "        text-align: right;\n",
       "    }\n",
       "</style>\n",
       "<table border=\"1\" class=\"dataframe\">\n",
       "  <thead>\n",
       "    <tr style=\"text-align: right;\">\n",
       "      <th></th>\n",
       "      <th>date</th>\n",
       "      <th>confirmed</th>\n",
       "      <th>deceased</th>\n",
       "      <th>recovered</th>\n",
       "    </tr>\n",
       "  </thead>\n",
       "  <tbody>\n",
       "    <tr>\n",
       "      <th>0</th>\n",
       "      <td>2020-01-30</td>\n",
       "      <td>1</td>\n",
       "      <td>0</td>\n",
       "      <td>0</td>\n",
       "    </tr>\n",
       "    <tr>\n",
       "      <th>1</th>\n",
       "      <td>2020-01-31</td>\n",
       "      <td>0</td>\n",
       "      <td>0</td>\n",
       "      <td>0</td>\n",
       "    </tr>\n",
       "    <tr>\n",
       "      <th>2</th>\n",
       "      <td>2020-02-01</td>\n",
       "      <td>0</td>\n",
       "      <td>0</td>\n",
       "      <td>0</td>\n",
       "    </tr>\n",
       "    <tr>\n",
       "      <th>3</th>\n",
       "      <td>2020-02-02</td>\n",
       "      <td>1</td>\n",
       "      <td>0</td>\n",
       "      <td>0</td>\n",
       "    </tr>\n",
       "    <tr>\n",
       "      <th>4</th>\n",
       "      <td>2020-02-03</td>\n",
       "      <td>1</td>\n",
       "      <td>0</td>\n",
       "      <td>0</td>\n",
       "    </tr>\n",
       "  </tbody>\n",
       "</table>\n",
       "</div>"
      ],
      "text/plain": [
       "        date  confirmed  deceased  recovered\n",
       "0 2020-01-30          1         0          0\n",
       "1 2020-01-31          0         0          0\n",
       "2 2020-02-01          0         0          0\n",
       "3 2020-02-02          1         0          0\n",
       "4 2020-02-03          1         0          0"
      ]
     },
     "execution_count": 113,
     "metadata": {},
     "output_type": "execute_result"
    }
   ],
   "source": [
    "df.head()"
   ]
  },
  {
   "cell_type": "code",
   "execution_count": 114,
   "metadata": {},
   "outputs": [
    {
     "data": {
      "text/html": [
       "<div>\n",
       "<style scoped>\n",
       "    .dataframe tbody tr th:only-of-type {\n",
       "        vertical-align: middle;\n",
       "    }\n",
       "\n",
       "    .dataframe tbody tr th {\n",
       "        vertical-align: top;\n",
       "    }\n",
       "\n",
       "    .dataframe thead th {\n",
       "        text-align: right;\n",
       "    }\n",
       "</style>\n",
       "<table border=\"1\" class=\"dataframe\">\n",
       "  <thead>\n",
       "    <tr style=\"text-align: right;\">\n",
       "      <th></th>\n",
       "      <th>date</th>\n",
       "      <th>confirmed</th>\n",
       "      <th>deceased</th>\n",
       "      <th>recovered</th>\n",
       "    </tr>\n",
       "  </thead>\n",
       "  <tbody>\n",
       "    <tr>\n",
       "      <th>0</th>\n",
       "      <td>2020-03-07</td>\n",
       "      <td>3</td>\n",
       "      <td>0</td>\n",
       "      <td>0</td>\n",
       "    </tr>\n",
       "    <tr>\n",
       "      <th>1</th>\n",
       "      <td>2020-03-08</td>\n",
       "      <td>5</td>\n",
       "      <td>0</td>\n",
       "      <td>0</td>\n",
       "    </tr>\n",
       "    <tr>\n",
       "      <th>2</th>\n",
       "      <td>2020-03-09</td>\n",
       "      <td>9</td>\n",
       "      <td>0</td>\n",
       "      <td>0</td>\n",
       "    </tr>\n",
       "    <tr>\n",
       "      <th>3</th>\n",
       "      <td>2020-03-10</td>\n",
       "      <td>15</td>\n",
       "      <td>0</td>\n",
       "      <td>1</td>\n",
       "    </tr>\n",
       "    <tr>\n",
       "      <th>4</th>\n",
       "      <td>2020-03-11</td>\n",
       "      <td>8</td>\n",
       "      <td>0</td>\n",
       "      <td>0</td>\n",
       "    </tr>\n",
       "  </tbody>\n",
       "</table>\n",
       "</div>"
      ],
      "text/plain": [
       "        date  confirmed  deceased  recovered\n",
       "0 2020-03-07          3         0          0\n",
       "1 2020-03-08          5         0          0\n",
       "2 2020-03-09          9         0          0\n",
       "3 2020-03-10         15         0          1\n",
       "4 2020-03-11          8         0          0"
      ]
     },
     "execution_count": 114,
     "metadata": {},
     "output_type": "execute_result"
    }
   ],
   "source": [
    "# remove first 37 days of data. not consequential.\n",
    "fdf = df[37:][:]\n",
    "fdf.reset_index(drop=True, inplace=True)\n",
    "fdf.head()"
   ]
  },
  {
   "cell_type": "code",
   "execution_count": 115,
   "metadata": {},
   "outputs": [
    {
     "data": {
      "text/plain": [
       "<matplotlib.axes._subplots.AxesSubplot at 0x7f0d6cffc1d0>"
      ]
     },
     "execution_count": 115,
     "metadata": {},
     "output_type": "execute_result"
    },
    {
     "data": {
      "image/png": "[encoded data removed]",
      "text/plain": [
       "<Figure size 504x216 with 1 Axes>"
      ]
     },
     "metadata": {
      "needs_background": "light"
     },
     "output_type": "display_data"
    }
   ],
   "source": [
    "# plot downloaded data\n",
    "fdf.plot(\n",
    "    x='date',\n",
    "    y=['confirmed', 'recovered', 'deceased'],\n",
    "    figsize=(7,3),\n",
    "    grid=True\n",
    ")"
   ]
  },
  {
   "cell_type": "markdown",
   "metadata": {},
   "source": [
    "### Compute & plot Re (effective reproduction number)"
   ]
  },
  {
   "cell_type": "code",
   "execution_count": 117,
   "metadata": {},
   "outputs": [
    {
     "data": {
      "text/html": [
       "<div>\n",
       "<style scoped>\n",
       "    .dataframe tbody tr th:only-of-type {\n",
       "        vertical-align: middle;\n",
       "    }\n",
       "\n",
       "    .dataframe tbody tr th {\n",
       "        vertical-align: top;\n",
       "    }\n",
       "\n",
       "    .dataframe thead th {\n",
       "        text-align: right;\n",
       "    }\n",
       "</style>\n",
       "<table border=\"1\" class=\"dataframe\">\n",
       "  <thead>\n",
       "    <tr style=\"text-align: right;\">\n",
       "      <th></th>\n",
       "      <th>date</th>\n",
       "      <th>confirmed</th>\n",
       "      <th>deceased</th>\n",
       "      <th>recovered</th>\n",
       "      <th>re</th>\n",
       "      <th>sma_re</th>\n",
       "    </tr>\n",
       "  </thead>\n",
       "  <tbody>\n",
       "    <tr>\n",
       "      <th>63</th>\n",
       "      <td>2020-05-09</td>\n",
       "      <td>3175</td>\n",
       "      <td>115</td>\n",
       "      <td>1414</td>\n",
       "      <td>0.950883</td>\n",
       "      <td>1.035182</td>\n",
       "    </tr>\n",
       "    <tr>\n",
       "      <th>64</th>\n",
       "      <td>2020-05-10</td>\n",
       "      <td>4311</td>\n",
       "      <td>112</td>\n",
       "      <td>1669</td>\n",
       "      <td>1.357795</td>\n",
       "      <td>1.037379</td>\n",
       "    </tr>\n",
       "    <tr>\n",
       "      <th>65</th>\n",
       "      <td>2020-05-11</td>\n",
       "      <td>3592</td>\n",
       "      <td>81</td>\n",
       "      <td>1579</td>\n",
       "      <td>0.833217</td>\n",
       "      <td>1.031726</td>\n",
       "    </tr>\n",
       "    <tr>\n",
       "      <th>66</th>\n",
       "      <td>2020-05-12</td>\n",
       "      <td>3562</td>\n",
       "      <td>120</td>\n",
       "      <td>1905</td>\n",
       "      <td>0.991648</td>\n",
       "      <td>1.035391</td>\n",
       "    </tr>\n",
       "    <tr>\n",
       "      <th>67</th>\n",
       "      <td>2020-05-13</td>\n",
       "      <td>3726</td>\n",
       "      <td>136</td>\n",
       "      <td>1964</td>\n",
       "      <td>1.046042</td>\n",
       "      <td>1.034496</td>\n",
       "    </tr>\n",
       "  </tbody>\n",
       "</table>\n",
       "</div>"
      ],
      "text/plain": [
       "         date  confirmed  deceased  recovered        re    sma_re\n",
       "63 2020-05-09       3175       115       1414  0.950883  1.035182\n",
       "64 2020-05-10       4311       112       1669  1.357795  1.037379\n",
       "65 2020-05-11       3592        81       1579  0.833217  1.031726\n",
       "66 2020-05-12       3562       120       1905  0.991648  1.035391\n",
       "67 2020-05-13       3726       136       1964  1.046042  1.034496"
      ]
     },
     "execution_count": 117,
     "metadata": {},
     "output_type": "execute_result"
    }
   ],
   "source": [
    "fdf['re'] = fdf['confirmed'] / fdf['confirmed'].shift(1, fill_value=1)\n",
    "fdf['sma_re'] = fdf['re'].rolling(7, min_periods=1, center=True).mean().rolling(7, min_periods=1, center=True).mean()\n",
    "fdf.tail()"
   ]
  },
  {
   "cell_type": "code",
   "execution_count": 118,
   "metadata": {},
   "outputs": [
    {
     "data": {
      "image/png": "[encoded data removed]",
      "text/plain": [
       "<Figure size 432x288 with 1 Axes>"
      ]
     },
     "metadata": {
      "needs_background": "light"
     },
     "output_type": "display_data"
    }
   ],
   "source": [
    "ax = fdf.plot(\n",
    "    x='date',\n",
    "    y=['re', 'sma_re'],\n",
    "    grid=True\n",
    ")\n",
    "ax.tick_params(labeltop=False, labelright=True)"
   ]
  },
  {
   "cell_type": "markdown",
   "metadata": {},
   "source": [
    "### Learning to fit a sample curve"
   ]
  },
  {
   "cell_type": "code",
   "execution_count": 119,
   "metadata": {},
   "outputs": [
    {
     "name": "stdout",
     "output_type": "stream",
     "text": [
      "actual output: ['10.00', '12.00', '18.00', '28.00', '42.00', '60.00', '82.00', '108.00', '138.00', '172.00']\n",
      "values to fit: ['10.00', '12.10', '17.24', '28.77', '40.86', '63.99', '82.57', '110.05', '148.59', '180.72']\n",
      "param: [2.12220067 9.00658838]\n",
      "covar:\n",
      " [[ 7.19093791e-04 -2.04941729e-02]\n",
      " [-2.04941729e-02  1.10258651e+00]]\n"
     ]
    }
   ],
   "source": [
    "# define a simple function\n",
    "def y(x, a, b):\n",
    "    return a * x * x + b\n",
    "\n",
    "# generate multiplier between 0.9 and 1.1 to noisy test data for fitting\n",
    "import random\n",
    "def m():\n",
    "    return 0.9 + 0.2 * random.random()\n",
    "\n",
    "test_data = [2 * x * x * m() + 10 for x in range(10)] # so a=2 and b=10 in test data\n",
    "print(\"actual output:\", [f\"{y(i, 2, 10):0.2f}\" for i in range(10)])\n",
    "print(\"values to fit:\", [f\"{i:0.2f}\" for i in test_data])\n",
    "\n",
    "# fit test data to function and try to find params\n",
    "out = optimize.curve_fit(y, np.arange(10), test_data)\n",
    "print (\"param:\", out[0])\n",
    "print (\"covar:\\n\", out[1])"
   ]
  },
  {
   "cell_type": "markdown",
   "metadata": {},
   "source": [
    "### SIR Model"
   ]
  },
  {
   "cell_type": "code",
   "execution_count": 120,
   "metadata": {},
   "outputs": [],
   "source": [
    "def diff_eqns(y, t, beta, gamma, N):\n",
    "    St, It, Rt = y\n",
    "    dsdt = -beta * St * It / N\n",
    "    didt = beta * St * It / N - gamma * It\n",
    "    drdt = gamma * It\n",
    "    return [dsdt, didt, drdt]\n",
    "\n",
    "def sir_model(t, beta, gamma, I0, N):\n",
    "    S0 = N - I0\n",
    "    R0 = 0\n",
    "    out = integrate.odeint(diff_eqns, (S0, I0, R0), t, args=(beta, gamma, N))\n",
    "    S, I, R = out.T\n",
    "    return S, I, R"
   ]
  },
  {
   "cell_type": "markdown",
   "metadata": {},
   "source": [
    "### Sample plot of SIR model"
   ]
  },
  {
   "cell_type": "code",
   "execution_count": 121,
   "metadata": {},
   "outputs": [
    {
     "data": {
      "text/plain": [
       "<matplotlib.axes._subplots.AxesSubplot at 0x7f0d6fa28518>"
      ]
     },
     "execution_count": 121,
     "metadata": {},
     "output_type": "execute_result"
    },
    {
     "data": {
      "image/png": "[encoded data removed]",
      "text/plain": [
       "<Figure size 432x288 with 1 Axes>"
      ]
     },
     "metadata": {
      "needs_background": "light"
     },
     "output_type": "display_data"
    }
   ],
   "source": [
    "I0 = 3\n",
    "N = 1000\n",
    "beta = 0.5\n",
    "gamma = 0.2\n",
    "days = np.arange(100)\n",
    "S, I, R = sir_model(days, beta, gamma, I0, N)\n",
    "\n",
    "r = {\n",
    "    'Days': days,\n",
    "    'S': S,\n",
    "    'I': I,\n",
    "    'R': R\n",
    "}\n",
    "\n",
    "df = pd.DataFrame(r)\n",
    "df['N'] = df['S'] + df['I'] + df['R']\n",
    "\n",
    "df.plot(\n",
    "    'Days',\n",
    "    ['S', 'I', 'R', 'N']\n",
    ")"
   ]
  },
  {
   "cell_type": "markdown",
   "metadata": {},
   "source": [
    "### Try to fit the sample output back"
   ]
  },
  {
   "cell_type": "code",
   "execution_count": 122,
   "metadata": {},
   "outputs": [
    {
     "data": {
      "text/plain": [
       "(array([0.5, 0.2]), array([[4.23127455e-34, 1.88000344e-34],\n",
       "        [1.88000344e-34, 2.08497191e-34]]))"
      ]
     },
     "execution_count": 122,
     "metadata": {},
     "output_type": "execute_result"
    }
   ],
   "source": [
    "def sir_model_apartment_inf(days, beta, gamma):\n",
    "    I0 = 3\n",
    "    N = 1000\n",
    "    I = sir_model(days, beta, gamma, I0, N)[1]\n",
    "    return I\n",
    "\n",
    "days = np.arange(100)\n",
    "I = sir_model_apartment_inf(days, 0.5, 0.2)\n",
    "op.curve_fit(sir_model_apartment_inf, df['Days'], df['I'])"
   ]
  },
  {
   "cell_type": "markdown",
   "metadata": {},
   "source": [
    "### Try to fit real data"
   ]
  },
  {
   "cell_type": "code",
   "execution_count": 123,
   "metadata": {},
   "outputs": [
    {
     "name": "stdout",
     "output_type": "stream",
     "text": [
      "beta, gamma: [6.50677047 6.39445751]\n",
      "covariance:\n",
      " [[1220.71137686 1220.49233366]\n",
      " [1220.49233366 1220.27333055]]\n",
      "r0: 1.0175641113586649\n"
     ]
    },
    {
     "data": {
      "text/plain": [
       "<matplotlib.axes._subplots.AxesSubplot at 0x7f0d6fc37438>"
      ]
     },
     "execution_count": 123,
     "metadata": {},
     "output_type": "execute_result"
    },
    {
     "data": {
      "image/png": "[encoded data removed]",
      "text/plain": [
       "<Figure size 432x288 with 1 Axes>"
      ]
     },
     "metadata": {
      "needs_background": "light"
     },
     "output_type": "display_data"
    }
   ],
   "source": [
    "def sir_model_india_inf(days, beta, gamma):\n",
    "    I0 = 3 #mar 3\n",
    "    N = 1300000000 #130 crores\n",
    "    I = sir_model(days, beta, gamma, I0, N)[1]\n",
    "    return I\n",
    "\n",
    "params, cov = op.curve_fit(sir_model_india_inf, fdf.index, fdf.confirmed)\n",
    "\n",
    "print(\"beta, gamma:\", params)\n",
    "print(\"covariance:\\n\", cov)\n",
    "print(\"r0:\", params[0]/params[1])\n",
    "\n",
    "fdf['fitted'] = sir_model_india_inf(fdf.index, *params)\n",
    "ax = fdf.plot(\n",
    "    x='date',\n",
    "    y='fitted'\n",
    ")\n",
    "fdf.plot(\n",
    "    x='date',\n",
    "    y='confirmed',\n",
    "    ax=ax\n",
    ")"
   ]
  },
  {
   "cell_type": "markdown",
   "metadata": {},
   "source": [
    "### Evaluate peak per the fitted curve"
   ]
  },
  {
   "cell_type": "code",
   "execution_count": 133,
   "metadata": {},
   "outputs": [
    {
     "data": {
      "text/plain": [
       "Text(112, 207671.96784806415, 'Peak Infections\\n194085')"
      ]
     },
     "execution_count": 133,
     "metadata": {},
     "output_type": "execute_result"
    },
    {
     "data": {
      "image/png": "[encoded data removed]",
      "text/plain": [
       "<Figure size 432x288 with 1 Axes>"
      ]
     },
     "metadata": {
      "needs_background": "light"
     },
     "output_type": "display_data"
    }
   ],
   "source": [
    "days = np.arange(250)\n",
    "infs = sir_model_india_inf(days, *params)\n",
    "r = {\n",
    "    'Days': days,\n",
    "    'Infections': infs\n",
    "}\n",
    "df = pd.DataFrame(r)\n",
    "ax = df.plot(\n",
    "    x='Days',\n",
    "    y='Infections'\n",
    ")\n",
    "\n",
    "peakx = 110\n",
    "ax.scatter([peakx], [df['Infections'].iloc[peakx]], c='red', marker='x')\n",
    "ax.text(\n",
    "    peakx + 2,\n",
    "    df['Infections'].iloc[peakx] * 1.07,\n",
    "    \"Peak Infections\\n\" + str(int(df['Infections'].iloc[peakx])), \n",
    "    bbox={'facecolor':'white'}\n",
    ")"
   ]
  },
  {
   "cell_type": "code",
   "execution_count": 127,
   "metadata": {},
   "outputs": [
    {
     "data": {
      "text/plain": [
       "datetime.datetime(2020, 6, 25, 0, 0)"
      ]
     },
     "execution_count": 127,
     "metadata": {},
     "output_type": "execute_result"
    }
   ],
   "source": [
    "dt.datetime(day=7, month=3, year=2020) + dt.timedelta(days=110)"
   ]
  }
 ],
 "metadata": {
  "kernelspec": {
   "display_name": "Python 3",
   "language": "python",
   "name": "python3"
  },
  "language_info": {
   "codemirror_mode": {
    "name": "ipython",
    "version": 3
   },
   "file_extension": ".py",
   "mimetype": "text/x-python",
   "name": "python",
   "nbconvert_exporter": "python",
   "pygments_lexer": "ipython3",
   "version": "3.7.3"
  }
 },
 "nbformat": 4,
 "nbformat_minor": 4
}
