{
 "cells": [
  {
   "cell_type": "markdown",
   "metadata": {},
   "source": [
    "Useful links\n",
    "\n",
    "- https://blog.floydhub.com/a-beginners-guide-on-recurrent-neural-networks-with-pytorch/\n",
    "- http://karpathy.github.io/2015/05/21/rnn-effectiveness/\n",
    "- https://towardsdatascience.com/pytorch-basics-how-to-train-your-neural-net-intro-to-rnn-cb6ebc594677\n",
    "- https://towardsdatascience.com/time-series-forecasting-with-rnns-ff22683bbbb0\n",
    "- https://towardsdatascience.com/time-series-forecasting-with-recurrent-neural-networks-74674e289816\n",
    "- https://towardsdatascience.com/analyzing-time-series-data-in-pandas-be3887fdd621\n",
    "- http://www.wildml.com/2015/10/recurrent-neural-networks-tutorial-part-3-backpropagation-through-time-and-vanishing-gradients/\n",
    "- https://colah.github.io/posts/2015-09-NN-Types-FP/\n",
    "\n",
    "- https://pytorch.org/docs/stable/nn.html#rnn"
   ]
  },
  {
   "cell_type": "code",
   "execution_count": 77,
   "metadata": {},
   "outputs": [],
   "source": [
    "import pandas as pd\n",
    "import numpy as np\n",
    "import requests as rq\n",
    "import datetime as dt\n",
    "import traceback as tb\n",
    "import torch\n",
    "\n",
    "tnn = torch.nn\n",
    "top = torch.optim\n",
    "from torch.utils import data as tdt"
   ]
  },
  {
   "cell_type": "markdown",
   "metadata": {},
   "source": [
    "### Download data"
   ]
  },
  {
   "cell_type": "code",
   "execution_count": 2,
   "metadata": {},
   "outputs": [
    {
     "data": {
      "text/html": [
       "<div>\n",
       "<style scoped>\n",
       "    .dataframe tbody tr th:only-of-type {\n",
       "        vertical-align: middle;\n",
       "    }\n",
       "\n",
       "    .dataframe tbody tr th {\n",
       "        vertical-align: top;\n",
       "    }\n",
       "\n",
       "    .dataframe thead th {\n",
       "        text-align: right;\n",
       "    }\n",
       "</style>\n",
       "<table border=\"1\" class=\"dataframe\">\n",
       "  <thead>\n",
       "    <tr style=\"text-align: right;\">\n",
       "      <th></th>\n",
       "      <th>date</th>\n",
       "      <th>confirmed</th>\n",
       "      <th>deceased</th>\n",
       "      <th>recovered</th>\n",
       "    </tr>\n",
       "  </thead>\n",
       "  <tbody>\n",
       "    <tr>\n",
       "      <th>75</th>\n",
       "      <td>2020-04-14</td>\n",
       "      <td>1031</td>\n",
       "      <td>37</td>\n",
       "      <td>167</td>\n",
       "    </tr>\n",
       "  </tbody>\n",
       "</table>\n",
       "</div>"
      ],
      "text/plain": [
       "         date  confirmed  deceased  recovered\n",
       "75 2020-04-14       1031        37        167"
      ]
     },
     "execution_count": 2,
     "metadata": {},
     "output_type": "execute_result"
    }
   ],
   "source": [
    "# get daily time series data from covid19india\n",
    "resp = rq.get(\"https://api.covid19india.org/data.json\")\n",
    "ts = resp.json()['cases_time_series']\n",
    "\n",
    "r = {\n",
    "    \"date\": [],\n",
    "    \"confirmed\": [],\n",
    "    \"deceased\": [],\n",
    "    \"recovered\": []\n",
    "}\n",
    "\n",
    "for d in ts:\n",
    "    try:\n",
    "        r['date'].append(dt.datetime.strptime(d['date'] + \"2020\", '%d %B %Y'))\n",
    "        r['confirmed'].append(np.int64(d['dailyconfirmed']))\n",
    "        r['deceased'].append(np.int64(d['dailydeceased']))\n",
    "        r['recovered'].append(np.int64(d['dailyrecovered']))\n",
    "    except Exception as e:\n",
    "        print(d['date'])\n",
    "        tb.print_exc()\n",
    "\n",
    "df = pd.DataFrame(r)\n",
    "df.sort_values('date', inplace=True)\n",
    "df.sample()"
   ]
  },
  {
   "cell_type": "code",
   "execution_count": 3,
   "metadata": {},
   "outputs": [
    {
     "data": {
      "text/html": [
       "<div>\n",
       "<style scoped>\n",
       "    .dataframe tbody tr th:only-of-type {\n",
       "        vertical-align: middle;\n",
       "    }\n",
       "\n",
       "    .dataframe tbody tr th {\n",
       "        vertical-align: top;\n",
       "    }\n",
       "\n",
       "    .dataframe thead th {\n",
       "        text-align: right;\n",
       "    }\n",
       "</style>\n",
       "<table border=\"1\" class=\"dataframe\">\n",
       "  <thead>\n",
       "    <tr style=\"text-align: right;\">\n",
       "      <th></th>\n",
       "      <th>date</th>\n",
       "      <th>confirmed</th>\n",
       "      <th>deceased</th>\n",
       "      <th>recovered</th>\n",
       "    </tr>\n",
       "  </thead>\n",
       "  <tbody>\n",
       "    <tr>\n",
       "      <th>37</th>\n",
       "      <td>2020-03-07</td>\n",
       "      <td>3</td>\n",
       "      <td>0</td>\n",
       "      <td>0</td>\n",
       "    </tr>\n",
       "    <tr>\n",
       "      <th>38</th>\n",
       "      <td>2020-03-08</td>\n",
       "      <td>5</td>\n",
       "      <td>0</td>\n",
       "      <td>0</td>\n",
       "    </tr>\n",
       "    <tr>\n",
       "      <th>39</th>\n",
       "      <td>2020-03-09</td>\n",
       "      <td>9</td>\n",
       "      <td>0</td>\n",
       "      <td>0</td>\n",
       "    </tr>\n",
       "    <tr>\n",
       "      <th>40</th>\n",
       "      <td>2020-03-10</td>\n",
       "      <td>15</td>\n",
       "      <td>0</td>\n",
       "      <td>1</td>\n",
       "    </tr>\n",
       "    <tr>\n",
       "      <th>41</th>\n",
       "      <td>2020-03-11</td>\n",
       "      <td>8</td>\n",
       "      <td>0</td>\n",
       "      <td>0</td>\n",
       "    </tr>\n",
       "  </tbody>\n",
       "</table>\n",
       "</div>"
      ],
      "text/plain": [
       "         date  confirmed  deceased  recovered\n",
       "37 2020-03-07          3         0          0\n",
       "38 2020-03-08          5         0          0\n",
       "39 2020-03-09          9         0          0\n",
       "40 2020-03-10         15         0          1\n",
       "41 2020-03-11          8         0          0"
      ]
     },
     "execution_count": 3,
     "metadata": {},
     "output_type": "execute_result"
    }
   ],
   "source": [
    "df[37:].head()"
   ]
  },
  {
   "cell_type": "markdown",
   "metadata": {},
   "source": [
    "### Prep data"
   ]
  },
  {
   "cell_type": "code",
   "execution_count": 115,
   "metadata": {},
   "outputs": [],
   "source": [
    "cnf = np.array(df['confirmed'][37:].rolling(6, center=True, min_periods=1).mean()) / 10000\n",
    "\n",
    "ipop = np.array([cnf[:-1], cnf[1:]])\n",
    "data_len = ipop.shape[1]\n",
    "\n",
    "SEQ_LEN = 3\n",
    "ips = []\n",
    "ops = []\n",
    "for i in range(data_len - SEQ_LEN + 1):\n",
    "    ip, op = ipop[0][i : i+SEQ_LEN], ipop[1][i : i+SEQ_LEN]\n",
    "    ips.append(ip)\n",
    "    ops.append(op)\n",
    "ips = np.array(ips, dtype=np.float32)\n",
    "ops = np.array(ops, dtype=np.float32)\n",
    "\n",
    "# convert from numpy to torch\n",
    "ip_t = torch.from_numpy(ips)\n",
    "op_t = torch.from_numpy(ops)\n",
    "\n",
    "dataset = tdt.TensorDataset(ip_t, op_t)\n",
    "data_loader = tdt.DataLoader(dataset, shuffle=False, batch_size=1)"
   ]
  },
  {
   "cell_type": "markdown",
   "metadata": {},
   "source": [
    "### Define NN and train"
   ]
  },
  {
   "cell_type": "code",
   "execution_count": 125,
   "metadata": {},
   "outputs": [
    {
     "name": "stdout",
     "output_type": "stream",
     "text": [
      "Epoch: 0 Iter: 0 Loss:  0.4054 Out: -6533.38 Ex:  8.33\n",
      "Epoch: 0 Iter: 10 Loss:  0.0484 Out:  2190.28 Ex:  46.17\n",
      "Epoch: 0 Iter: 20 Loss:  0.0222 Out: -1564.55 Ex:  221.50\n",
      "Epoch: 0 Iter: 30 Loss:  0.0099 Out:  1758.65 Ex:  693.33\n",
      "Epoch: 0 Iter: 40 Loss:  0.0082 Out:  444.29 Ex:  1285.00\n",
      "Epoch: 0 Iter: 50 Loss:  0.0067 Out:  2009.28 Ex:  1829.83\n",
      "Epoch: 0 Iter: 60 Loss:  0.0097 Out:  3815.92 Ex:  3560.50\n",
      "Epoch: 0 Iter: 70 Loss:  0.0059 Out:  4165.47 Ex:  5173.25\n",
      "Epoch: 1 Iter: 0 Loss:  0.1036 Out:  3119.15 Ex:  8.33\n",
      "Epoch: 1 Iter: 10 Loss:  0.0253 Out: -1456.93 Ex:  46.17\n",
      "Epoch: 1 Iter: 20 Loss:  0.0048 Out:  859.28 Ex:  221.50\n",
      "Epoch: 1 Iter: 30 Loss:  0.0012 Out:  386.30 Ex:  693.33\n",
      "Epoch: 1 Iter: 40 Loss:  0.0018 Out:  1223.11 Ex:  1285.00\n",
      "Epoch: 1 Iter: 50 Loss:  0.0033 Out:  1794.93 Ex:  1829.83\n",
      "Epoch: 1 Iter: 60 Loss:  0.0038 Out:  3468.83 Ex:  3560.50\n",
      "Epoch: 1 Iter: 70 Loss:  0.0001 Out:  5186.80 Ex:  5173.25\n",
      "Epoch: 2 Iter: 0 Loss:  0.0000 Out:  5.91 Ex:  8.33\n",
      "Epoch: 2 Iter: 10 Loss:  0.0000 Out:  50.50 Ex:  46.17\n",
      "Epoch: 2 Iter: 20 Loss:  0.0000 Out:  197.54 Ex:  221.50\n",
      "Epoch: 2 Iter: 30 Loss:  0.0002 Out:  639.42 Ex:  693.33\n",
      "Epoch: 2 Iter: 40 Loss:  0.0002 Out:  1224.31 Ex:  1285.00\n",
      "Epoch: 2 Iter: 50 Loss:  0.0001 Out:  1825.83 Ex:  1829.83\n",
      "Epoch: 2 Iter: 60 Loss:  0.0006 Out:  3410.09 Ex:  3560.50\n",
      "Epoch: 2 Iter: 70 Loss:  0.0002 Out:  5133.05 Ex:  5173.25\n",
      "Epoch: 3 Iter: 0 Loss:  0.0015 Out: -376.73 Ex:  8.33\n",
      "Epoch: 3 Iter: 10 Loss:  0.0006 Out: -189.81 Ex:  46.17\n",
      "Epoch: 3 Iter: 20 Loss:  0.0001 Out:  114.73 Ex:  221.50\n",
      "Epoch: 3 Iter: 30 Loss:  0.0001 Out:  630.81 Ex:  693.33\n",
      "Epoch: 3 Iter: 40 Loss:  0.0000 Out:  1191.82 Ex:  1285.00\n",
      "Epoch: 3 Iter: 50 Loss:  0.0001 Out:  1740.59 Ex:  1829.83\n",
      "Epoch: 3 Iter: 60 Loss:  0.0006 Out:  3285.97 Ex:  3560.50\n",
      "Epoch: 3 Iter: 70 Loss:  0.0001 Out:  5074.24 Ex:  5173.25\n",
      "Epoch: 4 Iter: 0 Loss:  0.0061 Out: -768.24 Ex:  8.33\n",
      "Epoch: 4 Iter: 10 Loss:  0.0023 Out: -422.74 Ex:  46.17\n",
      "Epoch: 4 Iter: 20 Loss:  0.0007 Out: -49.44 Ex:  221.50\n",
      "Epoch: 4 Iter: 30 Loss:  0.0003 Out:  517.75 Ex:  693.33\n",
      "Epoch: 4 Iter: 40 Loss:  0.0002 Out:  1111.00 Ex:  1285.00\n",
      "Epoch: 4 Iter: 50 Loss:  0.0002 Out:  1683.06 Ex:  1829.83\n",
      "Epoch: 4 Iter: 60 Loss:  0.0009 Out:  3227.75 Ex:  3560.50\n",
      "Epoch: 4 Iter: 70 Loss:  0.0001 Out:  5119.59 Ex:  5173.25\n",
      "Epoch: 5 Iter: 0 Loss:  0.0071 Out: -828.75 Ex:  8.33\n",
      "Epoch: 5 Iter: 10 Loss:  0.0024 Out: -434.95 Ex:  46.17\n",
      "Epoch: 5 Iter: 20 Loss:  0.0010 Out: -91.15 Ex:  221.50\n",
      "Epoch: 5 Iter: 30 Loss:  0.0007 Out:  434.11 Ex:  693.33\n",
      "Epoch: 5 Iter: 40 Loss:  0.0005 Out:  1015.32 Ex:  1285.00\n",
      "Epoch: 5 Iter: 50 Loss:  0.0004 Out:  1614.95 Ex:  1829.83\n",
      "Epoch: 5 Iter: 60 Loss:  0.0010 Out:  3211.64 Ex:  3560.50\n",
      "Epoch: 5 Iter: 70 Loss:  0.0002 Out:  5253.32 Ex:  5173.25\n",
      "Epoch: 6 Iter: 0 Loss:  0.0101 Out: -995.96 Ex:  8.33\n",
      "Epoch: 6 Iter: 10 Loss:  0.0027 Out: -460.47 Ex:  46.17\n",
      "Epoch: 6 Iter: 20 Loss:  0.0011 Out: -106.49 Ex:  221.50\n",
      "Epoch: 6 Iter: 30 Loss:  0.0008 Out:  407.08 Ex:  693.33\n",
      "Epoch: 6 Iter: 40 Loss:  0.0006 Out:  983.07 Ex:  1285.00\n",
      "Epoch: 6 Iter: 50 Loss:  0.0006 Out:  1584.38 Ex:  1829.83\n",
      "Epoch: 6 Iter: 60 Loss:  0.0011 Out:  3187.99 Ex:  3560.50\n",
      "Epoch: 6 Iter: 70 Loss:  0.0003 Out:  5315.74 Ex:  5173.25\n",
      "Epoch: 7 Iter: 0 Loss:  0.0111 Out: -1051.37 Ex:  8.33\n",
      "Epoch: 7 Iter: 10 Loss:  0.0019 Out: -377.48 Ex:  46.17\n",
      "Epoch: 7 Iter: 20 Loss:  0.0006 Out: -28.03 Ex:  221.50\n",
      "Epoch: 7 Iter: 30 Loss:  0.0006 Out:  441.36 Ex:  693.33\n",
      "Epoch: 7 Iter: 40 Loss:  0.0006 Out:  984.75 Ex:  1285.00\n",
      "Epoch: 7 Iter: 50 Loss:  0.0006 Out:  1584.93 Ex:  1829.83\n",
      "Epoch: 7 Iter: 60 Loss:  0.0009 Out:  3231.84 Ex:  3560.50\n",
      "Epoch: 7 Iter: 70 Loss:  0.0005 Out:  5381.11 Ex:  5173.25\n",
      "Epoch: 8 Iter: 0 Loss:  0.0108 Out: -1042.88 Ex:  8.33\n",
      "Epoch: 8 Iter: 10 Loss:  0.0012 Out: -291.04 Ex:  46.17\n",
      "Epoch: 8 Iter: 20 Loss:  0.0003 Out:  44.60 Ex:  221.50\n",
      "Epoch: 8 Iter: 30 Loss:  0.0004 Out:  491.32 Ex:  693.33\n",
      "Epoch: 8 Iter: 40 Loss:  0.0005 Out:  1012.12 Ex:  1285.00\n",
      "Epoch: 8 Iter: 50 Loss:  0.0005 Out:  1609.37 Ex:  1829.83\n",
      "Epoch: 8 Iter: 60 Loss:  0.0006 Out:  3296.38 Ex:  3560.50\n",
      "Epoch: 8 Iter: 70 Loss:  0.0005 Out:  5384.48 Ex:  5173.25\n",
      "Epoch: 9 Iter: 0 Loss:  0.0064 Out: -801.12 Ex:  8.33\n",
      "Epoch: 9 Iter: 10 Loss:  0.0002 Out: -88.01 Ex:  46.17\n",
      "Epoch: 9 Iter: 20 Loss:  0.0001 Out:  276.65 Ex:  221.50\n",
      "Epoch: 9 Iter: 30 Loss:  0.0000 Out:  718.46 Ex:  693.33\n",
      "Epoch: 9 Iter: 40 Loss:  0.0001 Out:  1215.12 Ex:  1285.00\n",
      "Epoch: 9 Iter: 50 Loss:  0.0002 Out:  1787.90 Ex:  1829.83\n",
      "Epoch: 9 Iter: 60 Loss:  0.0004 Out:  3342.48 Ex:  3560.50\n",
      "Epoch: 9 Iter: 70 Loss:  0.0004 Out:  5336.66 Ex:  5173.25\n"
     ]
    },
    {
     "data": {
      "text/plain": [
       "<matplotlib.axes._subplots.AxesSubplot at 0x7fea1469a048>"
      ]
     },
     "execution_count": 125,
     "metadata": {},
     "output_type": "execute_result"
    },
    {
     "data": {
      "image/png": "[encoded data removed]",
      "text/plain": [
       "<Figure size 432x288 with 1 Axes>"
      ]
     },
     "metadata": {
      "needs_background": "light"
     },
     "output_type": "display_data"
    }
   ],
   "source": [
    "class Forecaster(tnn.Module):\n",
    "    def __init__(self, seq_len=1, hidden_size=1):\n",
    "        super(Forecaster, self).__init__()\n",
    "        \n",
    "        self.seq_len = seq_len\n",
    "        self.hidden_size = hidden_size\n",
    "        \n",
    "        self.rnn = tnn.RNN(input_size=1, hidden_size=hidden_size)\n",
    "        self.fc = tnn.Linear(seq_len, 1)\n",
    "    \n",
    "    def forward(self, ip):\n",
    "        outs, h = self.rnn(ip)\n",
    "#         return self.fc(outs.view(self.seq_len))\n",
    "        return outs.view(3)\n",
    "    \n",
    "    def predict(self, ip):\n",
    "        with torch.no_grad():\n",
    "            pred = self.forward(ip)\n",
    "        return pred\n",
    "\n",
    "model = Forecaster(seq_len=SEQ_LEN, hidden_size=1)\n",
    "loss_fn = tnn.MSELoss()\n",
    "optimizer = top.Adam(model.parameters(), lr=0.1)\n",
    "\n",
    "# TRAIN\n",
    "loss_vals = []\n",
    "pred_vals = []\n",
    "num_epochs = 10\n",
    "\n",
    "for e in range(num_epochs):\n",
    "    for i, data in enumerate(data_loader):\n",
    "        ip, op = data\n",
    "\n",
    "        # set grads to 0\n",
    "        optimizer.zero_grad()\n",
    "\n",
    "        # predict\n",
    "        pred = model(ip.view(SEQ_LEN, 1, 1))\n",
    "\n",
    "        # calc loss\n",
    "        loss = loss_fn(pred, op.view(3))\n",
    "\n",
    "        # logging\n",
    "        loss_vals.append(loss.item())\n",
    "        if i%10 == 0:\n",
    "            print(\"Epoch:\", e, \"Iter:\", i, \"Loss:\", f\"{loss.item(): .4f}\", \"Out:\", f\"{pred.view(3)[2].item()*10000: .2f}\", \"Ex:\", f\"{op.view(3)[2].item()*10000: .2f}\")\n",
    "\n",
    "        # assign grads\n",
    "        loss.backward()\n",
    "\n",
    "        # update weights\n",
    "        optimizer.step()\n",
    "\n",
    "df_loss = pd.DataFrame({\n",
    "    'loss': loss_vals\n",
    "})\n",
    "df_loss.plot(\n",
    "    y='loss'\n",
    ")"
   ]
  },
  {
   "cell_type": "markdown",
   "metadata": {},
   "source": [
    "### Test\n",
    "- on a single value"
   ]
  },
  {
   "cell_type": "code",
   "execution_count": 127,
   "metadata": {},
   "outputs": [
    {
     "name": "stdout",
     "output_type": "stream",
     "text": [
      "1253.13401222229\n"
     ]
    }
   ],
   "source": [
    "test_in = np.array([1000, 1200, 1300]) / 10000\n",
    "t = torch.tensor(\n",
    "    test_in.reshape(3, 1, 1),\n",
    "    dtype=torch.float32\n",
    ")\n",
    "out = model.predict(t)\n",
    "print(out.view(3)[2].item() * 10000)"
   ]
  },
  {
   "cell_type": "markdown",
   "metadata": {},
   "source": [
    "- on entire input"
   ]
  },
  {
   "cell_type": "code",
   "execution_count": 126,
   "metadata": {},
   "outputs": [
    {
     "data": {
      "text/plain": [
       "<matplotlib.axes._subplots.AxesSubplot at 0x7fea14612630>"
      ]
     },
     "execution_count": 126,
     "metadata": {},
     "output_type": "execute_result"
    },
    {
     "data": {
      "image/png": "[encoded data removed]",
      "text/plain": [
       "<Figure size 432x288 with 1 Axes>"
      ]
     },
     "metadata": {
      "needs_background": "light"
     },
     "output_type": "display_data"
    }
   ],
   "source": [
    "pred_vals = []\n",
    "out_vals = []\n",
    "for data in data_loader:\n",
    "    ip, op = data\n",
    "    pred = model.predict(ip.view(SEQ_LEN, 1, 1))\n",
    "    pred_vals.append(pred.view(3)[2].item() * 10000)\n",
    "    out_vals.append(op.view(3)[2].item() * 10000)\n",
    "\n",
    "cmp_df = pd.DataFrame({\n",
    "    'predicted cases': pred_vals,\n",
    "    'actual cases': out_vals\n",
    "})\n",
    "cmp_df.plot()\n"
   ]
  },
  {
   "cell_type": "code",
   "execution_count": 73,
   "metadata": {},
   "outputs": [
    {
     "name": "stdout",
     "output_type": "stream",
     "text": [
      "rnn.weight_ih_l0 = tensor([[-0.4787]])\n",
      "rnn.weight_hh_l0 = tensor([[0.5714]])\n",
      "rnn.bias_ih_l0 = tensor([-0.4862])\n",
      "rnn.bias_hh_l0 = tensor([-0.3711])\n",
      "fc.weight = tensor([[ 0.3509, -0.5119, -0.4539]])\n",
      "fc.bias = tensor([-0.4916])\n"
     ]
    }
   ],
   "source": [
    "for k in model.state_dict().keys():\n",
    "    print(k, \"=\", model.state_dict()[k])"
   ]
  }
 ],
 "metadata": {
  "kernelspec": {
   "display_name": "Python 3",
   "language": "python",
   "name": "python3"
  },
  "language_info": {
   "codemirror_mode": {
    "name": "ipython",
    "version": 3
   },
   "file_extension": ".py",
   "mimetype": "text/x-python",
   "name": "python",
   "nbconvert_exporter": "python",
   "pygments_lexer": "ipython3",
   "version": "3.7.3"
  }
 },
 "nbformat": 4,
 "nbformat_minor": 4
}
