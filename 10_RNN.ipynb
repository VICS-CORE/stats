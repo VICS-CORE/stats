{
 "cells": [
  {
   "cell_type": "markdown",
   "metadata": {},
   "source": [
    "Useful links\n",
    "\n",
    "- https://blog.floydhub.com/a-beginners-guide-on-recurrent-neural-networks-with-pytorch/\n",
    "- http://karpathy.github.io/2015/05/21/rnn-effectiveness/\n",
    "- https://towardsdatascience.com/pytorch-basics-how-to-train-your-neural-net-intro-to-rnn-cb6ebc594677\n",
    "- https://towardsdatascience.com/time-series-forecasting-with-rnns-ff22683bbbb0\n",
    "- https://towardsdatascience.com/time-series-forecasting-with-recurrent-neural-networks-74674e289816\n",
    "- https://towardsdatascience.com/analyzing-time-series-data-in-pandas-be3887fdd621\n",
    "- http://www.wildml.com/2015/10/recurrent-neural-networks-tutorial-part-3-backpropagation-through-time-and-vanishing-gradients/\n",
    "- https://colah.github.io/posts/2015-09-NN-Types-FP/\n",
    "\n",
    "- https://pytorch.org/docs/stable/nn.html#rnn"
   ]
  },
  {
   "cell_type": "code",
   "execution_count": 1,
   "metadata": {},
   "outputs": [],
   "source": [
    "import pandas as pd\n",
    "import numpy as np\n",
    "import requests as rq\n",
    "import datetime as dt\n",
    "import traceback as tb\n",
    "import torch\n",
    "\n",
    "tnn = torch.nn\n",
    "top = torch.optim\n",
    "from torch.utils import data as tdt"
   ]
  },
  {
   "cell_type": "markdown",
   "metadata": {},
   "source": [
    "### Download India's data"
   ]
  },
  {
   "cell_type": "code",
   "execution_count": 2,
   "metadata": {},
   "outputs": [
    {
     "data": {
      "text/html": [
       "<div>\n",
       "<style scoped>\n",
       "    .dataframe tbody tr th:only-of-type {\n",
       "        vertical-align: middle;\n",
       "    }\n",
       "\n",
       "    .dataframe tbody tr th {\n",
       "        vertical-align: top;\n",
       "    }\n",
       "\n",
       "    .dataframe thead th {\n",
       "        text-align: right;\n",
       "    }\n",
       "</style>\n",
       "<table border=\"1\" class=\"dataframe\">\n",
       "  <thead>\n",
       "    <tr style=\"text-align: right;\">\n",
       "      <th></th>\n",
       "      <th>date</th>\n",
       "      <th>confirmed</th>\n",
       "      <th>deceased</th>\n",
       "      <th>recovered</th>\n",
       "    </tr>\n",
       "  </thead>\n",
       "  <tbody>\n",
       "    <tr>\n",
       "      <th>93</th>\n",
       "      <td>2020-05-02</td>\n",
       "      <td>2564</td>\n",
       "      <td>92</td>\n",
       "      <td>831</td>\n",
       "    </tr>\n",
       "  </tbody>\n",
       "</table>\n",
       "</div>"
      ],
      "text/plain": [
       "         date  confirmed  deceased  recovered\n",
       "93 2020-05-02       2564        92        831"
      ]
     },
     "execution_count": 2,
     "metadata": {},
     "output_type": "execute_result"
    }
   ],
   "source": [
    "# get daily time series data from covid19india\n",
    "resp = rq.get(\"https://api.covid19india.org/data.json\")\n",
    "ts = resp.json()['cases_time_series']\n",
    "\n",
    "r = {\n",
    "    \"date\": [],\n",
    "    \"confirmed\": [],\n",
    "    \"deceased\": [],\n",
    "    \"recovered\": []\n",
    "}\n",
    "\n",
    "for d in ts:\n",
    "    try:\n",
    "        r['date'].append(dt.datetime.strptime(d['date'] + \"2020\", '%d %B %Y'))\n",
    "        r['confirmed'].append(np.int64(d['dailyconfirmed']))\n",
    "        r['deceased'].append(np.int64(d['dailydeceased']))\n",
    "        r['recovered'].append(np.int64(d['dailyrecovered']))\n",
    "    except Exception as e:\n",
    "        print(d['date'])\n",
    "        tb.print_exc()\n",
    "\n",
    "df = pd.DataFrame(r)\n",
    "df.sort_values('date', inplace=True)\n",
    "df.sample()"
   ]
  },
  {
   "cell_type": "markdown",
   "metadata": {},
   "source": [
    "### Italy's data"
   ]
  },
  {
   "cell_type": "code",
   "execution_count": 26,
   "metadata": {},
   "outputs": [
    {
     "data": {
      "text/html": [
       "<div>\n",
       "<style scoped>\n",
       "    .dataframe tbody tr th:only-of-type {\n",
       "        vertical-align: middle;\n",
       "    }\n",
       "\n",
       "    .dataframe tbody tr th {\n",
       "        vertical-align: top;\n",
       "    }\n",
       "\n",
       "    .dataframe thead th {\n",
       "        text-align: right;\n",
       "    }\n",
       "</style>\n",
       "<table border=\"1\" class=\"dataframe\">\n",
       "  <thead>\n",
       "    <tr style=\"text-align: right;\">\n",
       "      <th></th>\n",
       "      <th>date</th>\n",
       "      <th>deceased</th>\n",
       "      <th>recovered</th>\n",
       "      <th>confirmed</th>\n",
       "      <th>active</th>\n",
       "      <th>daily</th>\n",
       "    </tr>\n",
       "  </thead>\n",
       "  <tbody>\n",
       "    <tr>\n",
       "      <th>19</th>\n",
       "      <td>2020-03-11</td>\n",
       "      <td>827</td>\n",
       "      <td>1045.0</td>\n",
       "      <td>12462</td>\n",
       "      <td>10590</td>\n",
       "      <td>2313.0</td>\n",
       "    </tr>\n",
       "  </tbody>\n",
       "</table>\n",
       "</div>"
      ],
      "text/plain": [
       "          date  deceased  recovered  confirmed  active   daily\n",
       "19  2020-03-11       827     1045.0      12462   10590  2313.0"
      ]
     },
     "execution_count": 26,
     "metadata": {},
     "output_type": "execute_result"
    }
   ],
   "source": [
    "it_df = pd.read_csv('csv/italy.csv')\n",
    "it_df['daily'] = it_df['confirmed'] - it_df['confirmed'].shift(1)\n",
    "it_df.sample()"
   ]
  },
  {
   "cell_type": "markdown",
   "metadata": {},
   "source": [
    "### Prep data"
   ]
  },
  {
   "cell_type": "code",
   "execution_count": 57,
   "metadata": {},
   "outputs": [],
   "source": [
    "in_cnf = np.array(df['confirmed'][37:].rolling(6, center=True, min_periods=1).mean()) / 10000\n",
    "it_cnf = np.array(it_df['daily'][1:].rolling(6, center=True, min_periods=1).mean()) / 10000\n",
    "\n",
    "cnf = it_cnf # CHOOSE FROM ITALY OR INDIA HERE\n",
    "ipop = np.array([cnf[:-1], cnf[1:]])\n",
    "data_len = ipop.shape[1]\n",
    "\n",
    "SEQ_LEN = 5\n",
    "ips = []\n",
    "ops = []\n",
    "for i in range(data_len - SEQ_LEN + 1):\n",
    "    ip, op = ipop[0][i : i+SEQ_LEN], ipop[1][i : i+SEQ_LEN]\n",
    "    ips.append(ip)\n",
    "    ops.append(op)\n",
    "ips = np.array(ips, dtype=np.float32)\n",
    "ops = np.array(ops, dtype=np.float32)\n",
    "\n",
    "# convert from numpy to torch\n",
    "ip_t = torch.from_numpy(ips)\n",
    "op_t = torch.from_numpy(ops)\n",
    "\n",
    "dataset = tdt.TensorDataset(ip_t, op_t)\n",
    "\n",
    "seq_data_loader = tdt.DataLoader(dataset, shuffle=False, batch_size=1)\n",
    "rnd_data_loader = tdt.DataLoader(dataset, shuffle=True, batch_size=1)"
   ]
  },
  {
   "cell_type": "markdown",
   "metadata": {},
   "source": [
    "### Define NN and train"
   ]
  },
  {
   "cell_type": "code",
   "execution_count": 58,
   "metadata": {},
   "outputs": [
    {
     "name": "stdout",
     "output_type": "stream",
     "text": [
      "Epoch: 0 Iter: 0 Loss:  0.1879 Out:  5280.69 Ex:  1133.50\n",
      "Epoch: 0 Iter: 10 Loss:  0.0099 Out:  3606.11 Ex:  3242.67\n",
      "Epoch: 0 Iter: 20 Loss:  0.0650 Out:  1619.75 Ex:  3966.50\n",
      "Epoch: 0 Iter: 30 Loss:  0.0030 Out:  5411.81 Ex:  5558.50\n",
      "Epoch: 0 Iter: 40 Loss:  0.0117 Out:  3013.38 Ex:  4310.67\n",
      "Epoch: 0 Iter: 50 Loss:  0.0051 Out:  5261.89 Ex:  4559.17\n",
      "Epoch: 0 Iter: 60 Loss:  0.0001 Out:  885.76 Ex:  1006.50\n",
      "Epoch: 0 Iter: 70 Loss:  0.0007 Out:  3267.24 Ex:  3560.67\n"
     ]
    },
    {
     "data": {
      "text/plain": [
       "<matplotlib.axes._subplots.AxesSubplot at 0x7f285a67fbe0>"
      ]
     },
     "execution_count": 58,
     "metadata": {},
     "output_type": "execute_result"
    },
    {
     "data": {
      "image/png": "[encoded data removed]",
      "text/plain": [
       "<Figure size 432x288 with 1 Axes>"
      ]
     },
     "metadata": {
      "needs_background": "light"
     },
     "output_type": "display_data"
    }
   ],
   "source": [
    "class Forecaster(tnn.Module):\n",
    "    def __init__(self, seq_len=1, hidden_size=1):\n",
    "        super(Forecaster, self).__init__()\n",
    "        \n",
    "        self.seq_len = seq_len\n",
    "        self.hidden_size = hidden_size\n",
    "        \n",
    "        self.rnn = tnn.RNN(input_size=1, hidden_size=hidden_size)\n",
    "    \n",
    "    def forward(self, ip):\n",
    "        outs, h = self.rnn(ip)\n",
    "        return outs.view(self.seq_len)\n",
    "    \n",
    "    def predict(self, ip, num_predictions=1):\n",
    "        preds = []\n",
    "        with torch.no_grad():\n",
    "            pred = ip\n",
    "            while(num_predictions):\n",
    "                pred = self.forward(pred.view(self.seq_len, 1, 1))\n",
    "                preds.append(pred.view(self.seq_len)[-1].item())\n",
    "                num_predictions-=1\n",
    "        return torch.tensor(np.array(preds, dtype=np.float32))\n",
    "\n",
    "model = Forecaster(seq_len=SEQ_LEN, hidden_size=1)\n",
    "loss_fn = tnn.MSELoss()\n",
    "optimizer = top.Adam(model.parameters(), lr=0.1)\n",
    "\n",
    "# TRAIN\n",
    "loss_vals = []\n",
    "pred_vals = []\n",
    "num_epochs = 1\n",
    "\n",
    "for e in range(num_epochs):\n",
    "    for i, data in enumerate(rnd_data_loader):\n",
    "        ip, op = data\n",
    "\n",
    "        # set grads to 0\n",
    "        optimizer.zero_grad()\n",
    "\n",
    "        # predict\n",
    "        pred = model(ip.view(SEQ_LEN, 1, 1))\n",
    "\n",
    "        # calc loss\n",
    "        loss = loss_fn(pred, op.view(SEQ_LEN))\n",
    "\n",
    "        # logging\n",
    "        loss_vals.append(loss.item())\n",
    "        if i%10 == 0:\n",
    "            print(\"Epoch:\", e, \"Iter:\", i, \"Loss:\", f\"{loss.item(): .4f}\", \"Out:\", f\"{pred.view(SEQ_LEN)[-1].item()*10000: .2f}\", \"Ex:\", f\"{op.view(SEQ_LEN)[-1].item()*10000: .2f}\")\n",
    "\n",
    "        # assign grads\n",
    "        loss.backward()\n",
    "\n",
    "        # update weights\n",
    "        optimizer.step()\n",
    "\n",
    "df_loss = pd.DataFrame({\n",
    "    'loss': loss_vals\n",
    "})\n",
    "df_loss.plot(\n",
    "    y='loss'\n",
    ")"
   ]
  },
  {
   "cell_type": "markdown",
   "metadata": {},
   "source": [
    "### Test\n",
    "- on a single value"
   ]
  },
  {
   "cell_type": "code",
   "execution_count": 62,
   "metadata": {},
   "outputs": [
    {
     "data": {
      "image/png": "[encoded data removed]",
      "text/plain": [
       "<Figure size 432x288 with 1 Axes>"
      ]
     },
     "metadata": {
      "needs_background": "light"
     },
     "output_type": "display_data"
    }
   ],
   "source": [
    "# test_in = np.array([1000, 1200, 1300]) / 10000\n",
    "test_in = in_cnf[-SEQ_LEN:]\n",
    "t = torch.tensor(\n",
    "    test_in.reshape(SEQ_LEN, 1, 1),\n",
    "    dtype=torch.float32\n",
    ")\n",
    "# print(\"IN:\", t.view(SEQ_LEN) * 10000)\n",
    "out = model.predict(t, num_predictions=10)\n",
    "# print(\"OUT:\", out * 10000)\n",
    "\n",
    "orig_df = pd.DataFrame({\n",
    "    'actual': in_cnf * 10000\n",
    "})\n",
    "fut_df = pd.DataFrame({\n",
    "    'predicted': (out.numpy() * 10000)\n",
    "})\n",
    "orig_df = orig_df.append(fut_df, ignore_index=True)\n",
    "_ = orig_df.plot()"
   ]
  },
  {
   "cell_type": "markdown",
   "metadata": {},
   "source": [
    "- on entire input"
   ]
  },
  {
   "cell_type": "code",
   "execution_count": 61,
   "metadata": {},
   "outputs": [
    {
     "data": {
      "image/png": "[encoded data removed]",
      "text/plain": [
       "<Figure size 432x288 with 1 Axes>"
      ]
     },
     "metadata": {
      "needs_background": "light"
     },
     "output_type": "display_data"
    }
   ],
   "source": [
    "pred_vals = []\n",
    "out_vals = []\n",
    "for data in seq_data_loader:\n",
    "    ip, op = data\n",
    "    pred = model.predict(ip.view(SEQ_LEN, 1, 1))\n",
    "    pred_vals.append(pred.item() * 10000)\n",
    "    out_vals.append(op.view(SEQ_LEN)[-1].item() * 10000)\n",
    "\n",
    "cmp_df = pd.DataFrame({\n",
    "    'predicted cases': pred_vals,\n",
    "    'actual cases': out_vals\n",
    "})\n",
    "_ = cmp_df.plot()"
   ]
  },
  {
   "cell_type": "code",
   "execution_count": 9,
   "metadata": {},
   "outputs": [
    {
     "name": "stdout",
     "output_type": "stream",
     "text": [
      "rnn.weight_ih_l0 = tensor([[1.2494]])\n",
      "rnn.weight_hh_l0 = tensor([[-0.1536]])\n",
      "rnn.bias_ih_l0 = tensor([0.1265])\n",
      "rnn.bias_hh_l0 = tensor([-0.1436])\n",
      "fc.weight = tensor([[ 0.0143,  0.2704,  0.0245,  0.0218, -0.2900,  0.2766,  0.0433,  0.0060,\n",
      "         -0.0154,  0.0560]])\n",
      "fc.bias = tensor([0.2573])\n"
     ]
    }
   ],
   "source": [
    "for k in model.state_dict().keys():\n",
    "    print(k, \"=\", model.state_dict()[k])"
   ]
  }
 ],
 "metadata": {
  "kernelspec": {
   "display_name": "Python 3",
   "language": "python",
   "name": "python3"
  },
  "language_info": {
   "codemirror_mode": {
    "name": "ipython",
    "version": 3
   },
   "file_extension": ".py",
   "mimetype": "text/x-python",
   "name": "python",
   "nbconvert_exporter": "python",
   "pygments_lexer": "ipython3",
   "version": "3.7.3"
  }
 },
 "nbformat": 4,
 "nbformat_minor": 4
}
