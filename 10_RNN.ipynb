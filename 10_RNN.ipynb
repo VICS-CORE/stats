{
 "cells": [
  {
   "cell_type": "markdown",
   "metadata": {},
   "source": [
    "Useful links\n",
    "\n",
    "- https://blog.floydhub.com/a-beginners-guide-on-recurrent-neural-networks-with-pytorch/\n",
    "- http://karpathy.github.io/2015/05/21/rnn-effectiveness/\n",
    "- https://towardsdatascience.com/pytorch-basics-how-to-train-your-neural-net-intro-to-rnn-cb6ebc594677\n",
    "- https://towardsdatascience.com/time-series-forecasting-with-rnns-ff22683bbbb0\n",
    "- https://towardsdatascience.com/time-series-forecasting-with-recurrent-neural-networks-74674e289816\n",
    "- https://towardsdatascience.com/analyzing-time-series-data-in-pandas-be3887fdd621\n",
    "- http://www.wildml.com/2015/10/recurrent-neural-networks-tutorial-part-3-backpropagation-through-time-and-vanishing-gradients/\n",
    "- https://colah.github.io/posts/2015-09-NN-Types-FP/\n",
    "\n",
    "- https://pytorch.org/docs/stable/nn.html#rnn"
   ]
  },
  {
   "cell_type": "code",
   "execution_count": 1,
   "metadata": {},
   "outputs": [],
   "source": [
    "import pandas as pd\n",
    "import numpy as np\n",
    "import requests as rq\n",
    "import datetime as dt\n",
    "import traceback as tb\n",
    "import torch\n",
    "\n",
    "tnn = torch.nn\n",
    "top = torch.optim\n",
    "from torch.utils import data as tdt"
   ]
  },
  {
   "cell_type": "markdown",
   "metadata": {},
   "source": [
    "### Download data"
   ]
  },
  {
   "cell_type": "code",
   "execution_count": 2,
   "metadata": {},
   "outputs": [
    {
     "data": {
      "text/html": [
       "<div>\n",
       "<style scoped>\n",
       "    .dataframe tbody tr th:only-of-type {\n",
       "        vertical-align: middle;\n",
       "    }\n",
       "\n",
       "    .dataframe tbody tr th {\n",
       "        vertical-align: top;\n",
       "    }\n",
       "\n",
       "    .dataframe thead th {\n",
       "        text-align: right;\n",
       "    }\n",
       "</style>\n",
       "<table border=\"1\" class=\"dataframe\">\n",
       "  <thead>\n",
       "    <tr style=\"text-align: right;\">\n",
       "      <th></th>\n",
       "      <th>date</th>\n",
       "      <th>confirmed</th>\n",
       "      <th>deceased</th>\n",
       "      <th>recovered</th>\n",
       "    </tr>\n",
       "  </thead>\n",
       "  <tbody>\n",
       "    <tr>\n",
       "      <th>53</th>\n",
       "      <td>2020-03-23</td>\n",
       "      <td>94</td>\n",
       "      <td>2</td>\n",
       "      <td>2</td>\n",
       "    </tr>\n",
       "  </tbody>\n",
       "</table>\n",
       "</div>"
      ],
      "text/plain": [
       "         date  confirmed  deceased  recovered\n",
       "53 2020-03-23         94         2          2"
      ]
     },
     "execution_count": 2,
     "metadata": {},
     "output_type": "execute_result"
    }
   ],
   "source": [
    "# get daily time series data from covid19india\n",
    "resp = rq.get(\"https://api.covid19india.org/data.json\")\n",
    "ts = resp.json()['cases_time_series']\n",
    "\n",
    "r = {\n",
    "    \"date\": [],\n",
    "    \"confirmed\": [],\n",
    "    \"deceased\": [],\n",
    "    \"recovered\": []\n",
    "}\n",
    "\n",
    "for d in ts:\n",
    "    try:\n",
    "        r['date'].append(dt.datetime.strptime(d['date'] + \"2020\", '%d %B %Y'))\n",
    "        r['confirmed'].append(np.int64(d['dailyconfirmed']))\n",
    "        r['deceased'].append(np.int64(d['dailydeceased']))\n",
    "        r['recovered'].append(np.int64(d['dailyrecovered']))\n",
    "    except Exception as e:\n",
    "        print(d['date'])\n",
    "        tb.print_exc()\n",
    "\n",
    "df = pd.DataFrame(r)\n",
    "df.sort_values('date', inplace=True)\n",
    "df.sample()"
   ]
  },
  {
   "cell_type": "code",
   "execution_count": 3,
   "metadata": {},
   "outputs": [
    {
     "data": {
      "text/html": [
       "<div>\n",
       "<style scoped>\n",
       "    .dataframe tbody tr th:only-of-type {\n",
       "        vertical-align: middle;\n",
       "    }\n",
       "\n",
       "    .dataframe tbody tr th {\n",
       "        vertical-align: top;\n",
       "    }\n",
       "\n",
       "    .dataframe thead th {\n",
       "        text-align: right;\n",
       "    }\n",
       "</style>\n",
       "<table border=\"1\" class=\"dataframe\">\n",
       "  <thead>\n",
       "    <tr style=\"text-align: right;\">\n",
       "      <th></th>\n",
       "      <th>date</th>\n",
       "      <th>confirmed</th>\n",
       "      <th>deceased</th>\n",
       "      <th>recovered</th>\n",
       "    </tr>\n",
       "  </thead>\n",
       "  <tbody>\n",
       "    <tr>\n",
       "      <th>37</th>\n",
       "      <td>2020-03-07</td>\n",
       "      <td>3</td>\n",
       "      <td>0</td>\n",
       "      <td>0</td>\n",
       "    </tr>\n",
       "    <tr>\n",
       "      <th>38</th>\n",
       "      <td>2020-03-08</td>\n",
       "      <td>5</td>\n",
       "      <td>0</td>\n",
       "      <td>0</td>\n",
       "    </tr>\n",
       "    <tr>\n",
       "      <th>39</th>\n",
       "      <td>2020-03-09</td>\n",
       "      <td>9</td>\n",
       "      <td>0</td>\n",
       "      <td>0</td>\n",
       "    </tr>\n",
       "    <tr>\n",
       "      <th>40</th>\n",
       "      <td>2020-03-10</td>\n",
       "      <td>15</td>\n",
       "      <td>0</td>\n",
       "      <td>1</td>\n",
       "    </tr>\n",
       "    <tr>\n",
       "      <th>41</th>\n",
       "      <td>2020-03-11</td>\n",
       "      <td>8</td>\n",
       "      <td>0</td>\n",
       "      <td>0</td>\n",
       "    </tr>\n",
       "  </tbody>\n",
       "</table>\n",
       "</div>"
      ],
      "text/plain": [
       "         date  confirmed  deceased  recovered\n",
       "37 2020-03-07          3         0          0\n",
       "38 2020-03-08          5         0          0\n",
       "39 2020-03-09          9         0          0\n",
       "40 2020-03-10         15         0          1\n",
       "41 2020-03-11          8         0          0"
      ]
     },
     "execution_count": 3,
     "metadata": {},
     "output_type": "execute_result"
    }
   ],
   "source": [
    "df[37:].head()"
   ]
  },
  {
   "cell_type": "markdown",
   "metadata": {},
   "source": [
    "### Prep data"
   ]
  },
  {
   "cell_type": "code",
   "execution_count": 4,
   "metadata": {},
   "outputs": [],
   "source": [
    "cnf = np.array(df['confirmed'][37:].rolling(6, center=True, min_periods=1).mean()) / 10000\n",
    "\n",
    "ipop = np.array([cnf[:-1], cnf[1:]])\n",
    "data_len = ipop.shape[1]\n",
    "\n",
    "SEQ_LEN = 3\n",
    "ips = []\n",
    "ops = []\n",
    "for i in range(data_len - SEQ_LEN + 1):\n",
    "    ip, op = ipop[0][i : i+SEQ_LEN], ipop[1][i : i+SEQ_LEN]\n",
    "    ips.append(ip)\n",
    "    ops.append(op)\n",
    "ips = np.array(ips, dtype=np.float32)\n",
    "ops = np.array(ops, dtype=np.float32)\n",
    "\n",
    "# convert from numpy to torch\n",
    "ip_t = torch.from_numpy(ips)\n",
    "op_t = torch.from_numpy(ops)\n",
    "\n",
    "dataset = tdt.TensorDataset(ip_t, op_t)\n",
    "\n",
    "seq_data_loader = tdt.DataLoader(dataset, shuffle=False, batch_size=1)\n",
    "rnd_data_loader = tdt.DataLoader(dataset, shuffle=True, batch_size=1)"
   ]
  },
  {
   "cell_type": "markdown",
   "metadata": {},
   "source": [
    "### Define NN and train"
   ]
  },
  {
   "cell_type": "code",
   "execution_count": 13,
   "metadata": {},
   "outputs": [
    {
     "name": "stdout",
     "output_type": "stream",
     "text": [
      "Epoch: 0 Iter: 0 Loss:  0.6078 Out:  7496.06 Ex:  9.50\n",
      "Epoch: 0 Iter: 10 Loss:  0.0726 Out: -2780.19 Ex:  561.67\n",
      "Epoch: 0 Iter: 20 Loss:  0.0393 Out:  3560.32 Ex:  1453.83\n",
      "Epoch: 0 Iter: 30 Loss:  0.0037 Out:  702.37 Ex:  1285.00\n",
      "Epoch: 0 Iter: 40 Loss:  0.0131 Out:  2296.45 Ex:  3457.00\n",
      "Epoch: 0 Iter: 50 Loss:  0.0051 Out:  686.11 Ex:  12.50\n",
      "Epoch: 0 Iter: 60 Loss:  0.0000 Out:  558.81 Ex:  523.67\n",
      "Epoch: 0 Iter: 70 Loss:  0.0007 Out:  532.99 Ex:  850.67\n",
      "Epoch: 1 Iter: 0 Loss:  0.0010 Out: -219.08 Ex:  91.50\n",
      "Epoch: 1 Iter: 10 Loss:  0.0002 Out:  53.76 Ex:  221.50\n",
      "Epoch: 1 Iter: 20 Loss:  0.0002 Out:  1587.62 Ex:  1453.83\n",
      "Epoch: 1 Iter: 30 Loss:  0.0003 Out:  1747.02 Ex:  1664.50\n",
      "Epoch: 1 Iter: 40 Loss:  0.0001 Out:  3603.00 Ex:  3553.83\n",
      "Epoch: 1 Iter: 50 Loss:  0.0001 Out:  315.23 Ex:  424.17\n",
      "Epoch: 1 Iter: 60 Loss:  0.0000 Out:  1225.04 Ex:  1176.50\n",
      "Epoch: 1 Iter: 70 Loss:  0.0000 Out:  98.69 Ex:  37.00\n",
      "Epoch: 2 Iter: 0 Loss:  0.0001 Out:  83.53 Ex:  10.50\n",
      "Epoch: 2 Iter: 10 Loss:  0.0001 Out:  782.33 Ex:  693.33\n",
      "Epoch: 2 Iter: 20 Loss:  0.0000 Out:  210.81 Ex:  277.00\n",
      "Epoch: 2 Iter: 30 Loss:  0.0004 Out:  216.88 Ex:  8.33\n",
      "Epoch: 2 Iter: 40 Loss:  0.0000 Out:  966.39 Ex:  940.50\n",
      "Epoch: 2 Iter: 50 Loss:  0.0000 Out:  8.85 Ex:  17.83\n",
      "Epoch: 2 Iter: 60 Loss:  0.0001 Out:  6.71 Ex:  91.50\n",
      "Epoch: 2 Iter: 70 Loss:  0.0000 Out:  1254.29 Ex:  1176.50\n",
      "Epoch: 3 Iter: 0 Loss:  0.0000 Out:  161.13 Ex:  125.83\n",
      "Epoch: 3 Iter: 10 Loss:  0.0002 Out:  4197.61 Ex:  4332.67\n",
      "Epoch: 3 Iter: 20 Loss:  0.0002 Out:  3095.47 Ex:  3181.50\n",
      "Epoch: 3 Iter: 30 Loss:  0.0001 Out:  952.97 Ex:  1085.67\n",
      "Epoch: 3 Iter: 40 Loss:  0.0021 Out:  2292.65 Ex:  2723.33\n",
      "Epoch: 3 Iter: 50 Loss:  0.0012 Out: -255.41 Ex:  79.00\n",
      "Epoch: 3 Iter: 60 Loss:  0.0004 Out:  1500.20 Ex:  1736.33\n",
      "Epoch: 3 Iter: 70 Loss:  0.0003 Out:  730.99 Ex:  561.67\n",
      "Epoch: 4 Iter: 0 Loss:  0.0003 Out:  1937.15 Ex:  1829.83\n",
      "Epoch: 4 Iter: 10 Loss:  0.0003 Out: -137.79 Ex:  25.67\n",
      "Epoch: 4 Iter: 20 Loss:  0.0000 Out:  711.18 Ex:  739.00\n",
      "Epoch: 4 Iter: 30 Loss:  0.0001 Out:  1191.40 Ex:  1141.83\n",
      "Epoch: 4 Iter: 40 Loss:  0.0002 Out:  49.89 Ex:  221.50\n",
      "Epoch: 4 Iter: 50 Loss:  0.0001 Out:  194.81 Ex:  76.50\n",
      "Epoch: 4 Iter: 60 Loss:  0.0001 Out:  3568.69 Ex:  3553.83\n",
      "Epoch: 4 Iter: 70 Loss:  0.0001 Out:  1561.79 Ex:  1664.50\n",
      "Epoch: 5 Iter: 0 Loss:  0.0005 Out:  1498.53 Ex:  1670.83\n",
      "Epoch: 5 Iter: 10 Loss:  0.0010 Out:  680.81 Ex:  940.50\n",
      "Epoch: 5 Iter: 20 Loss:  0.0008 Out:  1211.30 Ex:  1453.83\n",
      "Epoch: 5 Iter: 30 Loss:  0.0006 Out: -133.62 Ex:  102.67\n",
      "Epoch: 5 Iter: 40 Loss:  0.0000 Out:  1230.30 Ex:  1285.00\n",
      "Epoch: 5 Iter: 50 Loss:  0.0001 Out:  3491.44 Ex:  3347.83\n",
      "Epoch: 5 Iter: 60 Loss:  0.0000 Out:  72.16 Ex:  91.50\n",
      "Epoch: 5 Iter: 70 Loss:  0.0000 Out:  1004.93 Ex:  972.17\n",
      "Epoch: 6 Iter: 0 Loss:  0.0000 Out:  103.67 Ex:  107.00\n",
      "Epoch: 6 Iter: 10 Loss:  0.0000 Out:  551.89 Ex:  548.50\n",
      "Epoch: 6 Iter: 20 Loss:  0.0001 Out:  2862.76 Ex:  3023.50\n",
      "Epoch: 6 Iter: 30 Loss:  0.0001 Out:  5102.25 Ex:  5156.25\n",
      "Epoch: 6 Iter: 40 Loss:  0.0006 Out:  821.38 Ex:  603.83\n",
      "Epoch: 6 Iter: 50 Loss:  0.0005 Out:  3633.96 Ex:  3457.00\n",
      "Epoch: 6 Iter: 60 Loss:  0.0001 Out:  759.29 Ex:  652.50\n",
      "Epoch: 6 Iter: 70 Loss:  0.0000 Out:  271.79 Ex:  277.00\n",
      "Epoch: 7 Iter: 0 Loss:  0.0000 Out: -40.42 Ex:  9.50\n",
      "Epoch: 7 Iter: 10 Loss:  0.0001 Out:  1647.46 Ex:  1736.33\n",
      "Epoch: 7 Iter: 20 Loss:  0.0000 Out:  110.51 Ex:  163.00\n",
      "Epoch: 7 Iter: 30 Loss:  0.0000 Out:  765.60 Ex:  739.00\n",
      "Epoch: 7 Iter: 40 Loss:  0.0003 Out:  4160.61 Ex:  4332.67\n",
      "Epoch: 7 Iter: 50 Loss:  0.0002 Out: -130.52 Ex:  15.00\n",
      "Epoch: 7 Iter: 60 Loss:  0.0000 Out:  1361.77 Ex:  1323.50\n",
      "Epoch: 7 Iter: 70 Loss:  0.0002 Out: -107.33 Ex:  17.83\n",
      "Epoch: 8 Iter: 0 Loss:  0.0007 Out:  315.52 Ex:  548.50\n",
      "Epoch: 8 Iter: 10 Loss:  0.0001 Out:  3358.56 Ex:  3347.83\n",
      "Epoch: 8 Iter: 20 Loss:  0.0000 Out: -46.29 Ex:  10.67\n",
      "Epoch: 8 Iter: 30 Loss:  0.0001 Out:  1057.33 Ex:  1141.83\n",
      "Epoch: 8 Iter: 40 Loss:  0.0000 Out:  166.49 Ex:  107.00\n",
      "Epoch: 8 Iter: 50 Loss:  0.0008 Out:  1286.85 Ex:  972.17\n",
      "Epoch: 8 Iter: 60 Loss:  0.0000 Out:  280.01 Ex:  277.00\n",
      "Epoch: 8 Iter: 70 Loss:  0.0008 Out:  3644.86 Ex:  3560.50\n",
      "Epoch: 9 Iter: 0 Loss:  0.0001 Out:  3311.18 Ex:  3347.83\n",
      "Epoch: 9 Iter: 10 Loss:  0.0000 Out:  1543.72 Ex:  1453.83\n",
      "Epoch: 9 Iter: 20 Loss:  0.0005 Out:  282.53 Ex:  494.50\n",
      "Epoch: 9 Iter: 30 Loss:  0.0003 Out:  4037.77 Ex:  3912.17\n",
      "Epoch: 9 Iter: 40 Loss:  0.0005 Out:  3772.69 Ex:  3726.17\n",
      "Epoch: 9 Iter: 50 Loss:  0.0002 Out:  1201.06 Ex:  1323.50\n",
      "Epoch: 9 Iter: 60 Loss:  0.0002 Out:  3115.55 Ex:  3181.50\n",
      "Epoch: 9 Iter: 70 Loss:  0.0002 Out:  235.32 Ex:  91.50\n"
     ]
    },
    {
     "data": {
      "text/plain": [
       "<matplotlib.axes._subplots.AxesSubplot at 0x7f00ee43cf60>"
      ]
     },
     "execution_count": 13,
     "metadata": {},
     "output_type": "execute_result"
    },
    {
     "data": {
      "image/png": "[encoded data removed]",
      "text/plain": [
       "<Figure size 432x288 with 1 Axes>"
      ]
     },
     "metadata": {
      "needs_background": "light"
     },
     "output_type": "display_data"
    }
   ],
   "source": [
    "class Forecaster(tnn.Module):\n",
    "    def __init__(self, seq_len=1, hidden_size=1):\n",
    "        super(Forecaster, self).__init__()\n",
    "        \n",
    "        self.seq_len = seq_len\n",
    "        self.hidden_size = hidden_size\n",
    "        \n",
    "        self.rnn = tnn.RNN(input_size=1, hidden_size=hidden_size)\n",
    "        self.fc = tnn.Linear(seq_len, 1)\n",
    "    \n",
    "    def forward(self, ip):\n",
    "        outs, h = self.rnn(ip)\n",
    "        return outs.view(3)\n",
    "    \n",
    "    def predict(self, ip, num_predictions=1):\n",
    "        preds = []\n",
    "        with torch.no_grad():\n",
    "            pred = ip\n",
    "            while(num_predictions):\n",
    "                pred = self.forward(pred.view(self.seq_len, 1, 1))\n",
    "                preds.append(pred.view(self.seq_len)[-1].item())\n",
    "                num_predictions-=1\n",
    "        return torch.tensor(np.array(preds, dtype=np.float32))\n",
    "\n",
    "model = Forecaster(seq_len=SEQ_LEN, hidden_size=1)\n",
    "loss_fn = tnn.MSELoss()\n",
    "optimizer = top.Adam(model.parameters(), lr=0.1)\n",
    "\n",
    "# TRAIN\n",
    "loss_vals = []\n",
    "pred_vals = []\n",
    "num_epochs = 10\n",
    "\n",
    "for e in range(num_epochs):\n",
    "    for i, data in enumerate(rnd_data_loader):\n",
    "        ip, op = data\n",
    "\n",
    "        # set grads to 0\n",
    "        optimizer.zero_grad()\n",
    "\n",
    "        # predict\n",
    "        pred = model(ip.view(SEQ_LEN, 1, 1))\n",
    "\n",
    "        # calc loss\n",
    "        loss = loss_fn(pred, op.view(3))\n",
    "\n",
    "        # logging\n",
    "        loss_vals.append(loss.item())\n",
    "        if i%10 == 0:\n",
    "            print(\"Epoch:\", e, \"Iter:\", i, \"Loss:\", f\"{loss.item(): .4f}\", \"Out:\", f\"{pred.view(3)[2].item()*10000: .2f}\", \"Ex:\", f\"{op.view(3)[2].item()*10000: .2f}\")\n",
    "\n",
    "        # assign grads\n",
    "        loss.backward()\n",
    "\n",
    "        # update weights\n",
    "        optimizer.step()\n",
    "\n",
    "df_loss = pd.DataFrame({\n",
    "    'loss': loss_vals\n",
    "})\n",
    "df_loss.plot(\n",
    "    y='loss'\n",
    ")"
   ]
  },
  {
   "cell_type": "markdown",
   "metadata": {},
   "source": [
    "### Test\n",
    "- on a single value"
   ]
  },
  {
   "cell_type": "code",
   "execution_count": 22,
   "metadata": {},
   "outputs": [
    {
     "name": "stdout",
     "output_type": "stream",
     "text": [
      "IN: tensor([4737.3335, 4886.6001, 5156.2500])\n",
      "OUT: tensor([4481.8594, 3984.3767, 3609.0525, 3325.1694, 3114.0078, 2963.4265,\n",
      "        2865.1155, 2813.0696, 2802.6682, 2830.0728])\n"
     ]
    }
   ],
   "source": [
    "# test_in = np.array([1000, 1200, 1300]) / 10000\n",
    "test_in = cnf[-SEQ_LEN:]\n",
    "t = torch.tensor(\n",
    "    test_in.reshape(SEQ_LEN, 1, 1),\n",
    "    dtype=torch.float32\n",
    ")\n",
    "print(\"IN:\", t.view(SEQ_LEN) * 10000)\n",
    "out = model.predict(t, num_predictions=10)\n",
    "print(\"OUT:\", out * 10000)"
   ]
  },
  {
   "cell_type": "markdown",
   "metadata": {},
   "source": [
    "- on entire input"
   ]
  },
  {
   "cell_type": "code",
   "execution_count": 23,
   "metadata": {},
   "outputs": [
    {
     "data": {
      "text/plain": [
       "<matplotlib.axes._subplots.AxesSubplot at 0x7f00ee512320>"
      ]
     },
     "execution_count": 23,
     "metadata": {},
     "output_type": "execute_result"
    },
    {
     "data": {
      "image/png": "[encoded data removed]",
      "text/plain": [
       "<Figure size 432x288 with 1 Axes>"
      ]
     },
     "metadata": {
      "needs_background": "light"
     },
     "output_type": "display_data"
    }
   ],
   "source": [
    "pred_vals = []\n",
    "out_vals = []\n",
    "for data in seq_data_loader:\n",
    "    ip, op = data\n",
    "    pred = model.predict(ip.view(SEQ_LEN, 1, 1))\n",
    "    pred_vals.append(pred.item() * 10000)\n",
    "    out_vals.append(op.view(SEQ_LEN)[-1].item() * 10000)\n",
    "\n",
    "cmp_df = pd.DataFrame({\n",
    "    'predicted cases': pred_vals,\n",
    "    'actual cases': out_vals\n",
    "})\n",
    "cmp_df.plot()\n"
   ]
  },
  {
   "cell_type": "code",
   "execution_count": 73,
   "metadata": {},
   "outputs": [
    {
     "name": "stdout",
     "output_type": "stream",
     "text": [
      "rnn.weight_ih_l0 = tensor([[-0.4787]])\n",
      "rnn.weight_hh_l0 = tensor([[0.5714]])\n",
      "rnn.bias_ih_l0 = tensor([-0.4862])\n",
      "rnn.bias_hh_l0 = tensor([-0.3711])\n",
      "fc.weight = tensor([[ 0.3509, -0.5119, -0.4539]])\n",
      "fc.bias = tensor([-0.4916])\n"
     ]
    }
   ],
   "source": [
    "for k in model.state_dict().keys():\n",
    "    print(k, \"=\", model.state_dict()[k])"
   ]
  }
 ],
 "metadata": {
  "kernelspec": {
   "display_name": "Python 3",
   "language": "python",
   "name": "python3"
  },
  "language_info": {
   "codemirror_mode": {
    "name": "ipython",
    "version": 3
   },
   "file_extension": ".py",
   "mimetype": "text/x-python",
   "name": "python",
   "nbconvert_exporter": "python",
   "pygments_lexer": "ipython3",
   "version": "3.7.3"
  }
 },
 "nbformat": 4,
 "nbformat_minor": 4
}
