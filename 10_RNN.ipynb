{
 "cells": [
  {
   "cell_type": "markdown",
   "metadata": {},
   "source": [
    "Useful links\n",
    "\n",
    "- https://blog.floydhub.com/a-beginners-guide-on-recurrent-neural-networks-with-pytorch/\n",
    "- http://karpathy.github.io/2015/05/21/rnn-effectiveness/\n",
    "- https://stackabuse.com/time-series-prediction-using-lstm-with-pytorch-in-python/\n",
    "- https://towardsdatascience.com/pytorch-basics-how-to-train-your-neural-net-intro-to-rnn-cb6ebc594677\n",
    "- https://towardsdatascience.com/time-series-forecasting-with-rnns-ff22683bbbb0\n",
    "- https://towardsdatascience.com/time-series-forecasting-with-recurrent-neural-networks-74674e289816\n",
    "- https://towardsdatascience.com/analyzing-time-series-data-in-pandas-be3887fdd621\n",
    "- http://www.wildml.com/2015/10/recurrent-neural-networks-tutorial-part-3-backpropagation-through-time-and-vanishing-gradients/\n",
    "- https://colah.github.io/posts/2015-09-NN-Types-FP/\n",
    "- https://pytorch.org/docs/stable/nn.html#rnn"
   ]
  },
  {
   "cell_type": "code",
   "execution_count": 1,
   "metadata": {},
   "outputs": [],
   "source": [
    "import pandas as pd\n",
    "import numpy as np\n",
    "import requests as rq\n",
    "import datetime as dt\n",
    "import traceback as tb\n",
    "import torch\n",
    "\n",
    "tnn = torch.nn\n",
    "top = torch.optim\n",
    "from torch.utils import data as tdt"
   ]
  },
  {
   "cell_type": "markdown",
   "metadata": {},
   "source": [
    "### Download India's data"
   ]
  },
  {
   "cell_type": "code",
   "execution_count": 2,
   "metadata": {},
   "outputs": [
    {
     "data": {
      "text/html": [
       "<div>\n",
       "<style scoped>\n",
       "    .dataframe tbody tr th:only-of-type {\n",
       "        vertical-align: middle;\n",
       "    }\n",
       "\n",
       "    .dataframe tbody tr th {\n",
       "        vertical-align: top;\n",
       "    }\n",
       "\n",
       "    .dataframe thead th {\n",
       "        text-align: right;\n",
       "    }\n",
       "</style>\n",
       "<table border=\"1\" class=\"dataframe\">\n",
       "  <thead>\n",
       "    <tr style=\"text-align: right;\">\n",
       "      <th></th>\n",
       "      <th>date</th>\n",
       "      <th>confirmed</th>\n",
       "      <th>deceased</th>\n",
       "      <th>recovered</th>\n",
       "    </tr>\n",
       "  </thead>\n",
       "  <tbody>\n",
       "    <tr>\n",
       "      <th>1</th>\n",
       "      <td>2020-01-31</td>\n",
       "      <td>0</td>\n",
       "      <td>0</td>\n",
       "      <td>0</td>\n",
       "    </tr>\n",
       "  </tbody>\n",
       "</table>\n",
       "</div>"
      ],
      "text/plain": [
       "        date  confirmed  deceased  recovered\n",
       "1 2020-01-31          0         0          0"
      ]
     },
     "execution_count": 2,
     "metadata": {},
     "output_type": "execute_result"
    }
   ],
   "source": [
    "# get daily time series data from covid19india\n",
    "resp = rq.get(\"https://api.covid19india.org/data.json\")\n",
    "ts = resp.json()['cases_time_series']\n",
    "\n",
    "r = {\n",
    "    \"date\": [],\n",
    "    \"confirmed\": [],\n",
    "    \"deceased\": [],\n",
    "    \"recovered\": []\n",
    "}\n",
    "\n",
    "for d in ts:\n",
    "    try:\n",
    "        r['date'].append(dt.datetime.strptime(d['date'] + \"2020\", '%d %B %Y'))\n",
    "        r['confirmed'].append(np.int64(d['dailyconfirmed']))\n",
    "        r['deceased'].append(np.int64(d['dailydeceased']))\n",
    "        r['recovered'].append(np.int64(d['dailyrecovered']))\n",
    "    except Exception as e:\n",
    "        print(d['date'])\n",
    "        tb.print_exc()\n",
    "\n",
    "df = pd.DataFrame(r)\n",
    "df.sort_values('date', inplace=True)\n",
    "df.sample()"
   ]
  },
  {
   "cell_type": "markdown",
   "metadata": {},
   "source": [
    "### Italy's and Spain's data"
   ]
  },
  {
   "cell_type": "code",
   "execution_count": 3,
   "metadata": {},
   "outputs": [
    {
     "name": "stdout",
     "output_type": "stream",
     "text": [
      "          date  deceased  recovered  confirmed  active  daily\n",
      "63  2020-04-24     25969    60498.0     192994  106527   3021\n",
      "          date  deaths  recovered  confirmed  active  daily\n",
      "14  2020-03-09    35.0        140       2277    2102    764\n"
     ]
    }
   ],
   "source": [
    "it_df = pd.read_csv('csv/italy.csv')\n",
    "print(it_df.sample())\n",
    "\n",
    "es_df = pd.read_csv('csv/spain.csv')\n",
    "print(es_df.sample())"
   ]
  },
  {
   "cell_type": "markdown",
   "metadata": {},
   "source": [
    "### Prep data"
   ]
  },
  {
   "cell_type": "code",
   "execution_count": 4,
   "metadata": {},
   "outputs": [],
   "source": [
    "def get_rnn_dataset(series, seq_len):\n",
    "    \"\"\"get rnn training dataset, given a series and seq_len\"\"\"\n",
    "    ip_seq = np.array(series[:-1], dtype=np.float32)\n",
    "    op_seq = np.array(series[1:], dtype=np.float32)\n",
    "    data_len = len(series) - 1\n",
    "\n",
    "    ips = []\n",
    "    ops = []\n",
    "    for i in range(data_len - seq_len + 1):\n",
    "        ip, op = ip_seq[i : i+seq_len], op_seq[i : i+seq_len]\n",
    "        ips.append(ip)\n",
    "        ops.append(op)\n",
    "    ips = np.array(ips, dtype=np.float32)\n",
    "    ops = np.array(ops, dtype=np.float32)\n",
    "\n",
    "    # convert from numpy to torch\n",
    "    ip_t = torch.from_numpy(ips)\n",
    "    op_t = torch.from_numpy(ops)\n",
    "\n",
    "    dataset = tdt.TensorDataset(ip_t, op_t)\n",
    "    return dataset\n",
    "\n",
    "# preprocess data: sma(6) and normalise by 10k\n",
    "in_cnf = np.array(df['confirmed'][37:].rolling(6, center=True, min_periods=1).mean()) / 10000\n",
    "it_cnf = np.array(it_df['daily'].rolling(6, center=True, min_periods=1).mean()) / 10000\n",
    "es_cnf = np.array(es_df['daily'].rolling(6, center=True, min_periods=1).mean()) / 10000\n",
    "\n",
    "# Choose among India or Italy or Spain here\n",
    "cnf = in_cnf # np.append(it_cnf, es_cnf)\n",
    "SEQ_LEN = 5\n",
    "dataset = get_rnn_dataset(cnf, SEQ_LEN)\n",
    "\n",
    "seq_data_loader = tdt.DataLoader(dataset, shuffle=False, batch_size=1)\n",
    "rnd_data_loader = tdt.DataLoader(dataset, shuffle=True, batch_size=1)"
   ]
  },
  {
   "cell_type": "markdown",
   "metadata": {},
   "source": [
    "### Define NN and train"
   ]
  },
  {
   "cell_type": "code",
   "execution_count": 15,
   "metadata": {},
   "outputs": [
    {
     "name": "stdout",
     "output_type": "stream",
     "text": [
      "Epoch: 0 Iter:   0 Loss:  0.62776 Out: -8004.17 Ex:  424.17\n",
      "Epoch: 0 Iter:  10 Loss:  0.01241 Out:  2627.33 Ex:  1736.33\n",
      "Epoch: 0 Iter:  20 Loss:  0.09935 Out:  432.58 Ex:  3617.50\n",
      "Epoch: 0 Iter:  30 Loss:  0.01542 Out:  1769.66 Ex:  561.67\n",
      "Epoch: 0 Iter:  40 Loss:  0.00308 Out:  1569.83 Ex:  1085.67\n",
      "Epoch: 0 Iter:  50 Loss:  0.05191 Out:  2531.10 Ex:  5394.67\n",
      "Epoch: 0 Iter:  60 Loss:  0.00047 Out:  310.24 Ex:  102.67\n",
      "Epoch: 0 Iter:  70 Loss:  0.00090 Out:  3652.98 Ex:  4155.00\n",
      "Epoch: 1 Iter:   0 Loss:  0.03559 Out:  3058.82 Ex:  1285.00\n",
      "Epoch: 1 Iter:  10 Loss:  0.16133 Out:  1654.93 Ex:  6116.75\n",
      "Epoch: 1 Iter:  20 Loss:  0.09049 Out:  3261.24 Ex:  424.17\n",
      "Epoch: 1 Iter:  30 Loss:  0.01256 Out: -297.34 Ex:  739.00\n",
      "Epoch: 1 Iter:  40 Loss:  0.00216 Out:  2109.17 Ex:  1670.83\n",
      "Epoch: 1 Iter:  50 Loss:  0.00051 Out: -9.04 Ex:  17.83\n",
      "Epoch: 1 Iter:  60 Loss:  0.00073 Out:  5392.06 Ex:  5394.67\n",
      "Epoch: 1 Iter:  70 Loss:  0.00029 Out:  233.52 Ex:  79.00\n",
      "Epoch: 2 Iter:   0 Loss:  0.00024 Out:  1884.21 Ex:  1670.83\n",
      "Epoch: 2 Iter:  10 Loss:  0.00015 Out:  21.15 Ex:  12.50\n",
      "Epoch: 2 Iter:  20 Loss:  0.00052 Out:  2176.70 Ex:  1989.33\n",
      "Epoch: 2 Iter:  30 Loss:  0.00089 Out:  1291.33 Ex:  1557.67\n",
      "Epoch: 2 Iter:  40 Loss:  0.00017 Out:  1849.23 Ex:  1736.33\n",
      "Epoch: 2 Iter:  50 Loss:  0.00037 Out:  1437.33 Ex:  1664.50\n",
      "Epoch: 2 Iter:  60 Loss:  0.00015 Out:  230.59 Ex:  102.67\n",
      "Epoch: 2 Iter:  70 Loss:  0.00003 Out:  136.03 Ex:  91.50\n",
      "Epoch: 3 Iter:   0 Loss:  0.00005 Out:  957.78 Ex:  972.17\n",
      "Epoch: 3 Iter:  10 Loss:  0.00078 Out:  3164.36 Ex:  3310.67\n",
      "Epoch: 3 Iter:  20 Loss:  0.00013 Out:  4326.48 Ex:  4332.67\n",
      "Epoch: 3 Iter:  30 Loss:  0.00010 Out:  289.74 Ex:  221.50\n",
      "Epoch: 3 Iter:  40 Loss:  0.00002 Out:  1224.77 Ex:  1285.00\n",
      "Epoch: 3 Iter:  50 Loss:  0.00021 Out:  4949.88 Ex:  5025.50\n",
      "Epoch: 3 Iter:  60 Loss:  0.00007 Out:  3639.42 Ex:  3560.50\n",
      "Epoch: 3 Iter:  70 Loss:  0.00029 Out:  1450.70 Ex:  1664.50\n",
      "Epoch: 4 Iter:   0 Loss:  0.00016 Out:  564.75 Ex:  693.33\n",
      "Epoch: 4 Iter:  10 Loss:  0.00058 Out:  3132.44 Ex:  3181.50\n",
      "Epoch: 4 Iter:  20 Loss:  0.00004 Out:  957.20 Ex:  972.17\n",
      "Epoch: 4 Iter:  30 Loss:  0.00009 Out: -80.36 Ex:  10.50\n",
      "Epoch: 4 Iter:  40 Loss:  0.00079 Out:  3966.15 Ex:  3726.17\n",
      "Epoch: 4 Iter:  50 Loss:  0.00010 Out:  421.25 Ex:  347.67\n",
      "Epoch: 4 Iter:  60 Loss:  0.00011 Out: -65.54 Ex:  10.67\n",
      "Epoch: 4 Iter:  70 Loss:  0.00137 Out:  965.46 Ex:  561.67\n"
     ]
    },
    {
     "data": {
      "text/plain": [
       "<matplotlib.axes._subplots.AxesSubplot at 0x7efef3299278>"
      ]
     },
     "execution_count": 15,
     "metadata": {},
     "output_type": "execute_result"
    },
    {
     "data": {
      "image/png": "[encoded data removed]",
      "text/plain": [
       "<Figure size 432x288 with 1 Axes>"
      ]
     },
     "metadata": {
      "needs_background": "light"
     },
     "output_type": "display_data"
    }
   ],
   "source": [
    "class Forecaster(tnn.Module):\n",
    "    def __init__(self, seq_len=1, hidden_size=1, num_layers=1):\n",
    "        super(Forecaster, self).__init__()\n",
    "        \n",
    "        self.seq_len = seq_len\n",
    "        self.hidden_size = hidden_size\n",
    "        self.num_layers = num_layers\n",
    "        \n",
    "        self.rnn = tnn.RNN(input_size=1, hidden_size=self.hidden_size, num_layers=self.num_layers)\n",
    "#         self.gru = tnn.GRU(input_size=1, hidden_size=self.hidden_size, num_layers=self.num_layers)\n",
    "#         self.lstm = tnn.LSTM(input_size=1, hidden_size=self.hidden_size, num_layers=self.num_layers)\n",
    "        self.linear = tnn.Linear(self.hidden_size, 1)\n",
    "#         self.sigmoid = tnn.Sigmoid()\n",
    "    \n",
    "    def forward(self, ip, h=None):\n",
    "        rnn_out, rnn_h = self.rnn(ip, h)\n",
    "#         return (torch.squeeze(rnn_out), torch.squeeze(rnn_h))\n",
    "        # linear layer\n",
    "        final_out = []\n",
    "        for i in range(self.seq_len):\n",
    "            linear_out = self.linear(rnn_out[i].view(self.hidden_size))\n",
    "            final_out.append(linear_out)\n",
    "        return torch.stack(final_out).view(self.seq_len), rnn_h\n",
    "    \n",
    "    def predict(self, ip, num_predictions=1):\n",
    "        preds = []\n",
    "        with torch.no_grad():\n",
    "            pred = ip\n",
    "            h = None\n",
    "            while(num_predictions):\n",
    "                pred, h = self.forward(pred.view(self.seq_len, 1, 1), h)\n",
    "                preds.append(pred.view(self.seq_len)[-1])\n",
    "                num_predictions -= 1\n",
    "        return torch.stack(preds)\n",
    "\n",
    "HIDDEN_SIZE = 1\n",
    "NUM_LAYERS = 1\n",
    "LEARNING_RATE = 0.1\n",
    "\n",
    "model = Forecaster(seq_len=SEQ_LEN, hidden_size=HIDDEN_SIZE, num_layers=NUM_LAYERS)\n",
    "loss_fn = tnn.MSELoss()\n",
    "optimizer = top.Adam(model.parameters(), lr=LEARNING_RATE)\n",
    "\n",
    "# TRAIN\n",
    "loss_vals = []\n",
    "pred_vals = []\n",
    "\n",
    "NUM_EPOCHS = 5\n",
    "for e in range(NUM_EPOCHS):\n",
    "    for i, data in enumerate(rnd_data_loader):\n",
    "        ip, op = data\n",
    "\n",
    "        # set grads to 0\n",
    "        optimizer.zero_grad()\n",
    "\n",
    "        # predict\n",
    "        pred, _ = model(ip.view(SEQ_LEN, 1, 1))\n",
    "\n",
    "        # calc loss\n",
    "        loss = loss_fn(pred, op.view(SEQ_LEN))\n",
    "\n",
    "        # logging\n",
    "        loss_vals.append(loss.item())\n",
    "        if i%10 == 0:\n",
    "            print(\"Epoch:\", e, \"Iter:\", f\"{i:3}\", \"Loss:\", f\"{loss.item(): .5f}\", \"Out:\", f\"{pred.view(SEQ_LEN)[-1].item()*10000: .2f}\", \"Ex:\", f\"{op.view(SEQ_LEN)[-1].item()*10000: .2f}\")\n",
    "\n",
    "        # assign grads\n",
    "        loss.backward()\n",
    "\n",
    "        # update weights\n",
    "        optimizer.step()\n",
    "\n",
    "df_loss = pd.DataFrame({\n",
    "    'loss': loss_vals\n",
    "})\n",
    "df_loss.plot(\n",
    "    y='loss'\n",
    ")"
   ]
  },
  {
   "cell_type": "markdown",
   "metadata": {},
   "source": [
    "### Test\n",
    "- future values on any country's data"
   ]
  },
  {
   "cell_type": "code",
   "execution_count": 16,
   "metadata": {},
   "outputs": [
    {
     "name": "stdout",
     "output_type": "stream",
     "text": [
      "IN: tensor([5025.5000, 5394.6670, 5690.6665, 5819.0000, 6116.7500])\n",
      "OUT: tensor([5578.4463, 5292.3872, 5114.8281, 4995.4648, 4911.2778, 4850.0010,\n",
      "        4804.4131, 4769.9561, 4743.6030, 4723.2642, 4707.4541, 4695.0933,\n",
      "        4685.3818, 4677.7212, 4671.6558, 4666.8389, 4663.0015, 4659.9365,\n",
      "        4657.4824, 4655.5132, 4653.9302, 4652.6562, 4651.6294, 4650.8018,\n",
      "        4650.1353, 4649.5986, 4649.1680, 4648.8232, 4648.5493, 4648.3330,\n",
      "        4648.1646, 4648.0347, 4647.9370, 4647.8657, 4647.8164, 4647.7847,\n",
      "        4647.7681, 4647.7627, 4647.7676, 4647.7803, 4647.7983, 4647.8213,\n",
      "        4647.8481, 4647.8774, 4647.9082, 4647.9404, 4647.9731, 4648.0059,\n",
      "        4648.0386, 4648.0703])\n"
     ]
    },
    {
     "data": {
      "image/png": "[encoded data removed]",
      "text/plain": [
       "<Figure size 432x288 with 1 Axes>"
      ]
     },
     "metadata": {
      "needs_background": "light"
     },
     "output_type": "display_data"
    }
   ],
   "source": [
    "# CHOOSE FROM IN, IT OR ES HERE\n",
    "df_cnf = in_cnf\n",
    "# df_cnf = np.array([8000, 7600, 7300, 6900, 6650], dtype=np.float32) / 10000\n",
    "\n",
    "test_in = df_cnf[-SEQ_LEN:]\n",
    "t = torch.tensor(\n",
    "    test_in.reshape(SEQ_LEN, 1, 1),\n",
    "    dtype=torch.float32\n",
    ")\n",
    "print(\"IN:\", t.view(SEQ_LEN) * 10000)\n",
    "out = model.predict(t, num_predictions=50)\n",
    "print(\"OUT:\", out * 10000)\n",
    "\n",
    "orig_df = pd.DataFrame({\n",
    "    'actual': df_cnf * 10000\n",
    "})\n",
    "fut_df = pd.DataFrame({\n",
    "    'predicted': (out.numpy() * 10000)\n",
    "})\n",
    "orig_df = orig_df.append(fut_df, ignore_index=True, sort=False)\n",
    "_ = orig_df.plot()"
   ]
  },
  {
   "cell_type": "markdown",
   "metadata": {},
   "source": [
    "- on training data"
   ]
  },
  {
   "cell_type": "code",
   "execution_count": 17,
   "metadata": {},
   "outputs": [
    {
     "data": {
      "image/png": "[encoded data removed]",
      "text/plain": [
       "<Figure size 432x288 with 1 Axes>"
      ]
     },
     "metadata": {
      "needs_background": "light"
     },
     "output_type": "display_data"
    }
   ],
   "source": [
    "pred_vals = []\n",
    "out_vals = []\n",
    "for data in seq_data_loader:\n",
    "    ip, op = data\n",
    "    pred = model.predict(ip.view(SEQ_LEN, 1, 1))\n",
    "    pred_vals.append(pred.item() * 10000)\n",
    "    out_vals.append(op.view(SEQ_LEN)[-1].item() * 10000)\n",
    "\n",
    "cmp_df = pd.DataFrame({\n",
    "    'predicted cases': pred_vals,\n",
    "    'actual cases': out_vals\n",
    "})\n",
    "_ = cmp_df.plot()"
   ]
  },
  {
   "cell_type": "code",
   "execution_count": 18,
   "metadata": {},
   "outputs": [
    {
     "name": "stdout",
     "output_type": "stream",
     "text": [
      "rnn.weight_ih_l0 = tensor([[-3.0163]])\n",
      "rnn.weight_hh_l0 = tensor([[-0.1003]])\n",
      "rnn.bias_ih_l0 = tensor([0.6959])\n",
      "rnn.bias_hh_l0 = tensor([0.0910])\n",
      "linear.weight = tensor([[-0.3798]])\n",
      "linear.bias = tensor([0.2708])\n"
     ]
    }
   ],
   "source": [
    "for k in model.state_dict().keys():\n",
    "    print(k, \"=\", model.state_dict()[k])"
   ]
  }
 ],
 "metadata": {
  "kernelspec": {
   "display_name": "Python 3",
   "language": "python",
   "name": "python3"
  },
  "language_info": {
   "codemirror_mode": {
    "name": "ipython",
    "version": 3
   },
   "file_extension": ".py",
   "mimetype": "text/x-python",
   "name": "python",
   "nbconvert_exporter": "python",
   "pygments_lexer": "ipython3",
   "version": "3.7.3"
  }
 },
 "nbformat": 4,
 "nbformat_minor": 4
}
