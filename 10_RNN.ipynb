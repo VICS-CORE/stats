{
 "cells": [
  {
   "cell_type": "markdown",
   "metadata": {},
   "source": [
    "Useful links\n",
    "\n",
    "- https://blog.floydhub.com/a-beginners-guide-on-recurrent-neural-networks-with-pytorch/\n",
    "- http://karpathy.github.io/2015/05/21/rnn-effectiveness/\n",
    "- https://stackabuse.com/time-series-prediction-using-lstm-with-pytorch-in-python/\n",
    "- https://towardsdatascience.com/pytorch-basics-how-to-train-your-neural-net-intro-to-rnn-cb6ebc594677\n",
    "- https://towardsdatascience.com/time-series-forecasting-with-rnns-ff22683bbbb0\n",
    "- https://towardsdatascience.com/time-series-forecasting-with-recurrent-neural-networks-74674e289816\n",
    "- https://towardsdatascience.com/analyzing-time-series-data-in-pandas-be3887fdd621\n",
    "- http://www.wildml.com/2015/10/recurrent-neural-networks-tutorial-part-3-backpropagation-through-time-and-vanishing-gradients/\n",
    "- https://colah.github.io/posts/2015-09-NN-Types-FP/\n",
    "- https://pytorch.org/docs/stable/nn.html#rnn"
   ]
  },
  {
   "cell_type": "code",
   "execution_count": 1,
   "metadata": {},
   "outputs": [],
   "source": [
    "import pandas as pd\n",
    "import numpy as np\n",
    "import requests as rq\n",
    "import datetime as dt\n",
    "import traceback as tb\n",
    "import torch\n",
    "\n",
    "tnn = torch.nn\n",
    "top = torch.optim\n",
    "from torch.utils import data as tdt"
   ]
  },
  {
   "cell_type": "markdown",
   "metadata": {},
   "source": [
    "### Download India's data"
   ]
  },
  {
   "cell_type": "code",
   "execution_count": 2,
   "metadata": {},
   "outputs": [
    {
     "data": {
      "text/html": [
       "<div>\n",
       "<style scoped>\n",
       "    .dataframe tbody tr th:only-of-type {\n",
       "        vertical-align: middle;\n",
       "    }\n",
       "\n",
       "    .dataframe tbody tr th {\n",
       "        vertical-align: top;\n",
       "    }\n",
       "\n",
       "    .dataframe thead th {\n",
       "        text-align: right;\n",
       "    }\n",
       "</style>\n",
       "<table border=\"1\" class=\"dataframe\">\n",
       "  <thead>\n",
       "    <tr style=\"text-align: right;\">\n",
       "      <th></th>\n",
       "      <th>date</th>\n",
       "      <th>confirmed</th>\n",
       "      <th>deceased</th>\n",
       "      <th>recovered</th>\n",
       "    </tr>\n",
       "  </thead>\n",
       "  <tbody>\n",
       "    <tr>\n",
       "      <th>1</th>\n",
       "      <td>2020-01-31</td>\n",
       "      <td>0</td>\n",
       "      <td>0</td>\n",
       "      <td>0</td>\n",
       "    </tr>\n",
       "  </tbody>\n",
       "</table>\n",
       "</div>"
      ],
      "text/plain": [
       "        date  confirmed  deceased  recovered\n",
       "1 2020-01-31          0         0          0"
      ]
     },
     "execution_count": 2,
     "metadata": {},
     "output_type": "execute_result"
    }
   ],
   "source": [
    "# get daily time series data from covid19india\n",
    "resp = rq.get(\"https://api.covid19india.org/data.json\")\n",
    "ts = resp.json()['cases_time_series']\n",
    "\n",
    "r = {\n",
    "    \"date\": [],\n",
    "    \"confirmed\": [],\n",
    "    \"deceased\": [],\n",
    "    \"recovered\": []\n",
    "}\n",
    "\n",
    "for d in ts:\n",
    "    try:\n",
    "        r['date'].append(dt.datetime.strptime(d['date'] + \"2020\", '%d %B %Y'))\n",
    "        r['confirmed'].append(np.int64(d['dailyconfirmed']))\n",
    "        r['deceased'].append(np.int64(d['dailydeceased']))\n",
    "        r['recovered'].append(np.int64(d['dailyrecovered']))\n",
    "    except Exception as e:\n",
    "        print(d['date'])\n",
    "        tb.print_exc()\n",
    "\n",
    "df = pd.DataFrame(r)\n",
    "df.sort_values('date', inplace=True)\n",
    "df.sample()"
   ]
  },
  {
   "cell_type": "markdown",
   "metadata": {},
   "source": [
    "### Italy's and Spain's data"
   ]
  },
  {
   "cell_type": "code",
   "execution_count": 3,
   "metadata": {},
   "outputs": [
    {
     "name": "stdout",
     "output_type": "stream",
     "text": [
      "          date  deceased  recovered  confirmed  active  daily\n",
      "63  2020-04-24     25969    60498.0     192994  106527   3021\n",
      "          date  deaths  recovered  confirmed  active  daily\n",
      "14  2020-03-09    35.0        140       2277    2102    764\n"
     ]
    }
   ],
   "source": [
    "it_df = pd.read_csv('csv/italy.csv')\n",
    "print(it_df.sample())\n",
    "\n",
    "es_df = pd.read_csv('csv/spain.csv')\n",
    "print(es_df.sample())"
   ]
  },
  {
   "cell_type": "markdown",
   "metadata": {},
   "source": [
    "### Prep data"
   ]
  },
  {
   "cell_type": "code",
   "execution_count": 4,
   "metadata": {},
   "outputs": [],
   "source": [
    "def get_rnn_dataset(series, seq_len):\n",
    "    \"\"\"get rnn training dataset, given a series and seq_len\"\"\"\n",
    "    ip_seq = np.array(series[:-1], dtype=np.float32)\n",
    "    op_seq = np.array(series[1:], dtype=np.float32)\n",
    "    data_len = len(series) - 1\n",
    "\n",
    "    ips = []\n",
    "    ops = []\n",
    "    for i in range(data_len - seq_len + 1):\n",
    "        ip, op = ip_seq[i : i+seq_len], op_seq[i : i+seq_len]\n",
    "        ips.append(ip)\n",
    "        ops.append(op)\n",
    "    ips = np.array(ips, dtype=np.float32)\n",
    "    ops = np.array(ops, dtype=np.float32)\n",
    "\n",
    "    # convert from numpy to torch\n",
    "    ip_t = torch.from_numpy(ips)\n",
    "    op_t = torch.from_numpy(ops)\n",
    "\n",
    "    dataset = tdt.TensorDataset(ip_t, op_t)\n",
    "    return dataset\n",
    "\n",
    "# preprocess data: sma(6) and normalise by 10k\n",
    "in_cnf = np.array(df['confirmed'][37:].rolling(6, center=True, min_periods=1).mean()) / 10000\n",
    "it_cnf = np.array(it_df['daily'].rolling(6, center=True, min_periods=1).mean()) / 10000\n",
    "es_cnf = np.array(es_df['daily'].rolling(6, center=True, min_periods=1).mean()) / 10000\n",
    "\n",
    "# Choose among India or Italy or Spain here\n",
    "cnf = in_cnf # np.append(it_cnf, es_cnf)\n",
    "SEQ_LEN = 5\n",
    "dataset = get_rnn_dataset(cnf, SEQ_LEN)\n",
    "\n",
    "seq_data_loader = tdt.DataLoader(dataset, shuffle=False, batch_size=1)\n",
    "rnd_data_loader = tdt.DataLoader(dataset, shuffle=True, batch_size=1)"
   ]
  },
  {
   "cell_type": "markdown",
   "metadata": {},
   "source": [
    "### Define NN and train"
   ]
  },
  {
   "cell_type": "code",
   "execution_count": 28,
   "metadata": {},
   "outputs": [
    {
     "name": "stdout",
     "output_type": "stream",
     "text": [
      "Epoch: 0 Iter:   0 Loss:  0.02202 Out:  4360.36 Ex:  3310.67\n",
      "Epoch: 1 Iter:   0 Loss:  0.01819 Out:  1520.31 Ex:  163.00\n",
      "Epoch: 2 Iter:   0 Loss:  0.02249 Out:  2007.60 Ex:  3553.83\n",
      "Epoch: 3 Iter:   0 Loss:  0.00036 Out:  4103.72 Ex:  3912.17\n",
      "Epoch: 4 Iter:   0 Loss:  0.00029 Out: -9.68 Ex:  12.50\n",
      "Epoch: 5 Iter:   0 Loss:  0.00015 Out: -20.50 Ex:  10.50\n",
      "Epoch: 6 Iter:   0 Loss:  0.00004 Out:  861.46 Ex:  928.33\n",
      "Epoch: 7 Iter:   0 Loss:  0.00030 Out:  5157.41 Ex:  5394.67\n",
      "Epoch: 8 Iter:   0 Loss:  0.00008 Out:  3771.95 Ex:  3726.17\n",
      "Epoch: 9 Iter:   0 Loss:  0.00002 Out:  639.84 Ex:  693.33\n",
      "Epoch: 10 Iter:   0 Loss:  0.00001 Out:  163.99 Ex:  221.50\n",
      "Epoch: 11 Iter:   0 Loss:  0.00011 Out:  2655.11 Ex:  2723.33\n",
      "Epoch: 12 Iter:   0 Loss:  0.00001 Out:  915.38 Ex:  928.33\n",
      "Epoch: 13 Iter:   0 Loss:  0.00004 Out:  1662.06 Ex:  1664.50\n",
      "Epoch: 14 Iter:   0 Loss:  0.00003 Out:  59.85 Ex:  125.83\n",
      "Epoch: 15 Iter:   0 Loss:  0.00002 Out:  90.42 Ex:  46.17\n",
      "Epoch: 16 Iter:   0 Loss:  0.00006 Out:  227.63 Ex:  163.00\n",
      "Epoch: 17 Iter:   0 Loss:  0.00005 Out:  2697.24 Ex:  2723.33\n",
      "Epoch: 18 Iter:   0 Loss:  0.00001 Out:  1613.62 Ex:  1664.50\n",
      "Epoch: 19 Iter:   0 Loss:  0.00009 Out:  3366.64 Ex:  3310.67\n",
      "Epoch: 20 Iter:   0 Loss:  0.00014 Out:  3561.03 Ex:  3347.83\n",
      "Epoch: 21 Iter:   0 Loss:  0.00059 Out:  3936.10 Ex:  3726.17\n",
      "Epoch: 22 Iter:   0 Loss:  0.00001 Out:  624.26 Ex:  603.83\n",
      "Epoch: 23 Iter:   0 Loss:  0.00008 Out: -72.92 Ex:  25.67\n",
      "Epoch: 24 Iter:   0 Loss:  0.00004 Out:  1486.26 Ex:  1496.33\n",
      "Epoch: 25 Iter:   0 Loss:  0.00000 Out:  69.78 Ex:  79.00\n",
      "Epoch: 26 Iter:   0 Loss:  0.00002 Out:  697.71 Ex:  739.00\n",
      "Epoch: 27 Iter:   0 Loss:  0.00004 Out:  2720.08 Ex:  2723.33\n",
      "Epoch: 28 Iter:   0 Loss:  0.00014 Out:  390.21 Ex:  277.00\n",
      "Epoch: 29 Iter:   0 Loss:  0.00024 Out: -145.38 Ex:  10.67\n",
      "Epoch: 30 Iter:   0 Loss:  0.00000 Out:  75.03 Ex:  66.67\n",
      "Epoch: 31 Iter:   0 Loss:  0.00004 Out:  1571.76 Ex:  1562.83\n",
      "Epoch: 32 Iter:   0 Loss:  0.00005 Out:  710.38 Ex:  652.50\n",
      "Epoch: 33 Iter:   0 Loss:  0.00008 Out:  105.53 Ex:  15.00\n",
      "Epoch: 34 Iter:   0 Loss:  0.00002 Out:  123.54 Ex:  66.67\n",
      "Epoch: 35 Iter:   0 Loss:  0.00024 Out:  418.17 Ex:  277.00\n",
      "Epoch: 36 Iter:   0 Loss:  0.00003 Out:  968.19 Ex:  972.17\n",
      "Epoch: 37 Iter:   0 Loss:  0.00000 Out:  424.75 Ex:  424.17\n",
      "Epoch: 38 Iter:   0 Loss:  0.00062 Out:  3827.38 Ex:  3560.50\n",
      "Epoch: 39 Iter:   0 Loss:  0.00016 Out:  3187.75 Ex:  3181.50\n",
      "Epoch: 40 Iter:   0 Loss:  0.00007 Out:  3495.52 Ex:  3457.00\n",
      "Epoch: 41 Iter:   0 Loss:  0.00000 Out: -1.54 Ex:  10.67\n",
      "Epoch: 42 Iter:   0 Loss:  0.00003 Out:  1534.24 Ex:  1496.33\n",
      "Epoch: 43 Iter:   0 Loss:  0.00014 Out:  1818.33 Ex:  1989.33\n",
      "Epoch: 44 Iter:   0 Loss:  0.00011 Out:  2031.73 Ex:  2220.00\n",
      "Epoch: 45 Iter:   0 Loss:  0.00002 Out:  56.19 Ex:  10.67\n",
      "Epoch: 46 Iter:   0 Loss:  0.00003 Out:  3721.17 Ex:  3726.17\n",
      "Epoch: 47 Iter:   0 Loss:  0.00035 Out:  4683.65 Ex:  4737.33\n",
      "Epoch: 48 Iter:   0 Loss:  0.00008 Out:  242.11 Ex:  163.00\n",
      "Epoch: 49 Iter:   0 Loss:  0.00002 Out:  238.85 Ex:  221.50\n"
     ]
    },
    {
     "data": {
      "text/plain": [
       "<matplotlib.axes._subplots.AxesSubplot at 0x7efef2f44c88>"
      ]
     },
     "execution_count": 28,
     "metadata": {},
     "output_type": "execute_result"
    },
    {
     "data": {
      "image/png": "[encoded data removed]",
      "text/plain": [
       "<Figure size 432x288 with 1 Axes>"
      ]
     },
     "metadata": {
      "needs_background": "light"
     },
     "output_type": "display_data"
    }
   ],
   "source": [
    "class Forecaster(tnn.Module):\n",
    "    def __init__(self, seq_len=1, hidden_size=1, num_layers=1):\n",
    "        super(Forecaster, self).__init__()\n",
    "        \n",
    "        self.seq_len = seq_len\n",
    "        self.hidden_size = hidden_size\n",
    "        self.num_layers = num_layers\n",
    "        \n",
    "        self.rnn = tnn.RNN(input_size=1, hidden_size=self.hidden_size, num_layers=self.num_layers)\n",
    "#         self.gru = tnn.GRU(input_size=1, hidden_size=self.hidden_size, num_layers=self.num_layers)\n",
    "#         self.lstm = tnn.LSTM(input_size=1, hidden_size=self.hidden_size, num_layers=self.num_layers)\n",
    "        self.linear = tnn.Linear(self.hidden_size, 1)\n",
    "#         self.sigmoid = tnn.Sigmoid()\n",
    "    \n",
    "    def forward(self, ip, h=None):\n",
    "        rnn_out, rnn_h = self.rnn(ip, h)\n",
    "#         return (torch.squeeze(rnn_out), torch.squeeze(rnn_h))\n",
    "        # linear layer\n",
    "        final_out = []\n",
    "        for i in range(self.seq_len):\n",
    "            linear_out = self.linear(rnn_out[i].view(self.hidden_size))\n",
    "            final_out.append(linear_out)\n",
    "        return torch.stack(final_out).view(self.seq_len), rnn_h\n",
    "    \n",
    "    def predict(self, ip, num_predictions=1):\n",
    "        preds = []\n",
    "        with torch.no_grad():\n",
    "            pred = ip\n",
    "            h = None\n",
    "            while(num_predictions):\n",
    "                pred, h = self.forward(pred.view(self.seq_len, 1, 1), h)\n",
    "                preds.append(pred.view(self.seq_len)[-1])\n",
    "                num_predictions -= 1\n",
    "        return torch.stack(preds)\n",
    "\n",
    "HIDDEN_SIZE = 2\n",
    "NUM_LAYERS = 1\n",
    "LEARNING_RATE = 0.01\n",
    "\n",
    "model = Forecaster(seq_len=SEQ_LEN, hidden_size=HIDDEN_SIZE, num_layers=NUM_LAYERS)\n",
    "loss_fn = tnn.MSELoss()\n",
    "optimizer = top.Adam(model.parameters(), lr=LEARNING_RATE)\n",
    "\n",
    "# TRAIN\n",
    "loss_vals = []\n",
    "pred_vals = []\n",
    "\n",
    "NUM_EPOCHS = 50\n",
    "for e in range(NUM_EPOCHS):\n",
    "    for i, data in enumerate(rnd_data_loader):\n",
    "        ip, op = data\n",
    "\n",
    "        # set grads to 0\n",
    "        optimizer.zero_grad()\n",
    "\n",
    "        # predict\n",
    "        pred, _ = model(ip.view(SEQ_LEN, 1, 1))\n",
    "\n",
    "        # calc loss\n",
    "        loss = loss_fn(pred, op.view(SEQ_LEN))\n",
    "\n",
    "        # logging\n",
    "        loss_vals.append(loss.item())\n",
    "        if i == 0:\n",
    "            print(\"Epoch:\", e, \"Iter:\", f\"{i:3}\", \"Loss:\", f\"{loss.item(): .5f}\", \"Out:\", f\"{pred.view(SEQ_LEN)[-1].item()*10000: .2f}\", \"Ex:\", f\"{op.view(SEQ_LEN)[-1].item()*10000: .2f}\")\n",
    "\n",
    "        # assign grads\n",
    "        loss.backward()\n",
    "\n",
    "        # update weights\n",
    "        optimizer.step()\n",
    "\n",
    "df_loss = pd.DataFrame({\n",
    "    'loss': loss_vals\n",
    "})\n",
    "df_loss.plot(\n",
    "    y='loss'\n",
    ")"
   ]
  },
  {
   "cell_type": "markdown",
   "metadata": {},
   "source": [
    "### Test\n",
    "- future values on any country's data"
   ]
  },
  {
   "cell_type": "code",
   "execution_count": 29,
   "metadata": {},
   "outputs": [
    {
     "name": "stdout",
     "output_type": "stream",
     "text": [
      "IN: tensor([5025.5000, 5394.6670, 5690.6665, 5819.0000, 6116.7500])\n",
      "OUT: tensor([6229.1216, 6323.1616, 6400.6724, 6463.8374, 6514.8232, 6555.6558,\n",
      "        6588.1479, 6613.8716, 6634.1519, 6650.0898, 6662.5825, 6672.3555,\n",
      "        6679.9883, 6685.9429, 6690.5845, 6694.1992, 6697.0132, 6699.2031,\n",
      "        6700.9067, 6702.2319, 6703.2622, 6704.0640, 6704.6870, 6705.1714,\n",
      "        6705.5483, 6705.8418, 6706.0703, 6706.2480, 6706.3862, 6706.4937,\n",
      "        6706.5771, 6706.6426, 6706.6934, 6706.7324, 6706.7637, 6706.7881,\n",
      "        6706.8066, 6706.8213, 6706.8325, 6706.8418, 6706.8481, 6706.8540,\n",
      "        6706.8584, 6706.8618, 6706.8643, 6706.8662, 6706.8677, 6706.8691,\n",
      "        6706.8696, 6706.8701])\n"
     ]
    },
    {
     "data": {
      "image/png": "[encoded data removed]",
      "text/plain": [
       "<Figure size 432x288 with 1 Axes>"
      ]
     },
     "metadata": {
      "needs_background": "light"
     },
     "output_type": "display_data"
    }
   ],
   "source": [
    "# CHOOSE FROM IN, IT OR ES HERE\n",
    "df_cnf = in_cnf\n",
    "# df_cnf = np.array([8000, 7600, 7300, 6900, 6650], dtype=np.float32) / 10000\n",
    "\n",
    "test_in = df_cnf[-SEQ_LEN:]\n",
    "t = torch.tensor(\n",
    "    test_in.reshape(SEQ_LEN, 1, 1),\n",
    "    dtype=torch.float32\n",
    ")\n",
    "print(\"IN:\", t.view(SEQ_LEN) * 10000)\n",
    "out = model.predict(t, num_predictions=50)\n",
    "print(\"OUT:\", out * 10000)\n",
    "\n",
    "orig_df = pd.DataFrame({\n",
    "    'actual': df_cnf * 10000\n",
    "})\n",
    "fut_df = pd.DataFrame({\n",
    "    'predicted': (out.numpy() * 10000)\n",
    "})\n",
    "orig_df = orig_df.append(fut_df, ignore_index=True, sort=False)\n",
    "_ = orig_df.plot()"
   ]
  },
  {
   "cell_type": "markdown",
   "metadata": {},
   "source": [
    "- on training data"
   ]
  },
  {
   "cell_type": "code",
   "execution_count": 30,
   "metadata": {},
   "outputs": [
    {
     "data": {
      "image/png": "[encoded data removed]",
      "text/plain": [
       "<Figure size 432x288 with 1 Axes>"
      ]
     },
     "metadata": {
      "needs_background": "light"
     },
     "output_type": "display_data"
    }
   ],
   "source": [
    "pred_vals = []\n",
    "out_vals = []\n",
    "for data in seq_data_loader:\n",
    "    ip, op = data\n",
    "    pred = model.predict(ip.view(SEQ_LEN, 1, 1))\n",
    "    pred_vals.append(pred.item() * 10000)\n",
    "    out_vals.append(op.view(SEQ_LEN)[-1].item() * 10000)\n",
    "\n",
    "cmp_df = pd.DataFrame({\n",
    "    'predicted cases': pred_vals,\n",
    "    'actual cases': out_vals\n",
    "})\n",
    "_ = cmp_df.plot()"
   ]
  },
  {
   "cell_type": "code",
   "execution_count": 31,
   "metadata": {},
   "outputs": [
    {
     "name": "stdout",
     "output_type": "stream",
     "text": [
      "rnn.weight_ih_l0 = tensor([[-1.4046],\n",
      "        [-1.1551]])\n",
      "rnn.weight_hh_l0 = tensor([[-0.2088,  0.2843],\n",
      "        [ 0.2955, -0.4304]])\n",
      "rnn.bias_ih_l0 = tensor([0.1908, 0.6346])\n",
      "rnn.bias_hh_l0 = tensor([ 0.0838, -0.2946])\n",
      "linear.weight = tensor([[-0.5144, -0.3218]])\n",
      "linear.bias = tensor([0.2418])\n"
     ]
    }
   ],
   "source": [
    "for k in model.state_dict().keys():\n",
    "    print(k, \"=\", model.state_dict()[k])"
   ]
  }
 ],
 "metadata": {
  "kernelspec": {
   "display_name": "Python 3",
   "language": "python",
   "name": "python3"
  },
  "language_info": {
   "codemirror_mode": {
    "name": "ipython",
    "version": 3
   },
   "file_extension": ".py",
   "mimetype": "text/x-python",
   "name": "python",
   "nbconvert_exporter": "python",
   "pygments_lexer": "ipython3",
   "version": "3.7.3"
  }
 },
 "nbformat": 4,
 "nbformat_minor": 4
}
