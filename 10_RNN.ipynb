{
 "cells": [
  {
   "cell_type": "markdown",
   "metadata": {},
   "source": [
    "Useful links\n",
    "\n",
    "- https://blog.floydhub.com/a-beginners-guide-on-recurrent-neural-networks-with-pytorch/\n",
    "- http://karpathy.github.io/2015/05/21/rnn-effectiveness/\n",
    "- https://stackabuse.com/time-series-prediction-using-lstm-with-pytorch-in-python/\n",
    "- https://towardsdatascience.com/pytorch-basics-how-to-train-your-neural-net-intro-to-rnn-cb6ebc594677\n",
    "- https://towardsdatascience.com/time-series-forecasting-with-rnns-ff22683bbbb0\n",
    "- https://towardsdatascience.com/time-series-forecasting-with-recurrent-neural-networks-74674e289816\n",
    "- https://towardsdatascience.com/analyzing-time-series-data-in-pandas-be3887fdd621\n",
    "- http://www.wildml.com/2015/10/recurrent-neural-networks-tutorial-part-3-backpropagation-through-time-and-vanishing-gradients/\n",
    "- https://colah.github.io/posts/2015-09-NN-Types-FP/\n",
    "- https://pytorch.org/docs/stable/nn.html#rnn"
   ]
  },
  {
   "cell_type": "code",
   "execution_count": 1,
   "metadata": {},
   "outputs": [],
   "source": [
    "import pandas as pd\n",
    "import numpy as np\n",
    "import requests as rq\n",
    "import datetime as dt\n",
    "import traceback as tb\n",
    "import torch\n",
    "\n",
    "tnn = torch.nn\n",
    "top = torch.optim\n",
    "from torch.utils import data as tdt"
   ]
  },
  {
   "cell_type": "markdown",
   "metadata": {},
   "source": [
    "### Download India's data"
   ]
  },
  {
   "cell_type": "code",
   "execution_count": 2,
   "metadata": {},
   "outputs": [
    {
     "data": {
      "text/html": [
       "<div>\n",
       "<style scoped>\n",
       "    .dataframe tbody tr th:only-of-type {\n",
       "        vertical-align: middle;\n",
       "    }\n",
       "\n",
       "    .dataframe tbody tr th {\n",
       "        vertical-align: top;\n",
       "    }\n",
       "\n",
       "    .dataframe thead th {\n",
       "        text-align: right;\n",
       "    }\n",
       "</style>\n",
       "<table border=\"1\" class=\"dataframe\">\n",
       "  <thead>\n",
       "    <tr style=\"text-align: right;\">\n",
       "      <th></th>\n",
       "      <th>date</th>\n",
       "      <th>confirmed</th>\n",
       "      <th>deceased</th>\n",
       "      <th>recovered</th>\n",
       "    </tr>\n",
       "  </thead>\n",
       "  <tbody>\n",
       "    <tr>\n",
       "      <th>33</th>\n",
       "      <td>2020-03-03</td>\n",
       "      <td>1</td>\n",
       "      <td>0</td>\n",
       "      <td>0</td>\n",
       "    </tr>\n",
       "  </tbody>\n",
       "</table>\n",
       "</div>"
      ],
      "text/plain": [
       "         date  confirmed  deceased  recovered\n",
       "33 2020-03-03          1         0          0"
      ]
     },
     "execution_count": 2,
     "metadata": {},
     "output_type": "execute_result"
    }
   ],
   "source": [
    "# get daily time series data from covid19india\n",
    "resp = rq.get(\"https://api.covid19india.org/data.json\")\n",
    "ts = resp.json()['cases_time_series']\n",
    "\n",
    "r = {\n",
    "    \"date\": [],\n",
    "    \"confirmed\": [],\n",
    "    \"deceased\": [],\n",
    "    \"recovered\": []\n",
    "}\n",
    "\n",
    "for d in ts:\n",
    "    try:\n",
    "        r['date'].append(dt.datetime.strptime(d['date'] + \"2020\", '%d %B %Y'))\n",
    "        r['confirmed'].append(np.int64(d['dailyconfirmed']))\n",
    "        r['deceased'].append(np.int64(d['dailydeceased']))\n",
    "        r['recovered'].append(np.int64(d['dailyrecovered']))\n",
    "    except Exception as e:\n",
    "        print(d['date'])\n",
    "        tb.print_exc()\n",
    "\n",
    "df = pd.DataFrame(r)\n",
    "df.sort_values('date', inplace=True)\n",
    "df.sample()"
   ]
  },
  {
   "cell_type": "markdown",
   "metadata": {},
   "source": [
    "### Italy's and Spain's data"
   ]
  },
  {
   "cell_type": "code",
   "execution_count": 3,
   "metadata": {},
   "outputs": [
    {
     "name": "stdout",
     "output_type": "stream",
     "text": [
      "          date  deceased  recovered  confirmed  active  daily\n",
      "19  2020-03-11       827     1045.0      12462   10590   2313\n",
      "          date   deaths  recovered  confirmed  active  daily\n",
      "38  2020-04-02  10384.0      26540     126337   89413   7241\n"
     ]
    }
   ],
   "source": [
    "it_df = pd.read_csv('csv/italy.csv')\n",
    "print(it_df.sample())\n",
    "\n",
    "es_df = pd.read_csv('csv/spain.csv')\n",
    "print(es_df.sample())"
   ]
  },
  {
   "cell_type": "markdown",
   "metadata": {},
   "source": [
    "### Prep data"
   ]
  },
  {
   "cell_type": "code",
   "execution_count": 20,
   "metadata": {},
   "outputs": [],
   "source": [
    "def get_rnn_dataset(series, seq_len):\n",
    "    \"\"\"get rnn training dataset, given a series and seq_len\"\"\"\n",
    "    ip_seq = np.array(series[:-1], dtype=np.float32)\n",
    "    op_seq = np.array(series[1:], dtype=np.float32)\n",
    "    data_len = len(series) - 1\n",
    "\n",
    "    ips = []\n",
    "    ops = []\n",
    "    for i in range(data_len - seq_len + 1):\n",
    "        ip, op = ip_seq[i : i+seq_len], op_seq[i : i+seq_len]\n",
    "        ips.append(ip)\n",
    "        ops.append(op)\n",
    "    ips = np.array(ips, dtype=np.float32)\n",
    "    ops = np.array(ops, dtype=np.float32)\n",
    "\n",
    "    # convert from numpy to torch\n",
    "    ip_t = torch.from_numpy(ips)\n",
    "    op_t = torch.from_numpy(ops)\n",
    "\n",
    "    dataset = tdt.TensorDataset(ip_t, op_t)\n",
    "    return dataset\n",
    "\n",
    "# preprocess data: sma(6) and normalise by 10k\n",
    "in_cnf = np.array(df['confirmed'][37:].rolling(6, center=True, min_periods=1).mean()) / 10000\n",
    "it_cnf = np.array(it_df['daily'].rolling(6, center=True, min_periods=1).mean()) / 10000\n",
    "es_cnf = np.array(es_df['daily'].rolling(6, center=True, min_periods=1).mean()) / 10000\n",
    "\n",
    "# Choose among India or Italy or Spain here\n",
    "cnf = np.append(it_cnf, es_cnf)\n",
    "SEQ_LEN = 5\n",
    "dataset = get_rnn_dataset(cnf, SEQ_LEN)\n",
    "\n",
    "seq_data_loader = tdt.DataLoader(dataset, shuffle=False, batch_size=1)\n",
    "rnd_data_loader = tdt.DataLoader(dataset, shuffle=True, batch_size=1)"
   ]
  },
  {
   "cell_type": "markdown",
   "metadata": {},
   "source": [
    "### Define NN and train"
   ]
  },
  {
   "cell_type": "code",
   "execution_count": 46,
   "metadata": {},
   "outputs": [
    {
     "name": "stdout",
     "output_type": "stream",
     "text": [
      "Epoch: 0 Iter:   0 Loss:  0.09776 Out: -673.14 Ex:  3659.67\n",
      "Epoch: 0 Iter:  10 Loss:  0.00082 Out:  2312.75 Ex:  2088.17\n",
      "Epoch: 0 Iter:  20 Loss:  0.00776 Out:  2922.51 Ex:  2217.83\n",
      "Epoch: 0 Iter:  30 Loss:  0.03741 Out:  2736.91 Ex:  936.83\n",
      "Epoch: 0 Iter:  40 Loss:  0.05696 Out:  2494.40 Ex:  244.17\n",
      "Epoch: 0 Iter:  50 Loss:  0.05456 Out:  2873.72 Ex:  5.67\n",
      "Epoch: 0 Iter:  60 Loss:  0.14682 Out:  3870.62 Ex:  7268.33\n",
      "Epoch: 0 Iter:  70 Loss:  0.00316 Out:  4314.49 Ex:  5198.50\n",
      "Epoch: 0 Iter:  80 Loss:  0.00055 Out:  1918.97 Ex:  2278.00\n",
      "Epoch: 0 Iter:  90 Loss:  0.01141 Out:  1368.87 Ex:  2591.67\n",
      "Epoch: 0 Iter: 100 Loss:  0.00139 Out:  1911.55 Ex:  1930.67\n",
      "Epoch: 0 Iter: 110 Loss:  0.00903 Out:  4701.67 Ex:  5950.83\n",
      "Epoch: 0 Iter: 120 Loss:  0.00479 Out: -378.72 Ex:  285.67\n",
      "Epoch: 0 Iter: 130 Loss:  0.00067 Out:  1102.90 Ex:  1111.67\n",
      "Epoch: 0 Iter: 140 Loss:  0.00176 Out:  3960.19 Ex:  4168.67\n",
      "Epoch: 0 Iter: 150 Loss:  0.00779 Out:  961.00 Ex:  1738.83\n",
      "Epoch: 0 Iter: 160 Loss:  0.00010 Out:  5589.07 Ex:  5403.50\n",
      "Epoch: 0 Iter: 170 Loss:  0.00594 Out:  5567.94 Ex:  4790.67\n",
      "Epoch: 1 Iter:   0 Loss:  0.00562 Out:  1239.39 Ex:  5.67\n",
      "Epoch: 1 Iter:  10 Loss:  0.00065 Out:  3658.50 Ex:  4083.83\n",
      "Epoch: 1 Iter:  20 Loss:  0.01655 Out:  6573.40 Ex:  7787.50\n",
      "Epoch: 1 Iter:  30 Loss:  0.01155 Out:  61.96 Ex:  1146.33\n",
      "Epoch: 1 Iter:  40 Loss:  0.01867 Out:  1542.17 Ex:  134.83\n",
      "Epoch: 1 Iter:  50 Loss:  0.00090 Out:  789.97 Ex:  765.83\n",
      "Epoch: 1 Iter:  60 Loss:  0.00793 Out:  1117.94 Ex:  220.17\n",
      "Epoch: 1 Iter:  70 Loss:  0.00511 Out:  5842.50 Ex:  5005.83\n",
      "Epoch: 1 Iter:  80 Loss:  0.00419 Out:  2857.34 Ex:  2244.33\n",
      "Epoch: 1 Iter:  90 Loss:  0.00253 Out:  3944.20 Ex:  3560.67\n",
      "Epoch: 1 Iter: 100 Loss:  0.00165 Out:  4333.18 Ex:  4519.33\n",
      "Epoch: 1 Iter: 110 Loss:  0.00374 Out:  5284.18 Ex:  4957.33\n",
      "Epoch: 1 Iter: 120 Loss:  0.00013 Out:  1356.33 Ex:  1258.50\n",
      "Epoch: 1 Iter: 130 Loss:  0.00348 Out:  2101.23 Ex:  1499.00\n",
      "Epoch: 1 Iter: 140 Loss:  0.00008 Out:  3045.56 Ex:  3133.67\n",
      "Epoch: 1 Iter: 150 Loss:  0.00055 Out:  2109.36 Ex:  2459.17\n",
      "Epoch: 1 Iter: 160 Loss:  0.00026 Out:  796.22 Ex:  651.00\n",
      "Epoch: 1 Iter: 170 Loss:  0.00729 Out:  4134.12 Ex:  3409.33\n",
      "Epoch: 2 Iter:   0 Loss:  0.00018 Out:  953.58 Ex:  1111.67\n",
      "Epoch: 2 Iter:  10 Loss:  0.00687 Out:  3775.80 Ex:  2971.83\n",
      "Epoch: 2 Iter:  20 Loss:  0.00024 Out:  4367.25 Ex:  4310.67\n",
      "Epoch: 2 Iter:  30 Loss:  0.00067 Out:  4946.94 Ex:  5066.50\n",
      "Epoch: 2 Iter:  40 Loss:  0.00159 Out:  192.27 Ex:  8.25\n",
      "Epoch: 2 Iter:  50 Loss:  0.00215 Out:  1777.18 Ex:  1434.00\n",
      "Epoch: 2 Iter:  60 Loss:  0.00353 Out:  187.84 Ex:  765.83\n",
      "Epoch: 2 Iter:  70 Loss:  0.00091 Out:  3207.18 Ex:  2798.67\n",
      "Epoch: 2 Iter:  80 Loss:  0.00019 Out:  2519.59 Ex:  2363.00\n",
      "Epoch: 2 Iter:  90 Loss:  0.00054 Out:  6891.18 Ex:  7104.33\n",
      "Epoch: 2 Iter: 100 Loss:  0.00071 Out:  246.71 Ex:  495.00\n",
      "Epoch: 2 Iter: 110 Loss:  0.00364 Out:  661.51 Ex:  30.50\n",
      "Epoch: 2 Iter: 120 Loss:  0.00060 Out:  4367.65 Ex:  4592.00\n",
      "Epoch: 2 Iter: 130 Loss:  0.00637 Out:  5687.68 Ex:  6693.50\n",
      "Epoch: 2 Iter: 140 Loss:  0.00136 Out:  2934.04 Ex:  2741.17\n",
      "Epoch: 2 Iter: 150 Loss:  0.00440 Out:  4883.57 Ex:  4490.50\n",
      "Epoch: 2 Iter: 160 Loss:  0.00413 Out:  1316.02 Ex:  698.17\n",
      "Epoch: 2 Iter: 170 Loss:  0.00027 Out:  4740.09 Ex:  4519.33\n",
      "Epoch: 3 Iter:   0 Loss:  0.00155 Out:  1420.01 Ex:  985.17\n",
      "Epoch: 3 Iter:  10 Loss:  0.00101 Out:  52.00 Ex:  13.50\n",
      "Epoch: 3 Iter:  20 Loss:  0.00464 Out:  1403.30 Ex:  2278.00\n",
      "Epoch: 3 Iter:  30 Loss:  0.00094 Out:  3460.76 Ex:  3123.33\n",
      "Epoch: 3 Iter:  40 Loss:  0.00170 Out:  1489.39 Ex:  1031.40\n",
      "Epoch: 3 Iter:  50 Loss:  0.00152 Out:  282.29 Ex:  10.80\n",
      "Epoch: 3 Iter:  60 Loss:  0.00407 Out:  6080.68 Ex:  5555.67\n",
      "Epoch: 3 Iter:  70 Loss:  0.00431 Out:  823.95 Ex:  157.50\n",
      "Epoch: 3 Iter:  80 Loss:  0.00049 Out:  800.34 Ex:  1086.00\n",
      "Epoch: 3 Iter:  90 Loss:  0.00232 Out:  4238.71 Ex:  3824.17\n",
      "Epoch: 3 Iter: 100 Loss:  0.00193 Out:  1557.68 Ex:  1041.00\n",
      "Epoch: 3 Iter: 110 Loss:  0.00460 Out:  6721.34 Ex:  5994.83\n",
      "Epoch: 3 Iter: 120 Loss:  0.00067 Out:  4218.93 Ex:  4211.00\n",
      "Epoch: 3 Iter: 130 Loss:  0.00012 Out:  156.24 Ex:  134.83\n",
      "Epoch: 3 Iter: 140 Loss:  0.00022 Out:  1792.78 Ex:  1883.83\n",
      "Epoch: 3 Iter: 150 Loss:  0.00085 Out:  388.88 Ex:  5.67\n",
      "Epoch: 3 Iter: 160 Loss:  0.00170 Out:  3058.53 Ex:  3409.33\n",
      "Epoch: 3 Iter: 170 Loss:  0.01060 Out:  6667.27 Ex:  7865.33\n"
     ]
    },
    {
     "data": {
      "text/plain": [
       "<matplotlib.axes._subplots.AxesSubplot at 0x7f83d9be2c88>"
      ]
     },
     "execution_count": 46,
     "metadata": {},
     "output_type": "execute_result"
    },
    {
     "data": {
      "image/png": "[encoded data removed]",
      "text/plain": [
       "<Figure size 432x288 with 1 Axes>"
      ]
     },
     "metadata": {
      "needs_background": "light"
     },
     "output_type": "display_data"
    }
   ],
   "source": [
    "class Forecaster(tnn.Module):\n",
    "    def __init__(self, seq_len=1, hidden_size=1):\n",
    "        super(Forecaster, self).__init__()\n",
    "        \n",
    "        self.seq_len = seq_len\n",
    "        self.hidden_size = hidden_size\n",
    "        \n",
    "        self.rnn = tnn.RNN(input_size=1, hidden_size=self.hidden_size)\n",
    "        self.fc = tnn.Linear(self.hidden_size, 1)\n",
    "    \n",
    "    def forward(self, ip):\n",
    "        outs, h = self.rnn(ip)\n",
    "        # all hidden states should be converted to a single value using a linear layer\n",
    "        outs_fc = []\n",
    "        for i in range(self.seq_len):\n",
    "            fc = self.fc(outs[i].view(self.hidden_size))\n",
    "            outs_fc.append(fc)\n",
    "        return torch.stack(outs_fc).view(self.seq_len)\n",
    "    \n",
    "    def predict(self, ip, num_predictions=1):\n",
    "        preds = []\n",
    "        with torch.no_grad():\n",
    "            pred = ip\n",
    "            while(num_predictions):\n",
    "                pred = self.forward(pred.view(self.seq_len, 1, 1))\n",
    "                preds.append(pred.view(self.seq_len)[-1].item())\n",
    "                num_predictions-=1\n",
    "        return torch.tensor(np.array(preds, dtype=np.float32))\n",
    "\n",
    "model = Forecaster(seq_len=SEQ_LEN, hidden_size=1)\n",
    "loss_fn = tnn.MSELoss()\n",
    "optimizer = top.Adam(model.parameters(), lr=0.1)\n",
    "\n",
    "# TRAIN\n",
    "loss_vals = []\n",
    "pred_vals = []\n",
    "\n",
    "num_epochs = 4\n",
    "for e in range(num_epochs):\n",
    "    for i, data in enumerate(rnd_data_loader):\n",
    "        ip, op = data\n",
    "\n",
    "        # set grads to 0\n",
    "        optimizer.zero_grad()\n",
    "\n",
    "        # predict\n",
    "        pred = model(ip.view(SEQ_LEN, 1, 1))\n",
    "\n",
    "        # calc loss\n",
    "        loss = loss_fn(pred, op.view(SEQ_LEN))\n",
    "\n",
    "        # logging\n",
    "        loss_vals.append(loss.item())\n",
    "        if i%10 == 0:\n",
    "            print(\"Epoch:\", e, \"Iter:\", f\"{i:3}\", \"Loss:\", f\"{loss.item(): .5f}\", \"Out:\", f\"{pred.view(SEQ_LEN)[-1].item()*10000: .2f}\", \"Ex:\", f\"{op.view(SEQ_LEN)[-1].item()*10000: .2f}\")\n",
    "\n",
    "        # assign grads\n",
    "        loss.backward()\n",
    "\n",
    "        # update weights\n",
    "        optimizer.step()\n",
    "\n",
    "df_loss = pd.DataFrame({\n",
    "    'loss': loss_vals\n",
    "})\n",
    "df_loss.plot(\n",
    "    y='loss'\n",
    ")"
   ]
  },
  {
   "cell_type": "markdown",
   "metadata": {},
   "source": [
    "### Test\n",
    "- future values on any country's data"
   ]
  },
  {
   "cell_type": "code",
   "execution_count": 49,
   "metadata": {},
   "outputs": [
    {
     "name": "stdout",
     "output_type": "stream",
     "text": [
      "IN: tensor([4332.6665, 4737.3335, 4996.6665, 5234.3999, 5344.5000])\n",
      "OUT: tensor([5841.2617, 6372.3589, 6879.4512, 7302.3994, 7609.7744, 7808.2334,\n",
      "        7925.7285, 7991.5083, 8027.1436, 8046.0991, 8056.0850, 8061.3184,\n",
      "        8064.0557, 8065.4834, 8066.2290, 8066.6187, 8066.8213, 8066.9272,\n",
      "        8066.9819, 8067.0112, 8067.0264, 8067.0337, 8067.0381, 8067.0400,\n",
      "        8067.0405, 8067.0415, 8067.0415, 8067.0415, 8067.0415, 8067.0415,\n",
      "        8067.0415, 8067.0415, 8067.0415, 8067.0415, 8067.0415, 8067.0415,\n",
      "        8067.0415, 8067.0415, 8067.0415, 8067.0415, 8067.0415, 8067.0415,\n",
      "        8067.0415, 8067.0415, 8067.0415, 8067.0415, 8067.0415, 8067.0415,\n",
      "        8067.0415, 8067.0415])\n"
     ]
    },
    {
     "data": {
      "image/png": "[encoded data removed]",
      "text/plain": [
       "<Figure size 432x288 with 1 Axes>"
      ]
     },
     "metadata": {
      "needs_background": "light"
     },
     "output_type": "display_data"
    }
   ],
   "source": [
    "# CHOOSE FROM IN, IT OR ES HERE\n",
    "df_cnf = in_cnf\n",
    "# df_cnf = np.array([8000, 7600, 7300, 6900, 6650], dtype=np.float32) / 10000\n",
    "\n",
    "test_in = df_cnf[-SEQ_LEN:]\n",
    "t = torch.tensor(\n",
    "    test_in.reshape(SEQ_LEN, 1, 1),\n",
    "    dtype=torch.float32\n",
    ")\n",
    "print(\"IN:\", t.view(SEQ_LEN) * 10000)\n",
    "out = model.predict(t, num_predictions=50)\n",
    "print(\"OUT:\", out * 10000)\n",
    "\n",
    "orig_df = pd.DataFrame({\n",
    "    'actual': df_cnf * 10000\n",
    "})\n",
    "fut_df = pd.DataFrame({\n",
    "    'predicted': (out.numpy() * 10000)\n",
    "})\n",
    "orig_df = orig_df.append(fut_df, ignore_index=True, sort=False)\n",
    "_ = orig_df.plot()"
   ]
  },
  {
   "cell_type": "markdown",
   "metadata": {},
   "source": [
    "- on training data"
   ]
  },
  {
   "cell_type": "code",
   "execution_count": 48,
   "metadata": {},
   "outputs": [
    {
     "data": {
      "image/png": "[encoded data removed]",
      "text/plain": [
       "<Figure size 432x288 with 1 Axes>"
      ]
     },
     "metadata": {
      "needs_background": "light"
     },
     "output_type": "display_data"
    }
   ],
   "source": [
    "pred_vals = []\n",
    "out_vals = []\n",
    "for data in seq_data_loader:\n",
    "    ip, op = data\n",
    "    pred = model.predict(ip.view(SEQ_LEN, 1, 1))\n",
    "    pred_vals.append(pred.item() * 10000)\n",
    "    out_vals.append(op.view(SEQ_LEN)[-1].item() * 10000)\n",
    "\n",
    "cmp_df = pd.DataFrame({\n",
    "    'predicted cases': pred_vals,\n",
    "    'actual cases': out_vals\n",
    "})\n",
    "_ = cmp_df.plot()"
   ]
  },
  {
   "cell_type": "code",
   "execution_count": 50,
   "metadata": {},
   "outputs": [
    {
     "name": "stdout",
     "output_type": "stream",
     "text": [
      "rnn.weight_ih_l0 = tensor([[-2.5258]])\n",
      "rnn.weight_hh_l0 = tensor([[-0.0967]])\n",
      "rnn.bias_ih_l0 = tensor([0.7967])\n",
      "rnn.bias_hh_l0 = tensor([0.0885])\n",
      "fc.weight = tensor([[-0.5732]])\n",
      "fc.bias = tensor([0.3529])\n"
     ]
    }
   ],
   "source": [
    "for k in model.state_dict().keys():\n",
    "    print(k, \"=\", model.state_dict()[k])"
   ]
  }
 ],
 "metadata": {
  "kernelspec": {
   "display_name": "Python 3",
   "language": "python",
   "name": "python3"
  },
  "language_info": {
   "codemirror_mode": {
    "name": "ipython",
    "version": 3
   },
   "file_extension": ".py",
   "mimetype": "text/x-python",
   "name": "python",
   "nbconvert_exporter": "python",
   "pygments_lexer": "ipython3",
   "version": "3.7.3"
  }
 },
 "nbformat": 4,
 "nbformat_minor": 4
}
