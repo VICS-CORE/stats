{
 "cells": [
  {
   "cell_type": "markdown",
   "metadata": {},
   "source": [
    "Useful links\n",
    "\n",
    "- https://blog.floydhub.com/a-beginners-guide-on-recurrent-neural-networks-with-pytorch/\n",
    "- http://karpathy.github.io/2015/05/21/rnn-effectiveness/\n",
    "- https://stackabuse.com/time-series-prediction-using-lstm-with-pytorch-in-python/\n",
    "- https://towardsdatascience.com/pytorch-basics-how-to-train-your-neural-net-intro-to-rnn-cb6ebc594677\n",
    "- https://towardsdatascience.com/time-series-forecasting-with-rnns-ff22683bbbb0\n",
    "- https://towardsdatascience.com/time-series-forecasting-with-recurrent-neural-networks-74674e289816\n",
    "- https://towardsdatascience.com/analyzing-time-series-data-in-pandas-be3887fdd621\n",
    "- http://www.wildml.com/2015/10/recurrent-neural-networks-tutorial-part-3-backpropagation-through-time-and-vanishing-gradients/\n",
    "- https://colah.github.io/posts/2015-09-NN-Types-FP/\n",
    "- https://pytorch.org/docs/stable/nn.html#rnn"
   ]
  },
  {
   "cell_type": "code",
   "execution_count": 1,
   "metadata": {},
   "outputs": [],
   "source": [
    "import pandas as pd\n",
    "import numpy as np\n",
    "import requests as rq\n",
    "import datetime as dt\n",
    "import traceback as tb\n",
    "import torch\n",
    "\n",
    "tnn = torch.nn\n",
    "top = torch.optim\n",
    "from torch.utils import data as tdt"
   ]
  },
  {
   "cell_type": "markdown",
   "metadata": {},
   "source": [
    "### Download India's data"
   ]
  },
  {
   "cell_type": "code",
   "execution_count": 2,
   "metadata": {},
   "outputs": [
    {
     "data": {
      "text/html": [
       "<div>\n",
       "<style scoped>\n",
       "    .dataframe tbody tr th:only-of-type {\n",
       "        vertical-align: middle;\n",
       "    }\n",
       "\n",
       "    .dataframe tbody tr th {\n",
       "        vertical-align: top;\n",
       "    }\n",
       "\n",
       "    .dataframe thead th {\n",
       "        text-align: right;\n",
       "    }\n",
       "</style>\n",
       "<table border=\"1\" class=\"dataframe\">\n",
       "  <thead>\n",
       "    <tr style=\"text-align: right;\">\n",
       "      <th></th>\n",
       "      <th>date</th>\n",
       "      <th>confirmed</th>\n",
       "      <th>deceased</th>\n",
       "      <th>recovered</th>\n",
       "    </tr>\n",
       "  </thead>\n",
       "  <tbody>\n",
       "    <tr>\n",
       "      <th>80</th>\n",
       "      <td>2020-04-19</td>\n",
       "      <td>1580</td>\n",
       "      <td>38</td>\n",
       "      <td>388</td>\n",
       "    </tr>\n",
       "  </tbody>\n",
       "</table>\n",
       "</div>"
      ],
      "text/plain": [
       "         date  confirmed  deceased  recovered\n",
       "80 2020-04-19       1580        38        388"
      ]
     },
     "execution_count": 2,
     "metadata": {},
     "output_type": "execute_result"
    }
   ],
   "source": [
    "# get daily time series data from covid19india\n",
    "resp = rq.get(\"https://api.covid19india.org/data.json\")\n",
    "ts = resp.json()['cases_time_series']\n",
    "\n",
    "r = {\n",
    "    \"date\": [],\n",
    "    \"confirmed\": [],\n",
    "    \"deceased\": [],\n",
    "    \"recovered\": []\n",
    "}\n",
    "\n",
    "for d in ts:\n",
    "    try:\n",
    "        r['date'].append(dt.datetime.strptime(d['date'] + \"2020\", '%d %B %Y'))\n",
    "        r['confirmed'].append(np.int64(d['dailyconfirmed']))\n",
    "        r['deceased'].append(np.int64(d['dailydeceased']))\n",
    "        r['recovered'].append(np.int64(d['dailyrecovered']))\n",
    "    except Exception as e:\n",
    "        print(d['date'])\n",
    "        tb.print_exc()\n",
    "\n",
    "df = pd.DataFrame(r)\n",
    "df.sort_values('date', inplace=True)\n",
    "df.sample()"
   ]
  },
  {
   "cell_type": "markdown",
   "metadata": {},
   "source": [
    "### Italy's and Spain's data"
   ]
  },
  {
   "cell_type": "code",
   "execution_count": 3,
   "metadata": {},
   "outputs": [
    {
     "name": "stdout",
     "output_type": "stream",
     "text": [
      "          date  deceased  recovered  confirmed  active  daily\n",
      "75  2020-05-06     29684    93245.0     214457   91528   1444\n",
      "          date  deaths  recovered  confirmed  active  daily\n",
      "16  2020-03-11    86.0        201       4404    4117   1146\n"
     ]
    }
   ],
   "source": [
    "it_df = pd.read_csv('csv/italy.csv')\n",
    "print(it_df.sample())\n",
    "\n",
    "es_df = pd.read_csv('csv/spain.csv')\n",
    "print(es_df.sample())"
   ]
  },
  {
   "cell_type": "markdown",
   "metadata": {},
   "source": [
    "### Prep data"
   ]
  },
  {
   "cell_type": "code",
   "execution_count": 20,
   "metadata": {},
   "outputs": [],
   "source": [
    "def get_rnn_dataset(series, seq_len):\n",
    "    \"\"\"get rnn training dataset, given a series and seq_len\"\"\"\n",
    "    ip_seq = np.array(series[:-1], dtype=np.float32)\n",
    "    op_seq = np.array(series[1:], dtype=np.float32)\n",
    "    data_len = len(series) - 1\n",
    "\n",
    "    ips = []\n",
    "    ops = []\n",
    "    for i in range(data_len - seq_len + 1):\n",
    "        ip, op = ip_seq[i : i+seq_len], op_seq[i : i+seq_len]\n",
    "        ips.append(ip)\n",
    "        ops.append(op)\n",
    "    ips = np.array(ips, dtype=np.float32)\n",
    "    ops = np.array(ops, dtype=np.float32)\n",
    "\n",
    "    # convert from numpy to torch\n",
    "    ip_t = torch.from_numpy(ips)\n",
    "    op_t = torch.from_numpy(ops)\n",
    "\n",
    "    dataset = tdt.TensorDataset(ip_t, op_t)\n",
    "    return dataset\n",
    "\n",
    "SEQ_LEN = 5\n",
    "VAL_SPLIT = 0.2\n",
    "\n",
    "# preprocess data: sma(6) and normalise by 10k\n",
    "in_cnf = np.array(df['confirmed'][37:].rolling(6, center=True, min_periods=1).mean()) / 10000\n",
    "it_cnf = np.array(it_df['daily'].rolling(6, center=True, min_periods=1).mean()) / 10000\n",
    "es_cnf = np.array(es_df['daily'].rolling(6, center=True, min_periods=1).mean()) / 10000\n",
    "\n",
    "# Choose among India or Italy or Spain here\n",
    "cnf = es_cnf # np.append(it_cnf, es_cnf)\n",
    "dataset = get_rnn_dataset(cnf, SEQ_LEN)\n",
    "\n",
    "val_len = int(VAL_SPLIT * len(dataset))\n",
    "train_len = len(dataset) - val_len\n",
    "train_set, val_set = tdt.random_split(dataset, (train_len, val_len))\n",
    "\n",
    "trn_loader = tdt.DataLoader(train_set, shuffle=True, batch_size=1)\n",
    "val_loader = tdt.DataLoader(val_set, shuffle=True, batch_size=1)\n",
    "all_loader = tdt.DataLoader(dataset, shuffle=False, batch_size=1)"
   ]
  },
  {
   "cell_type": "markdown",
   "metadata": {},
   "source": [
    "### Define NN and train"
   ]
  },
  {
   "cell_type": "code",
   "execution_count": 26,
   "metadata": {},
   "outputs": [
    {
     "name": "stdout",
     "output_type": "stream",
     "text": [
      "epoch:   0 avg_val_loss:  0.26635 avg_trn_loss:  0.37764\n",
      "epoch: 100 avg_val_loss:  0.00163 avg_trn_loss:  0.00087\n",
      "epoch: 200 avg_val_loss:  0.00122 avg_trn_loss:  0.00072\n",
      "epoch: 300 avg_val_loss:  0.00114 avg_trn_loss:  0.00079\n",
      "epoch: 400 avg_val_loss:  0.00157 avg_trn_loss:  0.00083\n",
      "epoch: 500 avg_val_loss:  0.00153 avg_trn_loss:  0.00072\n",
      "epoch: 600 avg_val_loss:  0.00140 avg_trn_loss:  0.00072\n",
      "epoch: 700 avg_val_loss:  0.00110 avg_trn_loss:  0.00071\n",
      "epoch: 800 avg_val_loss:  0.00165 avg_trn_loss:  0.00073\n",
      "epoch: 900 avg_val_loss:  0.00154 avg_trn_loss:  0.00072\n",
      "epoch: 1000 avg_val_loss:  0.00144 avg_trn_loss:  0.00072\n",
      "epoch: 1100 avg_val_loss:  0.00120 avg_trn_loss:  0.00073\n",
      "epoch: 1200 avg_val_loss:  0.00150 avg_trn_loss:  0.00074\n",
      "epoch: 1300 avg_val_loss:  0.00121 avg_trn_loss:  0.00071\n",
      "epoch: 1400 avg_val_loss:  0.00129 avg_trn_loss:  0.00071\n",
      "epoch: 1500 avg_val_loss:  0.00112 avg_trn_loss:  0.00069\n",
      "epoch: 1600 avg_val_loss:  0.00119 avg_trn_loss:  0.00067\n",
      "epoch: 1700 avg_val_loss:  0.00110 avg_trn_loss:  0.00071\n",
      "epoch: 1800 avg_val_loss:  0.00138 avg_trn_loss:  0.00066\n",
      "epoch: 1900 avg_val_loss:  0.00109 avg_trn_loss:  0.00072\n",
      "epoch: 2000 avg_val_loss:  0.00100 avg_trn_loss:  0.00074\n",
      "epoch: 2100 avg_val_loss:  0.00133 avg_trn_loss:  0.00066\n",
      "epoch: 2200 avg_val_loss:  0.00106 avg_trn_loss:  0.00067\n",
      "epoch: 2300 avg_val_loss:  0.00098 avg_trn_loss:  0.00063\n",
      "epoch: 2400 avg_val_loss:  0.00108 avg_trn_loss:  0.00067\n",
      "epoch: 2500 avg_val_loss:  0.00092 avg_trn_loss:  0.00063\n",
      "epoch: 2600 avg_val_loss:  0.00107 avg_trn_loss:  0.00062\n",
      "epoch: 2700 avg_val_loss:  0.00091 avg_trn_loss:  0.00064\n",
      "epoch: 2800 avg_val_loss:  0.00125 avg_trn_loss:  0.00062\n",
      "epoch: 2900 avg_val_loss:  0.00116 avg_trn_loss:  0.00062\n",
      "epoch: 3000 avg_val_loss:  0.00097 avg_trn_loss:  0.00058\n",
      "epoch: 3100 avg_val_loss:  0.00085 avg_trn_loss:  0.00058\n",
      "epoch: 3200 avg_val_loss:  0.00079 avg_trn_loss:  0.00057\n",
      "epoch: 3300 avg_val_loss:  0.00094 avg_trn_loss:  0.00056\n",
      "epoch: 3400 avg_val_loss:  0.00074 avg_trn_loss:  0.00057\n",
      "epoch: 3500 avg_val_loss:  0.00129 avg_trn_loss:  0.00056\n",
      "epoch: 3600 avg_val_loss:  0.00082 avg_trn_loss:  0.00059\n",
      "epoch: 3700 avg_val_loss:  0.00084 avg_trn_loss:  0.00058\n",
      "epoch: 3800 avg_val_loss:  0.00085 avg_trn_loss:  0.00056\n",
      "epoch: 3900 avg_val_loss:  0.00088 avg_trn_loss:  0.00058\n",
      "epoch: 4000 avg_val_loss:  0.00077 avg_trn_loss:  0.00055\n",
      "epoch: 4100 avg_val_loss:  0.00082 avg_trn_loss:  0.00054\n",
      "epoch: 4200 avg_val_loss:  0.00076 avg_trn_loss:  0.00055\n",
      "epoch: 4300 avg_val_loss:  0.00073 avg_trn_loss:  0.00053\n",
      "epoch: 4400 avg_val_loss:  0.00074 avg_trn_loss:  0.00054\n",
      "epoch: 4500 avg_val_loss:  0.00069 avg_trn_loss:  0.00054\n",
      "epoch: 4600 avg_val_loss:  0.00080 avg_trn_loss:  0.00055\n",
      "epoch: 4700 avg_val_loss:  0.00094 avg_trn_loss:  0.00052\n",
      "epoch: 4800 avg_val_loss:  0.00092 avg_trn_loss:  0.00055\n",
      "epoch: 4900 avg_val_loss:  0.00076 avg_trn_loss:  0.00057\n"
     ]
    },
    {
     "data": {
      "image/png": "[encoded data removed]",
      "text/plain": [
       "<Figure size 360x576 with 2 Axes>"
      ]
     },
     "metadata": {
      "needs_background": "light"
     },
     "output_type": "display_data"
    }
   ],
   "source": [
    "class Forecaster(tnn.Module):\n",
    "    def __init__(self, seq_len=1, hidden_size=1, num_layers=1):\n",
    "        super(Forecaster, self).__init__()\n",
    "        \n",
    "        self.seq_len = seq_len\n",
    "        self.hidden_size = hidden_size\n",
    "        self.num_layers = num_layers\n",
    "        \n",
    "        self.rnn = tnn.RNN(input_size=1, hidden_size=self.hidden_size, num_layers=self.num_layers)\n",
    "#         self.gru = tnn.GRU(input_size=1, hidden_size=self.hidden_size, num_layers=self.num_layers)\n",
    "#         self.lstm = tnn.LSTM(input_size=1, hidden_size=self.hidden_size, num_layers=self.num_layers)\n",
    "        self.linear = tnn.Linear(self.hidden_size, 1)\n",
    "#         self.sigmoid = tnn.Sigmoid()\n",
    "    \n",
    "    def forward(self, ip, h=None):\n",
    "        rnn_out, rnn_h = self.rnn(ip, h)\n",
    "#         return (torch.squeeze(rnn_out), torch.squeeze(rnn_h))\n",
    "        # linear layer\n",
    "        final_out = []\n",
    "        for i in range(self.seq_len):\n",
    "            linear_out = self.linear(rnn_out[i].view(self.hidden_size))\n",
    "            final_out.append(linear_out)\n",
    "        return torch.stack(final_out).view(self.seq_len), rnn_h\n",
    "    \n",
    "    def predict(self, ip, num_predictions=1):\n",
    "        preds = []\n",
    "        with torch.no_grad():\n",
    "            pred = ip\n",
    "            h = None\n",
    "            while(num_predictions):\n",
    "                pred, h = self.forward(pred.view(self.seq_len, 1, 1), h)\n",
    "                preds.append(pred.view(self.seq_len)[-1])\n",
    "                num_predictions -= 1\n",
    "        return torch.stack(preds)\n",
    "\n",
    "HIDDEN_SIZE = 2\n",
    "NUM_LAYERS = 1\n",
    "LEARNING_RATE = 0.001\n",
    "NUM_EPOCHS = 5000\n",
    "\n",
    "model = Forecaster(seq_len=SEQ_LEN, hidden_size=HIDDEN_SIZE, num_layers=NUM_LAYERS)\n",
    "loss_fn = tnn.MSELoss()\n",
    "optimizer = top.Adam(model.parameters(), lr=LEARNING_RATE)\n",
    "\n",
    "# TRAIN\n",
    "trn_loss_vals = []\n",
    "val_loss_vals = []\n",
    "\n",
    "for e in range(NUM_EPOCHS):\n",
    "    # train\n",
    "    trn_losses = []\n",
    "    for i, data in enumerate(trn_loader):\n",
    "        ip, op = data        \n",
    "        optimizer.zero_grad() # set grads to 0\n",
    "        pred, _ = model(ip.view(SEQ_LEN, 1, 1)) # predict\n",
    "        loss = loss_fn(pred, op.view(SEQ_LEN)) # calc loss\n",
    "        loss.backward() # calc and assign grads\n",
    "        optimizer.step() # update weights\n",
    "        trn_losses.append(loss) # logging\n",
    "    avg_trn_loss = torch.stack(trn_losses).mean().item()\n",
    "    trn_loss_vals.append(avg_trn_loss)\n",
    "    \n",
    "    # val after each epoch\n",
    "    with torch.no_grad():\n",
    "        val_losses = []\n",
    "        for i, data in enumerate(val_loader):\n",
    "            ip, op = data\n",
    "            pred, _ = model(ip.view(SEQ_LEN, 1, 1))\n",
    "            loss = loss_fn(pred, op.view(SEQ_LEN))\n",
    "            val_losses.append(loss)\n",
    "        avg_val_loss = torch.stack(val_losses).mean().item()\n",
    "        val_loss_vals.append(avg_val_loss)\n",
    "    \n",
    "    if e%100==0:\n",
    "        print(\"epoch:\", f\"{e:3}\", \"avg_val_loss:\", f\"{avg_val_loss: .5f}\", \"avg_trn_loss:\", f\"{avg_trn_loss: .5f}\")\n",
    "\n",
    "df_trn_loss = pd.DataFrame({\n",
    "    'trn_loss': trn_loss_vals,\n",
    "    'val_loss': val_loss_vals\n",
    "})\n",
    "_ = df_trn_loss.plot(\n",
    "    y=['trn_loss', 'val_loss'],\n",
    "    title=['Training loss per epoch', 'Validation loss per epoch'],\n",
    "    subplots=True,\n",
    "    figsize=(5,8),\n",
    "    sharex=False,\n",
    "    logy=True\n",
    ")"
   ]
  },
  {
   "cell_type": "markdown",
   "metadata": {},
   "source": [
    "### Test\n",
    "- future values on any country's data"
   ]
  },
  {
   "cell_type": "code",
   "execution_count": 28,
   "metadata": {},
   "outputs": [
    {
     "name": "stdout",
     "output_type": "stream",
     "text": [
      "IN: tensor([5025.5000, 5394.6670, 5690.6665, 5819.0000, 6116.7500])\n",
      "OUT: tensor([ 6161.6079,  6198.8892,  6122.2905,  5868.2334,  5766.9302,  6381.9604,\n",
      "         7897.5127,  9598.3652, 10836.7686, 11527.5801, 11855.3350, 11998.1455,\n",
      "        12057.9688, 12082.6064, 12092.6846, 12096.7949, 12098.4688, 12099.1504,\n",
      "        12099.4268, 12099.5410, 12099.5869, 12099.6055, 12099.6133, 12099.6162,\n",
      "        12099.6182, 12099.6182, 12099.6182, 12099.6182, 12099.6182, 12099.6182,\n",
      "        12099.6182, 12099.6182, 12099.6182, 12099.6182, 12099.6182, 12099.6182,\n",
      "        12099.6182, 12099.6182, 12099.6182, 12099.6182, 12099.6182, 12099.6182,\n",
      "        12099.6182, 12099.6182, 12099.6182, 12099.6182, 12099.6182, 12099.6182,\n",
      "        12099.6182, 12099.6182])\n"
     ]
    },
    {
     "data": {
      "image/png": "[encoded data removed]",
      "text/plain": [
       "<Figure size 432x288 with 1 Axes>"
      ]
     },
     "metadata": {
      "needs_background": "light"
     },
     "output_type": "display_data"
    }
   ],
   "source": [
    "# CHOOSE FROM IN, IT OR ES HERE\n",
    "df_cnf = in_cnf\n",
    "# df_cnf = np.array([8000, 7600, 7300, 6900, 6650], dtype=np.float32) / 10000\n",
    "\n",
    "test_in = df_cnf[-SEQ_LEN:]\n",
    "t = torch.tensor(\n",
    "    test_in.reshape(SEQ_LEN, 1, 1),\n",
    "    dtype=torch.float32\n",
    ")\n",
    "print(\"IN:\", t.view(SEQ_LEN) * 10000)\n",
    "out = model.predict(t, num_predictions=50)\n",
    "print(\"OUT:\", out * 10000)\n",
    "\n",
    "orig_df = pd.DataFrame({\n",
    "    'actual': df_cnf * 10000\n",
    "})\n",
    "fut_df = pd.DataFrame({\n",
    "    'predicted': (out.numpy() * 10000)\n",
    "})\n",
    "orig_df = orig_df.append(fut_df, ignore_index=True, sort=False)\n",
    "_ = orig_df.plot()"
   ]
  },
  {
   "cell_type": "markdown",
   "metadata": {},
   "source": [
    "- on training data"
   ]
  },
  {
   "cell_type": "code",
   "execution_count": 27,
   "metadata": {},
   "outputs": [
    {
     "data": {
      "image/png": "[encoded data removed]",
      "text/plain": [
       "<Figure size 432x288 with 1 Axes>"
      ]
     },
     "metadata": {
      "needs_background": "light"
     },
     "output_type": "display_data"
    }
   ],
   "source": [
    "pred_vals = []\n",
    "out_vals = []\n",
    "for data in all_loader:\n",
    "    ip, op = data\n",
    "    pred = model.predict(ip.view(SEQ_LEN, 1, 1))\n",
    "    pred_vals.append(pred.item() * 10000)\n",
    "    out_vals.append(op.view(SEQ_LEN)[-1].item() * 10000)\n",
    "\n",
    "cmp_df = pd.DataFrame({\n",
    "    'predicted cases': pred_vals,\n",
    "    'actual cases': out_vals\n",
    "})\n",
    "_ = cmp_df.plot()"
   ]
  },
  {
   "cell_type": "code",
   "execution_count": 29,
   "metadata": {},
   "outputs": [
    {
     "name": "stdout",
     "output_type": "stream",
     "text": [
      "rnn.weight_ih_l0 = tensor([[ 1.8281],\n",
      "        [-1.0562]])\n",
      "rnn.weight_hh_l0 = tensor([[-1.5893,  1.4038],\n",
      "        [-0.3191,  0.0342]])\n",
      "rnn.bias_ih_l0 = tensor([0.3467, 0.2259])\n",
      "rnn.bias_hh_l0 = tensor([0.7676, 0.3666])\n",
      "linear.weight = tensor([[ 0.5769, -0.8556]])\n",
      "linear.bias = tensor([-0.0063])\n"
     ]
    }
   ],
   "source": [
    "for k in model.state_dict().keys():\n",
    "    print(k, \"=\", model.state_dict()[k])"
   ]
  }
 ],
 "metadata": {
  "kernelspec": {
   "display_name": "Python 3",
   "language": "python",
   "name": "python3"
  },
  "language_info": {
   "codemirror_mode": {
    "name": "ipython",
    "version": 3
   },
   "file_extension": ".py",
   "mimetype": "text/x-python",
   "name": "python",
   "nbconvert_exporter": "python",
   "pygments_lexer": "ipython3",
   "version": "3.7.3"
  }
 },
 "nbformat": 4,
 "nbformat_minor": 4
}
