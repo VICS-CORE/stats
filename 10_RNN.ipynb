{
 "cells": [
  {
   "cell_type": "markdown",
   "metadata": {},
   "source": [
    "Useful links\n",
    "\n",
    "- https://blog.floydhub.com/a-beginners-guide-on-recurrent-neural-networks-with-pytorch/\n",
    "- http://karpathy.github.io/2015/05/21/rnn-effectiveness/\n",
    "- https://stackabuse.com/time-series-prediction-using-lstm-with-pytorch-in-python/\n",
    "- https://towardsdatascience.com/pytorch-basics-how-to-train-your-neural-net-intro-to-rnn-cb6ebc594677\n",
    "- https://towardsdatascience.com/time-series-forecasting-with-rnns-ff22683bbbb0\n",
    "- https://towardsdatascience.com/time-series-forecasting-with-recurrent-neural-networks-74674e289816\n",
    "- https://towardsdatascience.com/analyzing-time-series-data-in-pandas-be3887fdd621\n",
    "- http://www.wildml.com/2015/10/recurrent-neural-networks-tutorial-part-3-backpropagation-through-time-and-vanishing-gradients/\n",
    "- https://colah.github.io/posts/2015-09-NN-Types-FP/\n",
    "- https://pytorch.org/docs/stable/nn.html#rnn"
   ]
  },
  {
   "cell_type": "code",
   "execution_count": 1,
   "metadata": {},
   "outputs": [],
   "source": [
    "import pandas as pd\n",
    "import numpy as np\n",
    "import requests as rq\n",
    "import datetime as dt\n",
    "import traceback as tb\n",
    "import torch\n",
    "\n",
    "tnn = torch.nn\n",
    "top = torch.optim\n",
    "from torch.utils import data as tdt"
   ]
  },
  {
   "cell_type": "markdown",
   "metadata": {},
   "source": [
    "### Download India's data"
   ]
  },
  {
   "cell_type": "code",
   "execution_count": 2,
   "metadata": {},
   "outputs": [
    {
     "data": {
      "text/html": [
       "<div>\n",
       "<style scoped>\n",
       "    .dataframe tbody tr th:only-of-type {\n",
       "        vertical-align: middle;\n",
       "    }\n",
       "\n",
       "    .dataframe tbody tr th {\n",
       "        vertical-align: top;\n",
       "    }\n",
       "\n",
       "    .dataframe thead th {\n",
       "        text-align: right;\n",
       "    }\n",
       "</style>\n",
       "<table border=\"1\" class=\"dataframe\">\n",
       "  <thead>\n",
       "    <tr style=\"text-align: right;\">\n",
       "      <th></th>\n",
       "      <th>date</th>\n",
       "      <th>confirmed</th>\n",
       "      <th>deceased</th>\n",
       "      <th>recovered</th>\n",
       "    </tr>\n",
       "  </thead>\n",
       "  <tbody>\n",
       "    <tr>\n",
       "      <th>33</th>\n",
       "      <td>2020-03-03</td>\n",
       "      <td>1</td>\n",
       "      <td>0</td>\n",
       "      <td>0</td>\n",
       "    </tr>\n",
       "  </tbody>\n",
       "</table>\n",
       "</div>"
      ],
      "text/plain": [
       "         date  confirmed  deceased  recovered\n",
       "33 2020-03-03          1         0          0"
      ]
     },
     "execution_count": 2,
     "metadata": {},
     "output_type": "execute_result"
    }
   ],
   "source": [
    "# get daily time series data from covid19india\n",
    "resp = rq.get(\"https://api.covid19india.org/data.json\")\n",
    "ts = resp.json()['cases_time_series']\n",
    "\n",
    "r = {\n",
    "    \"date\": [],\n",
    "    \"confirmed\": [],\n",
    "    \"deceased\": [],\n",
    "    \"recovered\": []\n",
    "}\n",
    "\n",
    "for d in ts:\n",
    "    try:\n",
    "        r['date'].append(dt.datetime.strptime(d['date'] + \"2020\", '%d %B %Y'))\n",
    "        r['confirmed'].append(np.int64(d['dailyconfirmed']))\n",
    "        r['deceased'].append(np.int64(d['dailydeceased']))\n",
    "        r['recovered'].append(np.int64(d['dailyrecovered']))\n",
    "    except Exception as e:\n",
    "        print(d['date'])\n",
    "        tb.print_exc()\n",
    "\n",
    "df = pd.DataFrame(r)\n",
    "df.sort_values('date', inplace=True)\n",
    "df.sample()"
   ]
  },
  {
   "cell_type": "markdown",
   "metadata": {},
   "source": [
    "### Italy's and Spain's data"
   ]
  },
  {
   "cell_type": "code",
   "execution_count": 3,
   "metadata": {},
   "outputs": [
    {
     "name": "stdout",
     "output_type": "stream",
     "text": [
      "          date  deceased  recovered  confirmed  active  daily\n",
      "19  2020-03-11       827     1045.0      12462   10590   2313\n",
      "          date   deaths  recovered  confirmed  active  daily\n",
      "38  2020-04-02  10384.0      26540     126337   89413   7241\n"
     ]
    }
   ],
   "source": [
    "it_df = pd.read_csv('csv/italy.csv')\n",
    "print(it_df.sample())\n",
    "\n",
    "es_df = pd.read_csv('csv/spain.csv')\n",
    "print(es_df.sample())"
   ]
  },
  {
   "cell_type": "markdown",
   "metadata": {},
   "source": [
    "### Prep data"
   ]
  },
  {
   "cell_type": "code",
   "execution_count": 20,
   "metadata": {},
   "outputs": [],
   "source": [
    "def get_rnn_dataset(series, seq_len):\n",
    "    \"\"\"get rnn training dataset, given a series and seq_len\"\"\"\n",
    "    ip_seq = np.array(series[:-1], dtype=np.float32)\n",
    "    op_seq = np.array(series[1:], dtype=np.float32)\n",
    "    data_len = len(series) - 1\n",
    "\n",
    "    ips = []\n",
    "    ops = []\n",
    "    for i in range(data_len - seq_len + 1):\n",
    "        ip, op = ip_seq[i : i+seq_len], op_seq[i : i+seq_len]\n",
    "        ips.append(ip)\n",
    "        ops.append(op)\n",
    "    ips = np.array(ips, dtype=np.float32)\n",
    "    ops = np.array(ops, dtype=np.float32)\n",
    "\n",
    "    # convert from numpy to torch\n",
    "    ip_t = torch.from_numpy(ips)\n",
    "    op_t = torch.from_numpy(ops)\n",
    "\n",
    "    dataset = tdt.TensorDataset(ip_t, op_t)\n",
    "    return dataset\n",
    "\n",
    "# preprocess data: sma(6) and normalise by 10k\n",
    "in_cnf = np.array(df['confirmed'][37:].rolling(6, center=True, min_periods=1).mean()) / 10000\n",
    "it_cnf = np.array(it_df['daily'].rolling(6, center=True, min_periods=1).mean()) / 10000\n",
    "es_cnf = np.array(es_df['daily'].rolling(6, center=True, min_periods=1).mean()) / 10000\n",
    "\n",
    "# Choose among India or Italy or Spain here\n",
    "cnf = np.append(it_cnf, es_cnf)\n",
    "SEQ_LEN = 5\n",
    "dataset = get_rnn_dataset(cnf, SEQ_LEN)\n",
    "\n",
    "seq_data_loader = tdt.DataLoader(dataset, shuffle=False, batch_size=1)\n",
    "rnd_data_loader = tdt.DataLoader(dataset, shuffle=True, batch_size=1)"
   ]
  },
  {
   "cell_type": "markdown",
   "metadata": {},
   "source": [
    "### Define NN and train"
   ]
  },
  {
   "cell_type": "code",
   "execution_count": 21,
   "metadata": {},
   "outputs": [
    {
     "name": "stdout",
     "output_type": "stream",
     "text": [
      "Epoch: 0 Iter:  0 Loss:  0.51201 Out: -6623.62 Ex:  584.67\n",
      "Epoch: 0 Iter: 10 Loss:  0.03202 Out:  7002.86 Ex:  6693.50\n",
      "Epoch: 0 Iter: 20 Loss:  0.06360 Out:  5555.92 Ex:  3659.67\n",
      "Epoch: 0 Iter: 30 Loss:  0.00179 Out:  960.13 Ex:  1133.50\n",
      "Epoch: 0 Iter: 40 Loss:  0.00119 Out:  6901.93 Ex:  7098.00\n",
      "Epoch: 0 Iter: 50 Loss:  0.00817 Out: -466.90 Ex:  406.50\n",
      "Epoch: 0 Iter: 60 Loss:  0.00273 Out:  229.19 Ex:  10.80\n",
      "Epoch: 0 Iter: 70 Loss:  0.00046 Out:  3221.56 Ex:  3433.33\n",
      "Epoch: 0 Iter: 80 Loss:  0.00101 Out:  1725.83 Ex:  1962.83\n",
      "Epoch: 0 Iter: 90 Loss:  0.00146 Out:  420.79 Ex:  754.75\n",
      "Epoch: 0 Iter: 100 Loss:  0.00203 Out:  6006.64 Ex:  5486.67\n",
      "Epoch: 0 Iter: 110 Loss:  0.00024 Out:  1446.51 Ex:  1570.33\n",
      "Epoch: 0 Iter: 120 Loss:  0.00044 Out:  3927.41 Ex:  3844.33\n",
      "Epoch: 0 Iter: 130 Loss:  0.00031 Out:  5607.79 Ex:  5555.67\n",
      "Epoch: 0 Iter: 140 Loss:  0.00719 Out:  5385.33 Ex:  5994.83\n",
      "Epoch: 0 Iter: 150 Loss:  0.00064 Out:  3003.01 Ex:  3242.67\n",
      "Epoch: 0 Iter: 160 Loss:  0.00257 Out:  199.17 Ex:  711.33\n",
      "Epoch: 0 Iter: 170 Loss:  0.00001 Out:  826.11 Ex:  889.83\n",
      "Epoch: 1 Iter:  0 Loss:  0.00102 Out:  2867.11 Ex:  2741.17\n",
      "Epoch: 1 Iter: 10 Loss:  0.00142 Out:  1410.18 Ex:  1041.00\n",
      "Epoch: 1 Iter: 20 Loss:  0.00216 Out:  185.35 Ex:  22.00\n",
      "Epoch: 1 Iter: 30 Loss:  0.00024 Out:  6938.26 Ex:  7143.00\n",
      "Epoch: 1 Iter: 40 Loss:  0.00037 Out:  688.17 Ex:  778.33\n",
      "Epoch: 1 Iter: 50 Loss:  0.01671 Out:  6124.29 Ex:  7268.33\n",
      "Epoch: 1 Iter: 60 Loss:  0.00561 Out:  978.92 Ex:  1746.17\n",
      "Epoch: 1 Iter: 70 Loss:  0.00476 Out:  3936.42 Ex:  3409.33\n",
      "Epoch: 1 Iter: 80 Loss:  0.00153 Out:  4592.10 Ex:  5198.50\n",
      "Epoch: 1 Iter: 90 Loss:  0.00043 Out:  2397.31 Ex:  2591.67\n",
      "Epoch: 1 Iter: 100 Loss:  0.00518 Out: -561.93 Ex:  157.50\n",
      "Epoch: 1 Iter: 110 Loss:  0.00009 Out:  830.75 Ex:  936.83\n",
      "Epoch: 1 Iter: 120 Loss:  0.00000 Out:  149.03 Ex:  163.00\n",
      "Epoch: 1 Iter: 130 Loss:  0.00007 Out:  2559.20 Ex:  2633.50\n",
      "Epoch: 1 Iter: 140 Loss:  0.00494 Out:  4975.38 Ex:  5558.50\n",
      "Epoch: 1 Iter: 150 Loss:  0.00928 Out:  2380.95 Ex:  3433.33\n",
      "Epoch: 1 Iter: 160 Loss:  0.00098 Out:  725.54 Ex:  1031.40\n",
      "Epoch: 1 Iter: 170 Loss:  0.01041 Out:  4333.94 Ex:  3360.50\n"
     ]
    },
    {
     "data": {
      "text/plain": [
       "<matplotlib.axes._subplots.AxesSubplot at 0x7f83da4263c8>"
      ]
     },
     "execution_count": 21,
     "metadata": {},
     "output_type": "execute_result"
    },
    {
     "data": {
      "image/png": "[encoded data removed]",
      "text/plain": [
       "<Figure size 432x288 with 1 Axes>"
      ]
     },
     "metadata": {
      "needs_background": "light"
     },
     "output_type": "display_data"
    }
   ],
   "source": [
    "class Forecaster(tnn.Module):\n",
    "    def __init__(self, seq_len=1, hidden_size=1):\n",
    "        super(Forecaster, self).__init__()\n",
    "        \n",
    "        self.seq_len = seq_len\n",
    "        self.hidden_size = hidden_size\n",
    "        \n",
    "        self.rnn = tnn.RNN(input_size=1, hidden_size=hidden_size)\n",
    "    \n",
    "    def forward(self, ip):\n",
    "        outs, h = self.rnn(ip)\n",
    "        return outs.view(self.seq_len)\n",
    "    \n",
    "    def predict(self, ip, num_predictions=1):\n",
    "        preds = []\n",
    "        with torch.no_grad():\n",
    "            pred = ip\n",
    "            while(num_predictions):\n",
    "                pred = self.forward(pred.view(self.seq_len, 1, 1))\n",
    "                preds.append(pred.view(self.seq_len)[-1].item())\n",
    "                num_predictions-=1\n",
    "        return torch.tensor(np.array(preds, dtype=np.float32))\n",
    "\n",
    "model = Forecaster(seq_len=SEQ_LEN, hidden_size=1)\n",
    "loss_fn = tnn.MSELoss()\n",
    "optimizer = top.Adam(model.parameters(), lr=0.1)\n",
    "\n",
    "# TRAIN\n",
    "loss_vals = []\n",
    "pred_vals = []\n",
    "\n",
    "num_epochs = 2\n",
    "for e in range(num_epochs):\n",
    "    for i, data in enumerate(rnd_data_loader):\n",
    "        ip, op = data\n",
    "\n",
    "        # set grads to 0\n",
    "        optimizer.zero_grad()\n",
    "\n",
    "        # predict\n",
    "        pred = model(ip.view(SEQ_LEN, 1, 1))\n",
    "\n",
    "        # calc loss\n",
    "        loss = loss_fn(pred, op.view(SEQ_LEN))\n",
    "\n",
    "        # logging\n",
    "        loss_vals.append(loss.item())\n",
    "        if i%10 == 0:\n",
    "            print(\"Epoch:\", e, \"Iter:\", f\"{i:2}\", \"Loss:\", f\"{loss.item(): .5f}\", \"Out:\", f\"{pred.view(SEQ_LEN)[-1].item()*10000: .2f}\", \"Ex:\", f\"{op.view(SEQ_LEN)[-1].item()*10000: .2f}\")\n",
    "\n",
    "        # assign grads\n",
    "        loss.backward()\n",
    "\n",
    "        # update weights\n",
    "        optimizer.step()\n",
    "\n",
    "df_loss = pd.DataFrame({\n",
    "    'loss': loss_vals\n",
    "})\n",
    "df_loss.plot(\n",
    "    y='loss'\n",
    ")"
   ]
  },
  {
   "cell_type": "markdown",
   "metadata": {},
   "source": [
    "### Test\n",
    "- future values on any country's data"
   ]
  },
  {
   "cell_type": "code",
   "execution_count": 37,
   "metadata": {},
   "outputs": [
    {
     "name": "stdout",
     "output_type": "stream",
     "text": [
      "IN: tensor([4332.6665, 4737.3335, 4996.6665, 5234.3999, 5344.5000])\n",
      "OUT: tensor([5707.6655, 5991.3433, 6205.2920, 6362.8101, 6477.2158])\n"
     ]
    },
    {
     "data": {
      "image/png": "[encoded data removed]",
      "text/plain": [
       "<Figure size 432x288 with 1 Axes>"
      ]
     },
     "metadata": {
      "needs_background": "light"
     },
     "output_type": "display_data"
    }
   ],
   "source": [
    "# CHOOSE FROM IN, IT OR ES HERE\n",
    "df_cnf = in_cnf\n",
    "# df_cnf = np.array([8000, 7600, 7300, 6900, 6650], dtype=np.float32) / 10000\n",
    "\n",
    "test_in = df_cnf[-SEQ_LEN:]\n",
    "t = torch.tensor(\n",
    "    test_in.reshape(SEQ_LEN, 1, 1),\n",
    "    dtype=torch.float32\n",
    ")\n",
    "print(\"IN:\", t.view(SEQ_LEN) * 10000)\n",
    "out = model.predict(t, num_predictions=5)\n",
    "print(\"OUT:\", out * 10000)\n",
    "\n",
    "orig_df = pd.DataFrame({\n",
    "    'actual': df_cnf * 10000\n",
    "})\n",
    "fut_df = pd.DataFrame({\n",
    "    'predicted': (out.numpy() * 10000)\n",
    "})\n",
    "orig_df = orig_df.append(fut_df, ignore_index=True, sort=False)\n",
    "_ = orig_df.plot()"
   ]
  },
  {
   "cell_type": "markdown",
   "metadata": {},
   "source": [
    "- on training data"
   ]
  },
  {
   "cell_type": "code",
   "execution_count": 24,
   "metadata": {},
   "outputs": [
    {
     "data": {
      "image/png": "[encoded data removed]",
      "text/plain": [
       "<Figure size 432x288 with 1 Axes>"
      ]
     },
     "metadata": {
      "needs_background": "light"
     },
     "output_type": "display_data"
    }
   ],
   "source": [
    "pred_vals = []\n",
    "out_vals = []\n",
    "for data in seq_data_loader:\n",
    "    ip, op = data\n",
    "    pred = model.predict(ip.view(SEQ_LEN, 1, 1))\n",
    "    pred_vals.append(pred.item() * 10000)\n",
    "    out_vals.append(op.view(SEQ_LEN)[-1].item() * 10000)\n",
    "\n",
    "cmp_df = pd.DataFrame({\n",
    "    'predicted cases': pred_vals,\n",
    "    'actual cases': out_vals\n",
    "})\n",
    "_ = cmp_df.plot()"
   ]
  },
  {
   "cell_type": "code",
   "execution_count": 27,
   "metadata": {},
   "outputs": [
    {
     "name": "stdout",
     "output_type": "stream",
     "text": [
      "rnn.weight_ih_l0 = tensor([[1.3649]])\n",
      "rnn.weight_hh_l0 = tensor([[-0.2106]])\n",
      "rnn.bias_ih_l0 = tensor([0.4601])\n",
      "rnn.bias_hh_l0 = tensor([-0.4223])\n"
     ]
    }
   ],
   "source": [
    "for k in model.state_dict().keys():\n",
    "    print(k, \"=\", model.state_dict()[k])"
   ]
  }
 ],
 "metadata": {
  "kernelspec": {
   "display_name": "Python 3",
   "language": "python",
   "name": "python3"
  },
  "language_info": {
   "codemirror_mode": {
    "name": "ipython",
    "version": 3
   },
   "file_extension": ".py",
   "mimetype": "text/x-python",
   "name": "python",
   "nbconvert_exporter": "python",
   "pygments_lexer": "ipython3",
   "version": "3.7.3"
  }
 },
 "nbformat": 4,
 "nbformat_minor": 4
}
