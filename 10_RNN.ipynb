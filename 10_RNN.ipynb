{
 "cells": [
  {
   "cell_type": "markdown",
   "metadata": {},
   "source": [
    "Useful links\n",
    "\n",
    "- https://blog.floydhub.com/a-beginners-guide-on-recurrent-neural-networks-with-pytorch/\n",
    "- http://karpathy.github.io/2015/05/21/rnn-effectiveness/\n",
    "- https://stackabuse.com/time-series-prediction-using-lstm-with-pytorch-in-python/\n",
    "- https://towardsdatascience.com/pytorch-basics-how-to-train-your-neural-net-intro-to-rnn-cb6ebc594677\n",
    "- https://towardsdatascience.com/time-series-forecasting-with-rnns-ff22683bbbb0\n",
    "- https://towardsdatascience.com/time-series-forecasting-with-recurrent-neural-networks-74674e289816\n",
    "- https://towardsdatascience.com/analyzing-time-series-data-in-pandas-be3887fdd621\n",
    "- http://www.wildml.com/2015/10/recurrent-neural-networks-tutorial-part-3-backpropagation-through-time-and-vanishing-gradients/\n",
    "- https://colah.github.io/posts/2015-09-NN-Types-FP/\n",
    "- https://pytorch.org/docs/stable/nn.html#rnn"
   ]
  },
  {
   "cell_type": "code",
   "execution_count": 1,
   "metadata": {},
   "outputs": [],
   "source": [
    "import pandas as pd\n",
    "import numpy as np\n",
    "import requests as rq\n",
    "import datetime as dt\n",
    "import traceback as tb\n",
    "import torch\n",
    "\n",
    "tnn = torch.nn\n",
    "top = torch.optim\n",
    "from torch.utils import data as tdt"
   ]
  },
  {
   "cell_type": "markdown",
   "metadata": {},
   "source": [
    "### Download India's data"
   ]
  },
  {
   "cell_type": "code",
   "execution_count": 2,
   "metadata": {},
   "outputs": [
    {
     "data": {
      "text/html": [
       "<div>\n",
       "<style scoped>\n",
       "    .dataframe tbody tr th:only-of-type {\n",
       "        vertical-align: middle;\n",
       "    }\n",
       "\n",
       "    .dataframe tbody tr th {\n",
       "        vertical-align: top;\n",
       "    }\n",
       "\n",
       "    .dataframe thead th {\n",
       "        text-align: right;\n",
       "    }\n",
       "</style>\n",
       "<table border=\"1\" class=\"dataframe\">\n",
       "  <thead>\n",
       "    <tr style=\"text-align: right;\">\n",
       "      <th></th>\n",
       "      <th>date</th>\n",
       "      <th>confirmed</th>\n",
       "      <th>deceased</th>\n",
       "      <th>recovered</th>\n",
       "    </tr>\n",
       "  </thead>\n",
       "  <tbody>\n",
       "    <tr>\n",
       "      <th>44</th>\n",
       "      <td>2020-03-14</td>\n",
       "      <td>11</td>\n",
       "      <td>1</td>\n",
       "      <td>0</td>\n",
       "    </tr>\n",
       "  </tbody>\n",
       "</table>\n",
       "</div>"
      ],
      "text/plain": [
       "         date  confirmed  deceased  recovered\n",
       "44 2020-03-14         11         1          0"
      ]
     },
     "execution_count": 2,
     "metadata": {},
     "output_type": "execute_result"
    }
   ],
   "source": [
    "# get daily time series data from covid19india\n",
    "resp = rq.get(\"https://api.covid19india.org/data.json\")\n",
    "ts = resp.json()['cases_time_series']\n",
    "\n",
    "r = {\n",
    "    \"date\": [],\n",
    "    \"confirmed\": [],\n",
    "    \"deceased\": [],\n",
    "    \"recovered\": []\n",
    "}\n",
    "\n",
    "for d in ts:\n",
    "    try:\n",
    "        r['date'].append(dt.datetime.strptime(d['date'] + \"2020\", '%d %B %Y'))\n",
    "        r['confirmed'].append(np.int64(d['dailyconfirmed']))\n",
    "        r['deceased'].append(np.int64(d['dailydeceased']))\n",
    "        r['recovered'].append(np.int64(d['dailyrecovered']))\n",
    "    except Exception as e:\n",
    "        print(d['date'])\n",
    "        tb.print_exc()\n",
    "\n",
    "df = pd.DataFrame(r)\n",
    "df.sort_values('date', inplace=True)\n",
    "df.sample()"
   ]
  },
  {
   "cell_type": "markdown",
   "metadata": {},
   "source": [
    "### Italy's and Spain's data"
   ]
  },
  {
   "cell_type": "code",
   "execution_count": 3,
   "metadata": {},
   "outputs": [
    {
     "name": "stdout",
     "output_type": "stream",
     "text": [
      "          date  deceased  recovered  confirmed  active  daily\n",
      "77  2020-05-08     30201    99023.0     217185   87961   1327\n",
      "          date  deaths  recovered  confirmed  active  daily\n",
      "27  2020-03-22  2136.0       3140      41182   35906   4625\n"
     ]
    }
   ],
   "source": [
    "it_df = pd.read_csv('csv/italy.csv')\n",
    "print(it_df.sample())\n",
    "\n",
    "es_df = pd.read_csv('csv/spain.csv')\n",
    "print(es_df.sample())"
   ]
  },
  {
   "cell_type": "markdown",
   "metadata": {},
   "source": [
    "### Prep data"
   ]
  },
  {
   "cell_type": "code",
   "execution_count": 6,
   "metadata": {},
   "outputs": [],
   "source": [
    "def get_rnn_dataset(series, seq_len):\n",
    "    \"\"\"get rnn training dataset, given a series and seq_len\"\"\"\n",
    "    ip_seq = np.array(series[:-1], dtype=np.float32)\n",
    "    op_seq = np.array(series[1:], dtype=np.float32)\n",
    "    data_len = len(series) - 1\n",
    "\n",
    "    ips = []\n",
    "    ops = []\n",
    "    for i in range(data_len - seq_len + 1):\n",
    "        ip, op = ip_seq[i : i+seq_len], op_seq[i : i+seq_len]\n",
    "        ips.append(ip)\n",
    "        ops.append(op)\n",
    "    ips = np.array(ips, dtype=np.float32)\n",
    "    ops = np.array(ops, dtype=np.float32)\n",
    "\n",
    "    # convert from numpy to torch\n",
    "    ip_t = torch.from_numpy(ips)\n",
    "    op_t = torch.from_numpy(ops)\n",
    "\n",
    "    dataset = tdt.TensorDataset(ip_t, op_t)\n",
    "    return dataset\n",
    "\n",
    "# preprocess data: sma(6) and normalise by 10k\n",
    "in_cnf = np.array(df['confirmed'][37:].rolling(6, center=True, min_periods=1).mean()) / 10000\n",
    "it_cnf = np.array(it_df['daily'].rolling(6, center=True, min_periods=1).mean()) / 10000\n",
    "es_cnf = np.array(es_df['daily'].rolling(6, center=True, min_periods=1).mean()) / 10000\n",
    "\n",
    "# Choose among India or Italy or Spain here\n",
    "cnf = in_cnf # np.append(it_cnf, es_cnf)\n",
    "SEQ_LEN = 5\n",
    "dataset = get_rnn_dataset(cnf, SEQ_LEN)\n",
    "\n",
    "val_len = int(0.2 * len(dataset))\n",
    "train_len = len(dataset) - val_len\n",
    "train_set, val_set = tdt.random_split(dataset, (train_len, val_len))\n",
    "\n",
    "seq_train_loader = tdt.DataLoader(train_set, shuffle=False, batch_size=1)\n",
    "rnd_train_loader = tdt.DataLoader(train_set, shuffle=True, batch_size=1)\n",
    "val_loader = tdt.DataLoader(val_set, shuffle=True, batch_size=1)"
   ]
  },
  {
   "cell_type": "markdown",
   "metadata": {},
   "source": [
    "### Define NN and train"
   ]
  },
  {
   "cell_type": "code",
   "execution_count": 12,
   "metadata": {},
   "outputs": [
    {
     "name": "stdout",
     "output_type": "stream",
     "text": [
      "epoch:   0 val_loss:  0.00990\n",
      "epoch:   1 val_loss:  0.00303\n",
      "epoch:   2 val_loss:  0.00034\n",
      "epoch:   3 val_loss:  0.00019\n",
      "epoch:   4 val_loss:  0.00022\n",
      "epoch:   5 val_loss:  0.00015\n",
      "epoch:   6 val_loss:  0.00015\n",
      "epoch:   7 val_loss:  0.00014\n",
      "epoch:   8 val_loss:  0.00013\n",
      "epoch:   9 val_loss:  0.00062\n",
      "epoch:  10 val_loss:  0.00012\n",
      "epoch:  11 val_loss:  0.00022\n",
      "epoch:  12 val_loss:  0.00017\n",
      "epoch:  13 val_loss:  0.00029\n",
      "epoch:  14 val_loss:  0.00011\n",
      "epoch:  15 val_loss:  0.00074\n",
      "epoch:  16 val_loss:  0.00021\n",
      "epoch:  17 val_loss:  0.00012\n",
      "epoch:  18 val_loss:  0.00018\n",
      "epoch:  19 val_loss:  0.00009\n"
     ]
    },
    {
     "data": {
      "image/png": "[encoded data removed]",
      "text/plain": [
       "<Figure size 432x288 with 1 Axes>"
      ]
     },
     "metadata": {
      "needs_background": "light"
     },
     "output_type": "display_data"
    },
    {
     "data": {
      "image/png": "[encoded data removed]",
      "text/plain": [
       "<Figure size 432x288 with 1 Axes>"
      ]
     },
     "metadata": {
      "needs_background": "light"
     },
     "output_type": "display_data"
    }
   ],
   "source": [
    "class Forecaster(tnn.Module):\n",
    "    def __init__(self, seq_len=1, hidden_size=1, num_layers=1):\n",
    "        super(Forecaster, self).__init__()\n",
    "        \n",
    "        self.seq_len = seq_len\n",
    "        self.hidden_size = hidden_size\n",
    "        self.num_layers = num_layers\n",
    "        \n",
    "        self.rnn = tnn.RNN(input_size=1, hidden_size=self.hidden_size, num_layers=self.num_layers)\n",
    "#         self.gru = tnn.GRU(input_size=1, hidden_size=self.hidden_size, num_layers=self.num_layers)\n",
    "#         self.lstm = tnn.LSTM(input_size=1, hidden_size=self.hidden_size, num_layers=self.num_layers)\n",
    "        self.linear = tnn.Linear(self.hidden_size, 1)\n",
    "#         self.sigmoid = tnn.Sigmoid()\n",
    "    \n",
    "    def forward(self, ip, h=None):\n",
    "        rnn_out, rnn_h = self.rnn(ip, h)\n",
    "#         return (torch.squeeze(rnn_out), torch.squeeze(rnn_h))\n",
    "        # linear layer\n",
    "        final_out = []\n",
    "        for i in range(self.seq_len):\n",
    "            linear_out = self.linear(rnn_out[i].view(self.hidden_size))\n",
    "            final_out.append(linear_out)\n",
    "        return torch.stack(final_out).view(self.seq_len), rnn_h\n",
    "    \n",
    "    def predict(self, ip, num_predictions=1):\n",
    "        preds = []\n",
    "        with torch.no_grad():\n",
    "            pred = ip\n",
    "            h = None\n",
    "            while(num_predictions):\n",
    "                pred, h = self.forward(pred.view(self.seq_len, 1, 1), h)\n",
    "                preds.append(pred.view(self.seq_len)[-1])\n",
    "                num_predictions -= 1\n",
    "        return torch.stack(preds)\n",
    "\n",
    "HIDDEN_SIZE = 2\n",
    "NUM_LAYERS = 1\n",
    "LEARNING_RATE = 0.01\n",
    "\n",
    "model = Forecaster(seq_len=SEQ_LEN, hidden_size=HIDDEN_SIZE, num_layers=NUM_LAYERS)\n",
    "loss_fn = tnn.MSELoss()\n",
    "optimizer = top.Adam(model.parameters(), lr=LEARNING_RATE)\n",
    "\n",
    "# TRAIN\n",
    "trn_loss_vals = []\n",
    "val_loss_vals = []\n",
    "\n",
    "NUM_EPOCHS = 20\n",
    "for e in range(NUM_EPOCHS):\n",
    "    # train\n",
    "    for i, data in enumerate(rnd_train_loader):\n",
    "        ip, op = data        \n",
    "        optimizer.zero_grad() # set grads to 0\n",
    "        pred, _ = model(ip.view(SEQ_LEN, 1, 1)) # predict\n",
    "        loss = loss_fn(pred, op.view(SEQ_LEN)) # calc loss\n",
    "        loss.backward() # calc and assign grads\n",
    "        optimizer.step() # update weights\n",
    "\n",
    "        # logging\n",
    "        trn_loss_vals.append(loss.item())\n",
    "        if i == 0:\n",
    "#             print(\"epoch:\", f\"{e:3}\", \"iter:\", f\"{i:3}\", \"trn_loss:\", f\"{loss.item(): .5f}\")\n",
    "            pass\n",
    "    \n",
    "    # val after each epoch\n",
    "    with torch.no_grad():\n",
    "        val_losses = []\n",
    "        for i, data in enumerate(val_loader):\n",
    "            ip, op = data\n",
    "            pred, _ = model(ip.view(SEQ_LEN, 1, 1))\n",
    "            loss = loss_fn(pred, op.view(SEQ_LEN))\n",
    "            val_losses.append(loss)\n",
    "        avg_val_loss = torch.stack(val_losses).mean().item()\n",
    "        val_loss_vals.append(avg_val_loss)\n",
    "        print(\"epoch:\", f\"{e:3}\", \"val_loss:\", f\"{avg_val_loss: .5f}\")\n",
    "\n",
    "df_trn_loss = pd.DataFrame({\n",
    "    'trn_loss': trn_loss_vals\n",
    "})\n",
    "_ = df_trn_loss.plot(\n",
    "    y='trn_loss',\n",
    "    title='Training loss'\n",
    ")\n",
    "\n",
    "df_val_loss = pd.DataFrame({\n",
    "    'val_loss': val_loss_vals\n",
    "})\n",
    "_ = df_val_loss.plot(\n",
    "    y='val_loss',\n",
    "    title='Validation loss'\n",
    ")"
   ]
  },
  {
   "cell_type": "markdown",
   "metadata": {},
   "source": [
    "### Test\n",
    "- future values on any country's data"
   ]
  },
  {
   "cell_type": "code",
   "execution_count": 13,
   "metadata": {},
   "outputs": [
    {
     "name": "stdout",
     "output_type": "stream",
     "text": [
      "IN: tensor([5025.5000, 5394.6670, 5690.6665, 5819.0000, 6116.7500])\n",
      "OUT: tensor([6071.9438, 6036.5312, 6008.4233, 5986.0371, 5968.1602, 5953.8535,\n",
      "        5942.3857, 5933.1797, 5925.7837, 5919.8345, 5915.0474, 5911.1929,\n",
      "        5908.0889, 5905.5869, 5903.5698, 5901.9448, 5900.6348, 5899.5776,\n",
      "        5898.7261, 5898.0386, 5897.4844, 5897.0376, 5896.6768, 5896.3857,\n",
      "        5896.1519, 5895.9619, 5895.8096, 5895.6865, 5895.5874, 5895.5068,\n",
      "        5895.4424, 5895.3911, 5895.3496, 5895.3154, 5895.2881, 5895.2661,\n",
      "        5895.2480, 5895.2344, 5895.2231, 5895.2139, 5895.2065, 5895.2002,\n",
      "        5895.1958, 5895.1909, 5895.1875, 5895.1851, 5895.1826, 5895.1807,\n",
      "        5895.1787, 5895.1782])\n"
     ]
    },
    {
     "data": {
      "image/png": "[encoded data removed]",
      "text/plain": [
       "<Figure size 432x288 with 1 Axes>"
      ]
     },
     "metadata": {
      "needs_background": "light"
     },
     "output_type": "display_data"
    }
   ],
   "source": [
    "# CHOOSE FROM IN, IT OR ES HERE\n",
    "df_cnf = in_cnf\n",
    "# df_cnf = np.array([8000, 7600, 7300, 6900, 6650], dtype=np.float32) / 10000\n",
    "\n",
    "test_in = df_cnf[-SEQ_LEN:]\n",
    "t = torch.tensor(\n",
    "    test_in.reshape(SEQ_LEN, 1, 1),\n",
    "    dtype=torch.float32\n",
    ")\n",
    "print(\"IN:\", t.view(SEQ_LEN) * 10000)\n",
    "out = model.predict(t, num_predictions=50)\n",
    "print(\"OUT:\", out * 10000)\n",
    "\n",
    "orig_df = pd.DataFrame({\n",
    "    'actual': df_cnf * 10000\n",
    "})\n",
    "fut_df = pd.DataFrame({\n",
    "    'predicted': (out.numpy() * 10000)\n",
    "})\n",
    "orig_df = orig_df.append(fut_df, ignore_index=True, sort=False)\n",
    "_ = orig_df.plot()"
   ]
  },
  {
   "cell_type": "markdown",
   "metadata": {},
   "source": [
    "- on training data"
   ]
  },
  {
   "cell_type": "code",
   "execution_count": 14,
   "metadata": {},
   "outputs": [
    {
     "data": {
      "image/png": "[encoded data removed]",
      "text/plain": [
       "<Figure size 432x288 with 1 Axes>"
      ]
     },
     "metadata": {
      "needs_background": "light"
     },
     "output_type": "display_data"
    }
   ],
   "source": [
    "pred_vals = []\n",
    "out_vals = []\n",
    "for data in seq_data_loader:\n",
    "    ip, op = data\n",
    "    pred = model.predict(ip.view(SEQ_LEN, 1, 1))\n",
    "    pred_vals.append(pred.item() * 10000)\n",
    "    out_vals.append(op.view(SEQ_LEN)[-1].item() * 10000)\n",
    "\n",
    "cmp_df = pd.DataFrame({\n",
    "    'predicted cases': pred_vals,\n",
    "    'actual cases': out_vals\n",
    "})\n",
    "_ = cmp_df.plot()"
   ]
  },
  {
   "cell_type": "code",
   "execution_count": 31,
   "metadata": {},
   "outputs": [
    {
     "name": "stdout",
     "output_type": "stream",
     "text": [
      "rnn.weight_ih_l0 = tensor([[-1.4046],\n",
      "        [-1.1551]])\n",
      "rnn.weight_hh_l0 = tensor([[-0.2088,  0.2843],\n",
      "        [ 0.2955, -0.4304]])\n",
      "rnn.bias_ih_l0 = tensor([0.1908, 0.6346])\n",
      "rnn.bias_hh_l0 = tensor([ 0.0838, -0.2946])\n",
      "linear.weight = tensor([[-0.5144, -0.3218]])\n",
      "linear.bias = tensor([0.2418])\n"
     ]
    }
   ],
   "source": [
    "for k in model.state_dict().keys():\n",
    "    print(k, \"=\", model.state_dict()[k])"
   ]
  }
 ],
 "metadata": {
  "kernelspec": {
   "display_name": "Python 3",
   "language": "python",
   "name": "python3"
  },
  "language_info": {
   "codemirror_mode": {
    "name": "ipython",
    "version": 3
   },
   "file_extension": ".py",
   "mimetype": "text/x-python",
   "name": "python",
   "nbconvert_exporter": "python",
   "pygments_lexer": "ipython3",
   "version": "3.7.3"
  }
 },
 "nbformat": 4,
 "nbformat_minor": 4
}
