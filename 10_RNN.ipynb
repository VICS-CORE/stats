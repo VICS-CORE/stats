{
 "cells": [
  {
   "cell_type": "code",
   "execution_count": 5,
   "metadata": {},
   "outputs": [],
   "source": [
    "import pandas as pd\n",
    "import numpy as np\n",
    "import requests as rq\n",
    "import datetime as dt\n",
    "import traceback as tb\n",
    "import torch\n",
    "\n",
    "tnn = torch.nn\n",
    "top = torch.optim"
   ]
  },
  {
   "cell_type": "markdown",
   "metadata": {},
   "source": [
    "### Download data"
   ]
  },
  {
   "cell_type": "code",
   "execution_count": 31,
   "metadata": {},
   "outputs": [
    {
     "data": {
      "text/html": [
       "<div>\n",
       "<style scoped>\n",
       "    .dataframe tbody tr th:only-of-type {\n",
       "        vertical-align: middle;\n",
       "    }\n",
       "\n",
       "    .dataframe tbody tr th {\n",
       "        vertical-align: top;\n",
       "    }\n",
       "\n",
       "    .dataframe thead th {\n",
       "        text-align: right;\n",
       "    }\n",
       "</style>\n",
       "<table border=\"1\" class=\"dataframe\">\n",
       "  <thead>\n",
       "    <tr style=\"text-align: right;\">\n",
       "      <th></th>\n",
       "      <th>date</th>\n",
       "      <th>confirmed</th>\n",
       "      <th>deceased</th>\n",
       "      <th>recovered</th>\n",
       "    </tr>\n",
       "  </thead>\n",
       "  <tbody>\n",
       "    <tr>\n",
       "      <th>12</th>\n",
       "      <td>2020-02-11</td>\n",
       "      <td>0</td>\n",
       "      <td>0</td>\n",
       "      <td>0</td>\n",
       "    </tr>\n",
       "  </tbody>\n",
       "</table>\n",
       "</div>"
      ],
      "text/plain": [
       "         date  confirmed  deceased  recovered\n",
       "12 2020-02-11          0         0          0"
      ]
     },
     "execution_count": 31,
     "metadata": {},
     "output_type": "execute_result"
    }
   ],
   "source": [
    "# get daily time series data from covid19india\n",
    "resp = rq.get(\"https://api.covid19india.org/data.json\")\n",
    "ts = resp.json()['cases_time_series']\n",
    "\n",
    "r = {\n",
    "    \"date\": [],\n",
    "    \"confirmed\": [],\n",
    "    \"deceased\": [],\n",
    "    \"recovered\": []\n",
    "}\n",
    "\n",
    "for d in ts:\n",
    "    try:\n",
    "        r['date'].append(dt.datetime.strptime(d['date'] + \"2020\", '%d %B %Y'))\n",
    "        r['confirmed'].append(np.int64(d['dailyconfirmed']))\n",
    "        r['deceased'].append(np.int64(d['dailydeceased']))\n",
    "        r['recovered'].append(np.int64(d['dailyrecovered']))\n",
    "    except Exception as e:\n",
    "        print(d['date'])\n",
    "        tb.print_exc()\n",
    "\n",
    "df = pd.DataFrame(r)\n",
    "df.sort_values('date', inplace=True)\n",
    "df.sample()"
   ]
  },
  {
   "cell_type": "code",
   "execution_count": 32,
   "metadata": {},
   "outputs": [
    {
     "data": {
      "text/plain": [
       "5049"
      ]
     },
     "execution_count": 32,
     "metadata": {},
     "output_type": "execute_result"
    }
   ],
   "source": [
    "df['confirmed'].max()"
   ]
  },
  {
   "cell_type": "markdown",
   "metadata": {},
   "source": [
    "### Prep data"
   ]
  },
  {
   "cell_type": "code",
   "execution_count": 12,
   "metadata": {},
   "outputs": [],
   "source": [
    "cnf = np.array(df.confirmed)\n",
    "# data to be prepped in the form of seq_len, batch, num_inputs. so 3, 1, 1\n",
    "dl = len(cnf) - 3 # dataset length\n",
    "ip = torch.tensor(np.array([cnf[:-3], cnf[1:-2], cnf[2:-1]]).reshape(dl, 3, 1, 1), dtype=torch.float32)\n",
    "op = torch.tensor(np.array(cnf[3:]), dtype=torch.float32)"
   ]
  },
  {
   "cell_type": "markdown",
   "metadata": {},
   "source": [
    "### Define RNN"
   ]
  },
  {
   "cell_type": "code",
   "execution_count": 33,
   "metadata": {},
   "outputs": [],
   "source": [
    "model = tnn.RNN(input_size=1, hidden_size=1)\n",
    "\n",
    "loss_fn = tnn.MSELoss()\n",
    "optimizer = top.Adam(model.parameters(), lr=0.1)"
   ]
  },
  {
   "cell_type": "markdown",
   "metadata": {},
   "source": [
    "### Train"
   ]
  },
  {
   "cell_type": "code",
   "execution_count": 40,
   "metadata": {},
   "outputs": [
    {
     "name": "stdout",
     "output_type": "stream",
     "text": [
      "Loss: 1.7103711502652885e-10\n",
      "Loss: 8.491459618786834e-11\n",
      "Loss: 0.9999340772628784\n",
      "Loss: 0.999934732913971\n",
      "Loss: 0.9999352693557739\n",
      "Loss: 0.9999357461929321\n",
      "Loss: 0.9999361634254456\n",
      "Loss: 0.9999365210533142\n",
      "Loss: 0.9999368786811829\n",
      "Loss: 0.9999372363090515\n",
      "Loss: 0.9999469518661499\n",
      "Loss: 0.9999979138374329\n",
      "Loss: 0.9999979734420776\n",
      "Loss: 1.0\n",
      "Loss: 1.0\n",
      "Loss: 1.0\n",
      "Loss: 1.0\n",
      "Loss: 1.0\n",
      "Loss: 1.0\n",
      "Loss: 1.0\n",
      "Loss: 1.0\n",
      "Loss: 1.0\n",
      "Loss: 1.0\n",
      "Loss: 1.0\n",
      "Loss: 1.0\n",
      "Loss: 1.0\n",
      "Loss: 1.0\n",
      "Loss: 1.0\n",
      "Loss: 1.0\n",
      "Loss: 1.0\n",
      "Loss: 0.0\n",
      "Loss: 441.0\n",
      "Loss: 1.0\n",
      "Loss: 0.0\n",
      "Loss: 4.0\n",
      "Loss: 16.000070571899414\n",
      "Loss: 64.00009155273438\n",
      "Loss: 196.00083923339844\n",
      "Loss: 49.00041961669922\n",
      "Loss: 81.00054168701172\n",
      "Loss: 81.00054168701172\n",
      "Loss: 100.00059509277344\n",
      "Loss: 81.00054168701172\n",
      "Loss: 169.0007781982422\n",
      "Loss: 361.0011291503906\n",
      "Loss: 576.001220703125\n",
      "Loss: 676.0000610351562\n",
      "Loss: 3249.000244140625\n",
      "Loss: 5929.0\n",
      "Loss: 4624.0\n",
      "Loss: 8649.0\n",
      "Loss: 5329.0\n",
      "Loss: 7225.0\n",
      "Loss: 5184.0\n",
      "Loss: 23104.0\n",
      "Loss: 18225.0\n",
      "Loss: 14161.0\n",
      "Loss: 34596.0\n",
      "Loss: 94864.0\n",
      "Loss: 178929.0\n",
      "Loss: 235225.0\n",
      "Loss: 312481.0\n",
      "Loss: 334084.0\n",
      "Loss: 369664.0\n",
      "Loss: 233289.0\n",
      "Loss: 327184.0\n",
      "Loss: 318096.0\n",
      "Loss: 659344.0\n",
      "Loss: 756900.0\n",
      "Loss: 727609.0\n",
      "Loss: 573049.0\n",
      "Loss: 1542564.0\n",
      "Loss: 1060900.125\n",
      "Loss: 783225.0625\n",
      "Loss: 1123600.125\n",
      "Loss: 848241.0625\n",
      "Loss: 1876900.125\n",
      "Loss: 2493241.25\n",
      "Loss: 1532644.125\n",
      "Loss: 2359296.0\n",
      "Loss: 1666681.0\n",
      "Loss: 2775556.0\n",
      "Loss: 1979649.0\n",
      "Loss: 3363556.0\n",
      "Loss: 2579236.0\n",
      "Loss: 2455489.0\n",
      "Loss: 3613801.0\n",
      "Loss: 2903616.0\n",
      "Loss: 3240000.0\n",
      "Loss: 5736025.0\n",
      "Loss: 6568969.0\n",
      "Loss: 8708401.0\n",
      "Loss: 13359025.0\n",
      "Loss: 8820900.0\n",
      "Loss: 12967201.0\n",
      "Loss: 11175649.0\n",
      "Loss: 11142244.0\n",
      "Loss: 10074276.0\n",
      "Loss: 18576100.0\n",
      "Loss: 12895281.0\n",
      "Loss: 12680721.0\n",
      "Loss: 13875625.0\n",
      "Loss: 15920100.0\n",
      "Loss: 14493249.0\n",
      "Loss: 22972848.0\n",
      "Loss: 25482304.0\n"
     ]
    },
    {
     "data": {
      "text/plain": [
       "<matplotlib.axes._subplots.AxesSubplot at 0x7fa7a8831780>"
      ]
     },
     "execution_count": 40,
     "metadata": {},
     "output_type": "execute_result"
    },
    {
     "data": {
      "image/png": "[encoded data removed]",
      "text/plain": [
       "<Figure size 432x288 with 1 Axes>"
      ]
     },
     "metadata": {
      "needs_background": "light"
     },
     "output_type": "display_data"
    }
   ],
   "source": [
    "loss_vals = []\n",
    "# h = torch.tensor(np.array([0]).reshape(1, 1, 1), dtype=torch.float32)\n",
    "for i in range(dl):\n",
    "    pred, _ = model(ip[i%dl])\n",
    "    loss = loss_fn(pred, op[i%dl])\n",
    "\n",
    "    loss_vals.append(loss.item())\n",
    "    print(\"Loss:\", loss.item())\n",
    "        \n",
    "    optimizer.zero_grad()\n",
    "    loss.backward()\n",
    "    optimizer.step()\n",
    "\n",
    "df_loss = pd.DataFrame({\n",
    "    'loss': loss_vals\n",
    "})\n",
    "df_loss.plot(\n",
    "    y='loss'\n",
    ")"
   ]
  },
  {
   "cell_type": "code",
   "execution_count": 35,
   "metadata": {},
   "outputs": [
    {
     "name": "stdout",
     "output_type": "stream",
     "text": [
      "tensor([[[1.]],\n",
      "\n",
      "        [[1.]],\n",
      "\n",
      "        [[1.]]], grad_fn=<StackBackward>)\n"
     ]
    }
   ],
   "source": [
    "test_in = torch.tensor(\n",
    "    np.array([10, 20, 30]).reshape(3, 1, 1),\n",
    "    dtype=torch.float32\n",
    ")\n",
    "out, _ = model(test_in)\n",
    "print(out)"
   ]
  }
 ],
 "metadata": {
  "kernelspec": {
   "display_name": "Python 3",
   "language": "python",
   "name": "python3"
  },
  "language_info": {
   "codemirror_mode": {
    "name": "ipython",
    "version": 3
   },
   "file_extension": ".py",
   "mimetype": "text/x-python",
   "name": "python",
   "nbconvert_exporter": "python",
   "pygments_lexer": "ipython3",
   "version": "3.7.3"
  }
 },
 "nbformat": 4,
 "nbformat_minor": 4
}
