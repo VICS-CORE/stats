{
 "cells": [
  {
   "cell_type": "markdown",
   "metadata": {},
   "source": [
    "### Training RNN using World's data\n",
    "\n",
    "This is based on `COVID-19 growth prediction using multivariate\n",
    "long short term memory` by `Novanto Yudistira`\n",
    "\n",
    "https://arxiv.org/pdf/2005.04809.pdf\n",
    "\n",
    "https://github.com/VICS-CORE/lstmcorona/blob/master/lstm.py"
   ]
  },
  {
   "cell_type": "code",
   "execution_count": 2,
   "metadata": {},
   "outputs": [],
   "source": [
    "import pandas as pd\n",
    "import numpy as np\n",
    "import requests as rq\n",
    "import datetime as dt\n",
    "import torch\n",
    "\n",
    "tnn = torch.nn\n",
    "top = torch.optim\n",
    "from torch.utils import data as tdt"
   ]
  },
  {
   "cell_type": "markdown",
   "metadata": {},
   "source": [
    "### Read OWID data"
   ]
  },
  {
   "cell_type": "code",
   "execution_count": 3,
   "metadata": {},
   "outputs": [
    {
     "name": "stdout",
     "output_type": "stream",
     "text": [
      "iso_code,location,date,total_cases,new_cases,total_deaths,new_deaths,total_cases_per_million,new_cases_per_million,total_deaths_per_million,new_deaths_per_million,total_tests,new_tests,total_tests_per_thousand,new_tests_per_thousand,tests_units,population,population_density,median_age,aged_65_older,aged_70_older,gdp_per_capita,extreme_poverty,cvd_death_rate,diabetes_prevalence,female_smokers,male_smokers,handwashing_facilities,hospital_beds_per_100k\n"
     ]
    }
   ],
   "source": [
    "!head -n1 csv/owid-covid-data.csv"
   ]
  },
  {
   "cell_type": "code",
   "execution_count": 4,
   "metadata": {},
   "outputs": [
    {
     "data": {
      "text/html": [
       "<div>\n",
       "<style scoped>\n",
       "    .dataframe tbody tr th:only-of-type {\n",
       "        vertical-align: middle;\n",
       "    }\n",
       "\n",
       "    .dataframe tbody tr th {\n",
       "        vertical-align: top;\n",
       "    }\n",
       "\n",
       "    .dataframe thead th {\n",
       "        text-align: right;\n",
       "    }\n",
       "</style>\n",
       "<table border=\"1\" class=\"dataframe\">\n",
       "  <thead>\n",
       "    <tr style=\"text-align: right;\">\n",
       "      <th></th>\n",
       "      <th>location</th>\n",
       "      <th>date</th>\n",
       "      <th>total_cases</th>\n",
       "      <th>new_cases</th>\n",
       "      <th>total_deaths</th>\n",
       "      <th>new_deaths</th>\n",
       "      <th>population</th>\n",
       "    </tr>\n",
       "  </thead>\n",
       "  <tbody>\n",
       "    <tr>\n",
       "      <th>14488</th>\n",
       "      <td>Romania</td>\n",
       "      <td>2020-02-07</td>\n",
       "      <td>0</td>\n",
       "      <td>0</td>\n",
       "      <td>0</td>\n",
       "      <td>0</td>\n",
       "      <td>19237682.0</td>\n",
       "    </tr>\n",
       "  </tbody>\n",
       "</table>\n",
       "</div>"
      ],
      "text/plain": [
       "      location       date  total_cases  new_cases  total_deaths  new_deaths  \\\n",
       "14488  Romania 2020-02-07            0          0             0           0   \n",
       "\n",
       "       population  \n",
       "14488  19237682.0  "
      ]
     },
     "execution_count": 4,
     "metadata": {},
     "output_type": "execute_result"
    }
   ],
   "source": [
    "cols = ['location', 'date', 'total_cases', 'new_cases', 'total_deaths', 'new_deaths', 'population']\n",
    "dates = ['date']\n",
    "df = pd.read_csv(\"csv/owid-covid-data.csv\", \n",
    "                 usecols=cols,\n",
    "                 parse_dates=dates)\n",
    "df.sample()"
   ]
  },
  {
   "cell_type": "markdown",
   "metadata": {},
   "source": [
    "### Prepare dataset"
   ]
  },
  {
   "cell_type": "code",
   "execution_count": 10,
   "metadata": {
    "collapsed": true,
    "jupyter": {
     "outputs_hidden": true
    }
   },
   "outputs": [
    {
     "name": "stdout",
     "output_type": "stream",
     "text": [
      "1 Afghanistan 52 38928341.0\n",
      "2 Albania 57 2877800.0\n",
      "3 Andorra 58 77265.0\n",
      "4 United Arab Emirates 63 9890400.0\n",
      "5 Argentina 61 45195777.0\n",
      "6 Armenia 62 2963234.0\n",
      "7 Australia 71 25499881.0\n",
      "8 Austria 72 9006400.0\n",
      "9 Azerbaijan 54 10139175.0\n",
      "10 Belgium 74 11589616.0\n",
      "11 Burkina Faso 55 20903278.0\n",
      "12 Bangladesh 43 164689383.0\n",
      "13 Bulgaria 61 6948445.0\n",
      "14 Bahrain 71 1701583.0\n",
      "15 Bosnia and Herzegovina 58 3280815.0\n",
      "16 Belarus 50 9449321.0\n",
      "17 Bolivia 50 11673029.0\n",
      "18 Brazil 66 212559409.0\n",
      "19 Brunei 56 437483.0\n",
      "20 Canada 69 37742157.0\n",
      "21 Switzerland 74 8654618.0\n",
      "22 Chile 64 19116209.0\n",
      "23 China 122 1439323774.0\n",
      "24 Cote d'Ivoire 53 26378275.0\n",
      "25 Cameroon 50 26545864.0\n",
      "26 Democratic Republic of Congo 48 89561404.0\n",
      "27 Congo 34 5518092.0\n",
      "28 Colombia 62 50882884.0\n",
      "29 Costa Rica 60 5094114.0\n",
      "30 Cuba 52 11326616.0\n",
      "31 Cyprus 57 875899.0\n",
      "32 Czech Republic 68 10708982.0\n",
      "33 Germany 80 83783945.0\n",
      "34 Djibouti 42 988002.0\n",
      "35 Denmark 71 5792203.0\n",
      "36 Dominican Republic 59 10847904.0\n",
      "37 Algeria 60 43851043.0\n",
      "38 Ecuador 63 17643060.0\n",
      "39 Egypt 65 102334403.0\n",
      "40 Spain 78 46754783.0\n",
      "41 Estonia 66 1326539.0\n",
      "42 Ethiopia 31 114963583.0\n",
      "43 Finland 68 5540718.0\n",
      "44 France 80 65273512.0\n",
      "45 Faeroe Islands 58 48865.0\n",
      "46 Gabon 32 2225728.0\n",
      "47 United Kingdom 75 67886004.0\n",
      "48 Georgia 49 3989175.0\n",
      "49 Guernsey 46 67052.0\n",
      "50 Ghana 54 31072945.0\n",
      "51 Gibraltar 44 33691.0\n",
      "52 Guinea 45 13132792.0\n",
      "53 Greece 68 10423056.0\n",
      "54 Guatemala 40 17915567.0\n",
      "55 Guam 44 168783.0\n",
      "56 Honduras 52 9904608.0\n",
      "57 Croatia 61 4105268.0\n",
      "58 Hungary 60 9660350.0\n",
      "59 Indonesia 65 273523621.0\n",
      "60 Isle of Man 46 85032.0\n",
      "61 India 64 1380004385.0\n",
      "62 Ireland 66 4937796.0\n",
      "63 Iran 83 83992953.0\n",
      "64 Iraq 65 40222503.0\n",
      "65 Iceland 68 341250.0\n",
      "66 Israel 67 8655541.0\n",
      "67 Italy 86 60461828.0\n",
      "68 Jamaica 35 2961161.0\n",
      "69 Jersey 46 101073.0\n",
      "70 Jordan 57 10203140.0\n",
      "71 Japan 88 126476458.0\n",
      "72 Kazakhstan 54 18776707.0\n",
      "73 Kenya 47 53771300.0\n",
      "74 Kyrgyzstan 49 6524191.0\n",
      "75 Cambodia 53 16718971.0\n",
      "76 South Korea 89 51269183.0\n",
      "77 Kuwait 67 4270563.0\n",
      "78 Lebanon 64 6825442.0\n",
      "79 Sri Lanka 56 21413250.0\n",
      "80 Lithuania 59 2722291.0\n",
      "81 Luxembourg 63 625976.0\n",
      "82 Latvia 60 1886202.0\n",
      "83 Morocco 58 36910558.0\n",
      "84 Moldova 57 4033963.0\n",
      "85 Madagascar 39 27691019.0\n",
      "86 Mexico 62 128932753.0\n",
      "87 Macedonia 58 2083380.0\n",
      "88 Mali 38 20250834.0\n",
      "89 Malta 58 441539.0\n",
      "90 Myanmar 31 54409794.0\n",
      "91 Montenegro 49 628062.0\n",
      "92 Mauritius 52 1271767.0\n",
      "93 Malaysia 71 32365998.0\n",
      "94 Niger 45 24206636.0\n",
      "95 Nigeria 50 206139587.0\n",
      "96 Netherlands 74 17134873.0\n",
      "97 Norway 74 5421242.0\n",
      "98 New Zealand 58 4822233.0\n",
      "99 Oman 54 5106622.0\n",
      "100 Pakistan 64 220892331.0\n",
      "101 Panama 62 4314768.0\n",
      "102 Peru 63 32971846.0\n",
      "103 Philippines 66 109581085.0\n",
      "104 Poland 66 37846605.0\n",
      "105 Puerto Rico 52 2860840.0\n",
      "106 Portugal 67 10196707.0\n",
      "107 Paraguay 45 7132530.0\n",
      "108 Palestine 50 5101416.0\n",
      "109 Qatar 68 2881060.0\n",
      "110 Romania 66 19237682.0\n",
      "111 Russia 63 145934460.0\n",
      "112 Rwanda 45 12952209.0\n",
      "113 Saudi Arabia 65 34813867.0\n",
      "114 Senegal 54 16743930.0\n",
      "115 Singapore 80 5850343.0\n",
      "116 El Salvador 41 6486201.0\n",
      "117 San Marino 64 33938.0\n",
      "118 Somalia 32 15893219.0\n",
      "119 Serbia 61 6804596.0\n",
      "120 Slovakia 62 5459643.0\n",
      "121 Slovenia 67 2078932.0\n",
      "122 Sweden 74 10099270.0\n",
      "123 Thailand 65 69799978.0\n",
      "124 Trinidad and Tobago 46 1399491.0\n",
      "125 Tunisia 56 11818618.0\n",
      "126 Turkey 62 84339067.0\n",
      "127 Taiwan 62 23816775.0\n",
      "128 Tanzania 32 59734213.0\n",
      "129 Ukraine 55 43733759.0\n",
      "130 Uruguay 60 3473727.0\n",
      "131 United States 78 331002647.0\n",
      "132 Uzbekistan 53 33469199.0\n",
      "133 Venezuela 55 28435943.0\n",
      "134 Vietnam 58 97338583.0\n",
      "135 Kosovo 50 1932774.0\n",
      "136 South Africa 62 59308690.0\n",
      "Training data: 2839 Validation data: 1216\n"
     ]
    }
   ],
   "source": [
    "IP_SEQ_LEN = 20\n",
    "OP_SEQ_LEN = 10\n",
    "VAL_RATIO = 0.3\n",
    "\n",
    "ip_trn = []\n",
    "op_trn = []\n",
    "\n",
    "ip_tst = []\n",
    "op_tst = []\n",
    "\n",
    "test = []\n",
    "\n",
    "countries = df['location'].unique()\n",
    "c = 0\n",
    "for country in countries:\n",
    "    if country in ['World', 'International']: # Countries to be skipped\n",
    "        continue\n",
    "    country_df = df.loc[df.location == country]\n",
    "    tot_cases_gt_100 = (country_df['total_cases'] >= 100)\n",
    "    country_df = country_df.loc[tot_cases_gt_100]\n",
    "    \n",
    "    if len(country_df) >= IP_SEQ_LEN + OP_SEQ_LEN:\n",
    "        c += 1\n",
    "        pop = country_df['population'].iloc[0]\n",
    "        print(c, country, len(country_df), pop)\n",
    "        daily_cases = np.array(country_df['new_cases'].rolling(7, center=True, min_periods=1).mean() * 1000 / pop, dtype=np.float32)\n",
    "        \n",
    "        if country in ['India']: # Countries to be tested\n",
    "            test.append(daily_cases)\n",
    "            continue\n",
    "            \n",
    "        for i in range(len(country_df) - IP_SEQ_LEN - OP_SEQ_LEN + 1):\n",
    "            ip_trn.append(daily_cases[i : i+IP_SEQ_LEN])\n",
    "            op_trn.append(daily_cases[i+IP_SEQ_LEN : i+IP_SEQ_LEN+OP_SEQ_LEN])\n",
    "            if country == 'Italy': # Country to test curve fit\n",
    "                ip_tst.append(daily_cases[i : i+IP_SEQ_LEN])\n",
    "                op_tst.append(daily_cases[i+IP_SEQ_LEN : i+IP_SEQ_LEN+OP_SEQ_LEN])\n",
    "\n",
    "ip_tst = torch.from_numpy(np.array(ip_tst, dtype=np.float32))\n",
    "op_tst = torch.from_numpy(np.array(op_tst, dtype=np.float32))\n",
    "tst_set = tdt.TensorDataset(ip_tst, op_tst)\n",
    "\n",
    "ip_trn = torch.from_numpy(np.array(ip_trn, dtype=np.float32))\n",
    "op_trn = torch.from_numpy(np.array(op_trn, dtype=np.float32))\n",
    "dataset = tdt.TensorDataset(ip_trn, op_trn)\n",
    "\n",
    "val_len = int(VAL_RATIO * len(dataset))\n",
    "trn_len = len(dataset) - val_len\n",
    "trn_set, val_set = tdt.random_split(dataset, (trn_len, val_len))\n",
    "print(\"Training data:\", trn_len, \"Validation data:\", val_len)\n",
    "\n",
    "trn_loader = tdt.DataLoader(trn_set, shuffle=True, batch_size=1)\n",
    "val_loader = tdt.DataLoader(val_set, shuffle=True, batch_size=1)\n",
    "tst_loader = tdt.DataLoader(tst_set, shuffle=False, batch_size=1)"
   ]
  },
  {
   "cell_type": "markdown",
   "metadata": {},
   "source": [
    "### LSTM"
   ]
  },
  {
   "cell_type": "code",
   "execution_count": 6,
   "metadata": {},
   "outputs": [],
   "source": [
    "class YudistirNet(tnn.Module):\n",
    "    def __init__(self, ip_seq_len=1, op_seq_len=1, hidden_size=1, num_layers=1):\n",
    "        super(YudistirNet, self).__init__()\n",
    "        \n",
    "        self.ip_seq_len = ip_seq_len\n",
    "        self.op_seq_len = op_seq_len\n",
    "        self.hidden_size = hidden_size\n",
    "        self.num_layers = num_layers\n",
    "        \n",
    "        self.lstm = tnn.LSTM(input_size=1, hidden_size=self.hidden_size, num_layers=self.num_layers)\n",
    "        self.linear = tnn.Linear(self.hidden_size * self.ip_seq_len, self.op_seq_len)\n",
    "        self.sigmoid = tnn.Sigmoid()\n",
    "    \n",
    "    def forward(self, ip):\n",
    "        lstm_out, _ = self.lstm(ip)\n",
    "        linear_out = self.linear(lstm_out.view(self.hidden_size * self.ip_seq_len))\n",
    "        sigmoid_out = self.sigmoid(linear_out.view(self.op_seq_len))\n",
    "        return sigmoid_out\n",
    "    \n",
    "    def predict(self, ip):\n",
    "        with torch.no_grad():\n",
    "            preds = self.forward(ip)\n",
    "        return preds"
   ]
  },
  {
   "cell_type": "markdown",
   "metadata": {},
   "source": [
    "### Train"
   ]
  },
  {
   "cell_type": "code",
   "execution_count": 9,
   "metadata": {},
   "outputs": [
    {
     "name": "stdout",
     "output_type": "stream",
     "text": [
      "epoch:   0 avg_val_loss:  0.00153 avg_trn_loss:  0.00208\n",
      "epoch:   1 avg_val_loss:  0.00068 avg_trn_loss:  0.00082\n",
      "epoch:   2 avg_val_loss:  0.00054 avg_trn_loss:  0.00060\n",
      "epoch:   3 avg_val_loss:  0.00052 avg_trn_loss:  0.00051\n",
      "epoch:   4 avg_val_loss:  0.00055 avg_trn_loss:  0.00045\n",
      "epoch:   5 avg_val_loss:  0.00045 avg_trn_loss:  0.00042\n",
      "epoch:   6 avg_val_loss:  0.00043 avg_trn_loss:  0.00039\n",
      "epoch:   7 avg_val_loss:  0.00041 avg_trn_loss:  0.00036\n",
      "epoch:   8 avg_val_loss:  0.00054 avg_trn_loss:  0.00036\n",
      "epoch:   9 avg_val_loss:  0.00043 avg_trn_loss:  0.00034\n"
     ]
    },
    {
     "data": {
      "image/png": "[encoded data removed]",
      "text/plain": [
       "<Figure size 360x576 with 2 Axes>"
      ]
     },
     "metadata": {
      "needs_background": "light"
     },
     "output_type": "display_data"
    }
   ],
   "source": [
    "HIDDEN_SIZE = 1\n",
    "NUM_LAYERS = 1\n",
    "LEARNING_RATE = 0.01\n",
    "NUM_EPOCHS = 10\n",
    "\n",
    "model = YudistirNet(ip_seq_len=IP_SEQ_LEN, op_seq_len=OP_SEQ_LEN, hidden_size=HIDDEN_SIZE, num_layers=NUM_LAYERS)\n",
    "loss_fn = tnn.MSELoss()\n",
    "optimizer = top.Adam(model.parameters(), lr=LEARNING_RATE)\n",
    "\n",
    "# TRAIN\n",
    "trn_loss_vals = []\n",
    "val_loss_vals = []\n",
    "\n",
    "for e in range(NUM_EPOCHS):\n",
    "    model.train()\n",
    "    trn_losses = []\n",
    "    for i, data in enumerate(trn_loader):\n",
    "        ip, op = data        \n",
    "        optimizer.zero_grad() # set grads to 0\n",
    "        preds = model(ip.view(IP_SEQ_LEN, 1, 1)) # predict\n",
    "        loss = loss_fn(preds, op.view(OP_SEQ_LEN)) # calc loss\n",
    "        loss.backward() # calc and assign grads\n",
    "        optimizer.step() # update weights\n",
    "        trn_losses.append(loss) # logging\n",
    "    avg_trn_loss = torch.stack(trn_losses).mean().item()\n",
    "    trn_loss_vals.append(avg_trn_loss)\n",
    "    \n",
    "    model.eval()\n",
    "    with torch.no_grad():\n",
    "        val_losses = []\n",
    "        for i, data in enumerate(val_loader):\n",
    "            ip, op = data\n",
    "            preds = model(ip.view(IP_SEQ_LEN, 1, 1))\n",
    "            loss = loss_fn(preds, op.view(OP_SEQ_LEN))\n",
    "            val_losses.append(loss)\n",
    "        avg_val_loss = torch.stack(val_losses).mean().item()\n",
    "        val_loss_vals.append(avg_val_loss)\n",
    "    \n",
    "    if e%1==0:\n",
    "        print(\"epoch:\", f\"{e:3}\", \"avg_val_loss:\", f\"{avg_val_loss: .5f}\", \"avg_trn_loss:\", f\"{avg_trn_loss: .5f}\")\n",
    "\n",
    "df_trn_loss = pd.DataFrame({\n",
    "    'trn_loss': trn_loss_vals,\n",
    "    'val_loss': val_loss_vals\n",
    "})\n",
    "_ = df_trn_loss.plot(\n",
    "    y=['trn_loss', 'val_loss'],\n",
    "    title=['Training loss per epoch', 'Validation loss per epoch'],\n",
    "    subplots=True,\n",
    "    figsize=(5,8),\n",
    "    sharex=False,\n",
    "    logy=True\n",
    ")"
   ]
  },
  {
   "cell_type": "markdown",
   "metadata": {},
   "source": [
    "### Evalute fit"
   ]
  },
  {
   "cell_type": "code",
   "execution_count": 13,
   "metadata": {},
   "outputs": [
    {
     "data": {
      "image/png": "[encoded data removed]",
      "text/plain": [
       "<Figure size 432x288 with 1 Axes>"
      ]
     },
     "metadata": {
      "needs_background": "light"
     },
     "output_type": "display_data"
    }
   ],
   "source": [
    "pop_fct = df.loc[df.location=='Italy', 'population'].iloc[0] / 1000\n",
    "\n",
    "pred_vals = []\n",
    "out_vals = []\n",
    "for data in tst_loader:\n",
    "    ip, op = data\n",
    "    pred = model.predict(ip.view(IP_SEQ_LEN, 1, 1))\n",
    "    pred_vals.append(pred.view(OP_SEQ_LEN)[0].item() * pop_fct)\n",
    "    out_vals.append(op.view(OP_SEQ_LEN)[0].item() * pop_fct)\n",
    "\n",
    "cmp_df = pd.DataFrame({\n",
    "    'predicted cases': pred_vals,\n",
    "    'actual cases': out_vals\n",
    "})\n",
    "_ = cmp_df.plot()"
   ]
  },
  {
   "cell_type": "markdown",
   "metadata": {},
   "source": [
    "### Test (predict)"
   ]
  },
  {
   "cell_type": "code",
   "execution_count": 15,
   "metadata": {},
   "outputs": [
    {
     "data": {
      "image/png": "[encoded data removed]",
      "text/plain": [
       "<Figure size 432x288 with 1 Axes>"
      ]
     },
     "metadata": {
      "needs_background": "light"
     },
     "output_type": "display_data"
    }
   ],
   "source": [
    "pop_fct = df.loc[df.location=='India', 'population'].iloc[0] / 1000\n",
    "\n",
    "ip = torch.tensor(\n",
    "    test[0][-IP_SEQ_LEN:],\n",
    "    dtype=torch.float32\n",
    ")\n",
    "pred = model.predict(ip.view(IP_SEQ_LEN, 1, 1))\n",
    "\n",
    "orig_df = pd.DataFrame({\n",
    "    'actual': test[0] * pop_fct\n",
    "})\n",
    "fut_df = pd.DataFrame({\n",
    "    'predicted': pred.numpy() * pop_fct\n",
    "})\n",
    "orig_df = orig_df.append(fut_df, ignore_index=True, sort=False)\n",
    "_ = orig_df.plot()"
   ]
  },
  {
   "cell_type": "markdown",
   "metadata": {},
   "source": [
    "### Inspect weights"
   ]
  },
  {
   "cell_type": "code",
   "execution_count": 8,
   "metadata": {},
   "outputs": [
    {
     "name": "stdout",
     "output_type": "stream",
     "text": [
      "lstm.weight_ih_l0\n",
      "tensor([[-2.7922],\n",
      "        [-2.6007],\n",
      "        [ 1.5824],\n",
      "        [-3.2650]])\n",
      "lstm.weight_hh_l0\n",
      "tensor([[ 0.2588],\n",
      "        [-0.4367],\n",
      "        [-0.7910],\n",
      "        [-1.3710]])\n",
      "lstm.bias_ih_l0\n",
      "tensor([ 0.5341,  0.5268, -1.1069,  0.5806])\n",
      "lstm.bias_hh_l0\n",
      "tensor([0.9500, 0.1321, 0.3743, 0.3205])\n",
      "linear.weight\n",
      "tensor([[ 0.2779, -0.2241,  0.1175, -0.2319, -0.1374,  0.1315,  0.0353,  0.1839,\n",
      "         -0.0301,  0.1981,  0.2232,  0.4285,  0.4518,  0.6030,  0.5609,  0.8434,\n",
      "          0.7216,  0.8476,  0.8336,  1.2806],\n",
      "        [ 0.1262, -0.2099, -0.0492, -0.0437, -0.2663,  0.0818,  0.0363,  0.0507,\n",
      "         -0.1780,  0.0204,  0.3252,  0.3861,  0.2404,  0.6780,  0.7756,  0.6220,\n",
      "          1.2015,  0.8654,  0.9247,  1.2078],\n",
      "        [ 0.0355, -0.0591, -0.1164, -0.0573, -0.0545,  0.1000,  0.0769, -0.1022,\n",
      "         -0.0831,  0.1557, -0.0283,  0.3242,  0.2022,  0.3472,  0.7893,  0.9984,\n",
      "          0.8294,  1.1845,  0.9697,  1.1242],\n",
      "        [ 0.0975, -0.1563,  0.1070, -0.2348, -0.0070, -0.0871,  0.0040, -0.0988,\n",
      "          0.1075, -0.1221,  0.1845,  0.4364,  0.5811,  0.5782,  0.7925,  0.7251,\n",
      "          0.9659,  0.8794,  0.8971,  1.2942],\n",
      "        [ 0.0110, -0.2043,  0.0453,  0.0138, -0.1358, -0.1395,  0.1101,  0.0494,\n",
      "          0.0888,  0.0377,  0.0769,  0.1273,  0.3721,  0.3235,  0.9375,  0.9080,\n",
      "          0.8820,  0.8837,  0.9883,  1.4402],\n",
      "        [ 0.0655, -0.0889,  0.1455, -0.1369, -0.1892, -0.0215,  0.1750,  0.1440,\n",
      "          0.1854,  0.2150,  0.1024,  0.0323,  0.1525,  0.4474,  0.5888,  0.7686,\n",
      "          0.8608,  1.1914,  0.9978,  1.2368],\n",
      "        [ 0.0177, -0.2023,  0.0065,  0.0029, -0.2714, -0.1057,  0.1729, -0.0439,\n",
      "         -0.0205, -0.1807,  0.1628, -0.0445,  0.0654,  0.5589,  0.4070,  0.9874,\n",
      "          1.0366,  1.1825,  1.2818,  1.5599],\n",
      "        [-0.2269, -0.1152, -0.3000,  0.0358, -0.2064, -0.0781,  0.1873, -0.1898,\n",
      "          0.0837,  0.0749,  0.1779, -0.0933,  0.3365,  0.4524,  0.6146,  0.5919,\n",
      "          1.1140,  0.9369,  1.3271,  1.6066],\n",
      "        [-0.0406,  0.0612, -0.2189, -0.1375, -0.0822,  0.1773,  0.0124, -0.0045,\n",
      "          0.1811, -0.0201,  0.2541,  0.3719,  0.3976,  0.5125,  0.4584,  0.6514,\n",
      "          0.8674,  1.0616,  1.1401,  1.2156],\n",
      "        [-0.0864, -0.2683,  0.1223, -0.2255,  0.2068,  0.1022,  0.0252, -0.0466,\n",
      "          0.0545,  0.3900,  0.1194,  0.0949,  0.2155,  0.5519,  0.8119,  0.5443,\n",
      "          1.0380,  0.8173,  1.0875,  1.1631]])\n",
      "linear.bias\n",
      "tensor([-0.2255, -0.3360, -0.4079, -0.2618, -0.3194, -0.3242, -0.4390, -0.5229,\n",
      "        -0.3224, -0.3541])\n"
     ]
    }
   ],
   "source": [
    "for k in model.state_dict().keys():\n",
    "    print(k)\n",
    "    print(model.state_dict()[k])"
   ]
  }
 ],
 "metadata": {
  "kernelspec": {
   "display_name": "Python 3",
   "language": "python",
   "name": "python3"
  },
  "language_info": {
   "codemirror_mode": {
    "name": "ipython",
    "version": 3
   },
   "file_extension": ".py",
   "mimetype": "text/x-python",
   "name": "python",
   "nbconvert_exporter": "python",
   "pygments_lexer": "ipython3",
   "version": "3.7.3"
  }
 },
 "nbformat": 4,
 "nbformat_minor": 4
}
