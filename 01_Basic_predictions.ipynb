{
 "cells": [
  {
   "cell_type": "markdown",
   "metadata": {},
   "source": [
    "Basic Predictions\n",
    "===============\n",
    "\n",
    "This notebook tries to predict number of \"confirmed cases\" from patientdb available at http://api.covid19india.org/. \n",
    "\n",
    "Growth rate is computed as rate of change of confirmed cases and smoothened using a 7d rolling average.\n",
    "It is extrapolated using the following methods:\n",
    "* Quadartic curve fitting - fails to fit the curve correctly\n",
    "* Hyperbolic curve fitting using a neural net - fits well and asymptotes the growth rate at ~7%.\n",
    "\n",
    "The model is rudimentary and points towards a scenario where we fail to contain the epidemic and it eventually moves to stage 3/4."
   ]
  },
  {
   "cell_type": "code",
   "execution_count": 132,
   "metadata": {},
   "outputs": [],
   "source": [
    "from matplotlib import pyplot as plt\n",
    "from matplotlib.ticker import FuncFormatter\n",
    "%matplotlib inline\n",
    "import matplotlib as mpl\n",
    "\n",
    "import datetime as dt\n",
    "import pandas as pd\n",
    "import numpy as np\n",
    "import requests\n",
    "\n",
    "from sklearn.neural_network import MLPRegressor"
   ]
  },
  {
   "cell_type": "code",
   "execution_count": 3,
   "metadata": {},
   "outputs": [],
   "source": [
    "# download patient data\n",
    "r = requests.get(\"https://api.covid19india.org/raw_data.json\")\n",
    "o = r.json()\n",
    "df_orig = pd.DataFrame(o['raw_data'])"
   ]
  },
  {
   "cell_type": "code",
   "execution_count": 5,
   "metadata": {},
   "outputs": [
    {
     "name": "stdout",
     "output_type": "stream",
     "text": [
      "27890\n"
     ]
    }
   ],
   "source": [
    "# format and clean\n",
    "df_orig['dateannounced'] = pd.to_datetime(df_orig['dateannounced'], format=\"%d/%m/%Y\")\n",
    "df = df_orig[(df_orig.currentstatus!=\"\") & (df_orig.detectedstate!=\"\")]\n",
    "print(len(df))"
   ]
  },
  {
   "cell_type": "code",
   "execution_count": 6,
   "metadata": {},
   "outputs": [
    {
     "name": "stdout",
     "output_type": "stream",
     "text": [
      "Index(['agebracket', 'backupnotes', 'contractedfromwhichpatientsuspected',\n",
      "       'currentstatus', 'dateannounced', 'detectedcity', 'detecteddistrict',\n",
      "       'detectedstate', 'estimatedonsetdate', 'gender', 'nationality', 'notes',\n",
      "       'patientnumber', 'source1', 'source2', 'source3', 'statecode',\n",
      "       'statepatientnumber', 'statuschangedate', 'typeoftransmission'],\n",
      "      dtype='object')\n",
      "Hospitalized    27662\n",
      "Recovered         181\n",
      "Deceased           46\n",
      "Migrated            1\n",
      "Name: currentstatus, dtype: int64\n"
     ]
    }
   ],
   "source": [
    "# inspect\n",
    "print(df.columns)\n",
    "print(df.currentstatus.value_counts())"
   ]
  },
  {
   "cell_type": "code",
   "execution_count": 135,
   "metadata": {},
   "outputs": [
    {
     "data": {
      "text/html": [
       "<div>\n",
       "<style scoped>\n",
       "    .dataframe tbody tr th:only-of-type {\n",
       "        vertical-align: middle;\n",
       "    }\n",
       "\n",
       "    .dataframe tbody tr th {\n",
       "        vertical-align: top;\n",
       "    }\n",
       "\n",
       "    .dataframe thead th {\n",
       "        text-align: right;\n",
       "    }\n",
       "</style>\n",
       "<table border=\"1\" class=\"dataframe\">\n",
       "  <thead>\n",
       "    <tr style=\"text-align: right;\">\n",
       "      <th></th>\n",
       "      <th>daily</th>\n",
       "      <th>total</th>\n",
       "      <th>growth</th>\n",
       "      <th>sma_growth</th>\n",
       "    </tr>\n",
       "    <tr>\n",
       "      <th>dateannounced</th>\n",
       "      <th></th>\n",
       "      <th></th>\n",
       "      <th></th>\n",
       "      <th></th>\n",
       "    </tr>\n",
       "  </thead>\n",
       "  <tbody>\n",
       "    <tr>\n",
       "      <th>2020-04-22</th>\n",
       "      <td>1292</td>\n",
       "      <td>21373</td>\n",
       "      <td>6.433943</td>\n",
       "      <td>8.131696</td>\n",
       "    </tr>\n",
       "    <tr>\n",
       "      <th>2020-04-23</th>\n",
       "      <td>1667</td>\n",
       "      <td>23040</td>\n",
       "      <td>7.799560</td>\n",
       "      <td>8.020703</td>\n",
       "    </tr>\n",
       "    <tr>\n",
       "      <th>2020-04-24</th>\n",
       "      <td>1408</td>\n",
       "      <td>24448</td>\n",
       "      <td>6.111111</td>\n",
       "      <td>7.913118</td>\n",
       "    </tr>\n",
       "    <tr>\n",
       "      <th>2020-04-25</th>\n",
       "      <td>1835</td>\n",
       "      <td>26283</td>\n",
       "      <td>7.505726</td>\n",
       "      <td>7.620887</td>\n",
       "    </tr>\n",
       "    <tr>\n",
       "      <th>2020-04-26</th>\n",
       "      <td>1607</td>\n",
       "      <td>27890</td>\n",
       "      <td>6.114218</td>\n",
       "      <td>7.058962</td>\n",
       "    </tr>\n",
       "  </tbody>\n",
       "</table>\n",
       "</div>"
      ],
      "text/plain": [
       "               daily  total    growth  sma_growth\n",
       "dateannounced                                    \n",
       "2020-04-22      1292  21373  6.433943    8.131696\n",
       "2020-04-23      1667  23040  7.799560    8.020703\n",
       "2020-04-24      1408  24448  6.111111    7.913118\n",
       "2020-04-25      1835  26283  7.505726    7.620887\n",
       "2020-04-26      1607  27890  6.114218    7.058962"
      ]
     },
     "execution_count": 135,
     "metadata": {},
     "output_type": "execute_result"
    },
    {
     "data": {
      "image/png": "[encoded data removed]",
      "text/plain": [
       "<Figure size 432x288 with 1 Axes>"
      ]
     },
     "metadata": {
      "needs_background": "light"
     },
     "output_type": "display_data"
    }
   ],
   "source": [
    "by_date = df.groupby(by='dateannounced')['patientnumber'].count().to_frame()\n",
    "by_date = by_date.rename(columns={'patientnumber': 'daily'})\n",
    "\n",
    "# cum sum\n",
    "cumsum = by_date.cumsum()\n",
    "by_date['total'] = cumsum['daily']\n",
    "\n",
    "# calc growth rate & its moving avg\n",
    "by_date['growth'] = 100 * by_date['daily'] / (by_date['total'] - by_date['daily'])\n",
    "sma_gr = by_date['growth'].rolling('7d').mean()\n",
    "by_date['sma_growth'] = sma_gr\n",
    "\n",
    "# daily plot\n",
    "by_date.plot(y='daily', kind='line')\n",
    "by_date.tail()"
   ]
  },
  {
   "cell_type": "code",
   "execution_count": 207,
   "metadata": {},
   "outputs": [
    {
     "data": {
      "text/html": [
       "<div>\n",
       "<style scoped>\n",
       "    .dataframe tbody tr th:only-of-type {\n",
       "        vertical-align: middle;\n",
       "    }\n",
       "\n",
       "    .dataframe tbody tr th {\n",
       "        vertical-align: top;\n",
       "    }\n",
       "\n",
       "    .dataframe thead th {\n",
       "        text-align: right;\n",
       "    }\n",
       "</style>\n",
       "<table border=\"1\" class=\"dataframe\">\n",
       "  <thead>\n",
       "    <tr style=\"text-align: right;\">\n",
       "      <th></th>\n",
       "      <th>daily</th>\n",
       "      <th>total</th>\n",
       "      <th>sma_growth</th>\n",
       "      <th>day_of_yr</th>\n",
       "    </tr>\n",
       "  </thead>\n",
       "  <tbody>\n",
       "    <tr>\n",
       "      <th>2020-04-22</th>\n",
       "      <td>1292.0</td>\n",
       "      <td>21373.0</td>\n",
       "      <td>8.131696</td>\n",
       "      <td>113</td>\n",
       "    </tr>\n",
       "    <tr>\n",
       "      <th>2020-04-23</th>\n",
       "      <td>1667.0</td>\n",
       "      <td>23040.0</td>\n",
       "      <td>8.020703</td>\n",
       "      <td>114</td>\n",
       "    </tr>\n",
       "    <tr>\n",
       "      <th>2020-04-24</th>\n",
       "      <td>1408.0</td>\n",
       "      <td>24448.0</td>\n",
       "      <td>7.913118</td>\n",
       "      <td>115</td>\n",
       "    </tr>\n",
       "    <tr>\n",
       "      <th>2020-04-25</th>\n",
       "      <td>1835.0</td>\n",
       "      <td>26283.0</td>\n",
       "      <td>7.620887</td>\n",
       "      <td>116</td>\n",
       "    </tr>\n",
       "    <tr>\n",
       "      <th>2020-04-26</th>\n",
       "      <td>1607.0</td>\n",
       "      <td>27890.0</td>\n",
       "      <td>7.058962</td>\n",
       "      <td>117</td>\n",
       "    </tr>\n",
       "  </tbody>\n",
       "</table>\n",
       "</div>"
      ],
      "text/plain": [
       "             daily    total  sma_growth  day_of_yr\n",
       "2020-04-22  1292.0  21373.0    8.131696        113\n",
       "2020-04-23  1667.0  23040.0    8.020703        114\n",
       "2020-04-24  1408.0  24448.0    7.913118        115\n",
       "2020-04-25  1835.0  26283.0    7.620887        116\n",
       "2020-04-26  1607.0  27890.0    7.058962        117"
      ]
     },
     "execution_count": 207,
     "metadata": {},
     "output_type": "execute_result"
    }
   ],
   "source": [
    "# create extrapolation dataframe\n",
    "last_date = by_date.index[-1]\n",
    "projections = pd.DataFrame(index=by_date.index.union(pd.date_range(start=last_date, periods=150, freq=\"1d\")))\n",
    "\n",
    "# fill with orig df\n",
    "projections['daily'] = by_date['daily']\n",
    "projections['total'] = by_date['total']\n",
    "projections['sma_growth'] = by_date['sma_growth']\n",
    "projections['day_of_yr'] = projections.index.dayofyear\n",
    "\n",
    "# filter data for curve fitting (aka training data)\n",
    "end_idx = len(by_date)\n",
    "start_idx = end_idx - 21 # use 21 day sma data for curve fitting\n",
    "fit_df = projections[start_idx:end_idx]\n",
    "fit_df.tail()"
   ]
  },
  {
   "cell_type": "code",
   "execution_count": 208,
   "metadata": {
    "scrolled": true
   },
   "outputs": [
    {
     "data": {
      "text/plain": [
       "<matplotlib.axes._subplots.AxesSubplot at 0x7f13a236a438>"
      ]
     },
     "execution_count": 208,
     "metadata": {},
     "output_type": "execute_result"
    },
    {
     "data": {
      "image/png": "[encoded data removed]",
      "text/plain": [
       "<Figure size 432x288 with 1 Axes>"
      ]
     },
     "metadata": {
      "needs_background": "light"
     },
     "output_type": "display_data"
    }
   ],
   "source": [
    "# fit polynomial curve\n",
    "coeffs = np.polyfit(fit_df.day_of_yr, fit_df.sma_growth, 2) # 2nd degree\n",
    "extrapolation_eqn = np.poly1d(coeffs)\n",
    "projections['projected_growth'] = extrapolation_eqn(projections.day_of_yr)\n",
    "ax = projections[start_idx:end_idx+5].plot(y='projected_growth', grid=True)\n",
    "projections[start_idx:end_idx+10].plot(y='sma_growth', color='red', ax=ax)"
   ]
  },
  {
   "cell_type": "code",
   "execution_count": 158,
   "metadata": {},
   "outputs": [
    {
     "data": {
      "text/plain": [
       "MLPRegressor(activation='tanh', alpha=0.0001, batch_size='auto', beta_1=0.9,\n",
       "             beta_2=0.999, early_stopping=False, epsilon=1e-08,\n",
       "             hidden_layer_sizes=(100,), learning_rate='constant',\n",
       "             learning_rate_init=0.001, max_iter=500, momentum=0.9,\n",
       "             n_iter_no_change=10, nesterovs_momentum=True, power_t=0.5,\n",
       "             random_state=None, shuffle=True, solver='lbfgs', tol=0.0001,\n",
       "             validation_fraction=0.1, verbose=False, warm_start=False)"
      ]
     },
     "execution_count": 158,
     "metadata": {},
     "output_type": "execute_result"
    }
   ],
   "source": [
    "# train a neural network with hyperbolic activation function from day_of_yr => sma_growth\n",
    "regressor = MLPRegressor(hidden_layer_sizes = (100,), activation = 'tanh', solver='lbfgs', max_iter=500)\n",
    "regressor.fit(X=fit_df[['day_of_yr']], y=fit_df['sma_growth'])"
   ]
  },
  {
   "cell_type": "code",
   "execution_count": 209,
   "metadata": {},
   "outputs": [
    {
     "data": {
      "text/plain": [
       "<matplotlib.axes._subplots.AxesSubplot at 0x7f13a22e84a8>"
      ]
     },
     "execution_count": 209,
     "metadata": {},
     "output_type": "execute_result"
    },
    {
     "data": {
      "image/png": "[encoded data removed]",
      "text/plain": [
       "<Figure size 432x288 with 1 Axes>"
      ]
     },
     "metadata": {
      "needs_background": "light"
     },
     "output_type": "display_data"
    }
   ],
   "source": [
    "projections['projected_growth_nn'] = regressor.predict(X=projections[['day_of_yr']])\n",
    "ax = projections[start_idx:end_idx+10].plot(y='projected_growth_nn', grid=True)\n",
    "projections[start_idx:end_idx+10].plot(y='sma_growth', color='red', ax=ax)"
   ]
  },
  {
   "cell_type": "code",
   "execution_count": 210,
   "metadata": {},
   "outputs": [],
   "source": [
    "# compute total and daily numbers based on projected rate\n",
    "prev_row_total = 0\n",
    "def project(row):\n",
    "    global prev_row_total\n",
    "    if not np.isnan(row['total']):\n",
    "        prev_row_total = row['total']\n",
    "        return row['total']\n",
    "    prev_row_total *= (1 + row['projected_growth_nn']/100)\n",
    "    return prev_row_total\n",
    "\n",
    "projections['projected_total'] = projections.apply(project, axis=1).astype('int64')"
   ]
  },
  {
   "cell_type": "code",
   "execution_count": 213,
   "metadata": {},
   "outputs": [
    {
     "data": {
      "text/plain": [
       "<matplotlib.axes._subplots.AxesSubplot at 0x7f13a21f4978>"
      ]
     },
     "execution_count": 213,
     "metadata": {},
     "output_type": "execute_result"
    },
    {
     "data": {
      "image/png": "[encoded data removed]",
      "text/plain": [
       "<Figure size 432x288 with 1 Axes>"
      ]
     },
     "metadata": {
      "needs_background": "light"
     },
     "output_type": "display_data"
    }
   ],
   "source": [
    "# plot 100 days from feb 1\n",
    "projections[0:100].plot(y='projected_total')"
   ]
  },
  {
   "cell_type": "code",
   "execution_count": 214,
   "metadata": {},
   "outputs": [
    {
     "data": {
      "text/plain": [
       "<matplotlib.axes._subplots.AxesSubplot at 0x7f13a2182668>"
      ]
     },
     "execution_count": 214,
     "metadata": {},
     "output_type": "execute_result"
    },
    {
     "data": {
      "image/png": "[encoded data removed]",
      "text/plain": [
       "<Figure size 432x288 with 1 Axes>"
      ]
     },
     "metadata": {
      "needs_background": "light"
     },
     "output_type": "display_data"
    }
   ],
   "source": [
    "# plot 100 days to Oct  \n",
    "projections[100:].plot(y='projected_total')"
   ]
  },
  {
   "cell_type": "code",
   "execution_count": null,
   "metadata": {},
   "outputs": [],
   "source": []
  }
 ],
 "metadata": {
  "kernelspec": {
   "display_name": "Python 3",
   "language": "python",
   "name": "python3"
  },
  "language_info": {
   "codemirror_mode": {
    "name": "ipython",
    "version": 3
   },
   "file_extension": ".py",
   "mimetype": "text/x-python",
   "name": "python",
   "nbconvert_exporter": "python",
   "pygments_lexer": "ipython3",
   "version": "3.7.3"
  }
 },
 "nbformat": 4,
 "nbformat_minor": 2
}
