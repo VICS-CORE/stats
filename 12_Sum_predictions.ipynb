{
 "cells": [
  {
   "cell_type": "code",
   "execution_count": 1,
   "metadata": {},
   "outputs": [],
   "source": [
    "import json\n",
    "\n",
    "with open(\"predictions.json\") as f:\n",
    "    api = json.loads(f.read())\n",
    "\n",
    "api['TT'] = {}\n",
    "for state in api:\n",
    "    for date in api[state]:\n",
    "        api['TT'][date] = api['TT'].get(date, {'delta':{}, 'total':{}})\n",
    "        for k in ['delta', 'total']:\n",
    "            api['TT'][date][k]['confirmed'] = api['TT'][date][k].get('confirmed', 0) + api[state][date][k]['confirmed']\n",
    "            api['TT'][date][k]['deceased'] = api['TT'][date][k].get('deceased', 0) + api[state][date][k]['deceased']\n",
    "            api['TT'][date][k]['recovered'] = api['TT'][date][k].get('recovered', 0) + api[state][date][k]['recovered']\n",
    "            api['TT'][date][k]['active'] = api['TT'][date][k].get('active', 0) + api[state][date][k]['active']\n",
    "\n",
    "with open(\"predictions_tt.json\", \"w\") as f:\n",
    "    f.write(json.dumps(api, sort_keys=True))"
   ]
  }
 ],
 "metadata": {
  "kernelspec": {
   "display_name": "Python 3",
   "language": "python",
   "name": "python3"
  },
  "language_info": {
   "codemirror_mode": {
    "name": "ipython",
    "version": 3
   },
   "file_extension": ".py",
   "mimetype": "text/x-python",
   "name": "python",
   "nbconvert_exporter": "python",
   "pygments_lexer": "ipython3",
   "version": "3.7.3"
  }
 },
 "nbformat": 4,
 "nbformat_minor": 4
}
